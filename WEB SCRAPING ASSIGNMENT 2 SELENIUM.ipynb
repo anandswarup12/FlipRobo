{
 "cells": [
  {
   "cell_type": "markdown",
   "metadata": {},
   "source": [
    "# ASSIGNMENT NO 2"
   ]
  },
  {
   "cell_type": "markdown",
   "metadata": {},
   "source": [
    "Q1: Write a python program to scrape data for “Data Analyst” Job position in\n",
    "“Bangalore” location. You have to scrape the job-title, job-location, company_name,\n",
    "experience_required. You have to scrape first 10 jobs data.\n",
    "This task will be done in following steps:\n",
    "1. first get the webpage https://www.naukri.com/\n",
    "2. Enter “Data Analyst” in “Skill,Designations,Companies” field and enter “Bangalore”\n",
    "in “enter the location” field.\n",
    "3. Then click the search button.\n",
    "4. Then scrape the data for the first 10 jobs results you get.\n",
    "5. Finally create a dataframe of the scraped data."
   ]
  },
  {
   "cell_type": "code",
   "execution_count": 1,
   "metadata": {},
   "outputs": [],
   "source": [
    "import selenium\n",
    "import pandas as pd\n",
    "import numpy as np\n",
    "from selenium import webdriver\n",
    "import warnings\n",
    "warnings.filterwarnings('ignore')"
   ]
  },
  {
   "cell_type": "code",
   "execution_count": 2,
   "metadata": {},
   "outputs": [],
   "source": [
    "driver = webdriver.Chrome(r\"C://chromedriver.exe\")"
   ]
  },
  {
   "cell_type": "code",
   "execution_count": 3,
   "metadata": {},
   "outputs": [],
   "source": [
    "driver.get(\"https://www.naukri.com/\")"
   ]
  },
  {
   "cell_type": "code",
   "execution_count": 4,
   "metadata": {},
   "outputs": [],
   "source": [
    "search_job=driver.find_element_by_id('qsb-keyword-sugg')\n",
    "search_job.send_keys('Data Analyst')\n",
    "search_loc=driver.find_element_by_xpath(\"//input[@id='qsb-location-sugg']\")\n",
    "search_loc.send_keys('Bangalore')"
   ]
  },
  {
   "cell_type": "code",
   "execution_count": 5,
   "metadata": {},
   "outputs": [],
   "source": [
    "search_btn=driver.find_element_by_xpath(\"//div[@class='search-btn']/button\")\n",
    "search_btn.click()"
   ]
  },
  {
   "cell_type": "code",
   "execution_count": 6,
   "metadata": {},
   "outputs": [],
   "source": [
    "url=\"https://www.naukri.com/data-analyst-jobs-in-bangalore?k=data%20analyst&l=bangalore\""
   ]
  },
  {
   "cell_type": "code",
   "execution_count": 7,
   "metadata": {},
   "outputs": [],
   "source": [
    "driver.get(url)"
   ]
  },
  {
   "cell_type": "code",
   "execution_count": 8,
   "metadata": {},
   "outputs": [],
   "source": [
    "job_title=[]\n",
    "company_name=[]\n",
    "location_list=[]\n",
    "experience_required=[]"
   ]
  },
  {
   "cell_type": "code",
   "execution_count": 9,
   "metadata": {},
   "outputs": [
    {
     "data": {
      "text/plain": [
       "[<selenium.webdriver.remote.webelement.WebElement (session=\"50eb4c4cb337cb4756e4a0a566985949\", element=\"40c18aae-0858-4123-bc7b-4f610f0e96d4\")>,\n",
       " <selenium.webdriver.remote.webelement.WebElement (session=\"50eb4c4cb337cb4756e4a0a566985949\", element=\"8a38b019-3149-451d-ade1-5b8bc0aa8359\")>,\n",
       " <selenium.webdriver.remote.webelement.WebElement (session=\"50eb4c4cb337cb4756e4a0a566985949\", element=\"c1b737c0-ae08-4300-ad1a-aea40f4329ce\")>,\n",
       " <selenium.webdriver.remote.webelement.WebElement (session=\"50eb4c4cb337cb4756e4a0a566985949\", element=\"16805cc3-d6a7-4aea-9ca4-2fea691f229d\")>]"
      ]
     },
     "execution_count": 9,
     "metadata": {},
     "output_type": "execute_result"
    }
   ],
   "source": [
    "title_tags=driver.find_elements_by_xpath(\"//a[@class='title fw500 ellipsis']\")\n",
    "title_tags[0:4]"
   ]
  },
  {
   "cell_type": "code",
   "execution_count": 10,
   "metadata": {},
   "outputs": [
    {
     "data": {
      "text/plain": [
       "['Azure Data Analyst', 'Data Analyst', 'Data Analyst', 'Data Analyst']"
      ]
     },
     "execution_count": 10,
     "metadata": {},
     "output_type": "execute_result"
    }
   ],
   "source": [
    "for i in title_tags:\n",
    "    title=i.text\n",
    "    job_title.append(title)\n",
    "    \n",
    "job_title[0:4]"
   ]
  },
  {
   "cell_type": "code",
   "execution_count": 11,
   "metadata": {},
   "outputs": [
    {
     "data": {
      "text/plain": [
       "[<selenium.webdriver.remote.webelement.WebElement (session=\"50eb4c4cb337cb4756e4a0a566985949\", element=\"c6c565a2-7c0f-44f4-8caf-9681757cbdd5\")>,\n",
       " <selenium.webdriver.remote.webelement.WebElement (session=\"50eb4c4cb337cb4756e4a0a566985949\", element=\"f6e685dc-9c12-4de8-9d16-57f690443b20\")>,\n",
       " <selenium.webdriver.remote.webelement.WebElement (session=\"50eb4c4cb337cb4756e4a0a566985949\", element=\"2c73b461-5821-4781-a9ab-3b10ab4d625d\")>,\n",
       " <selenium.webdriver.remote.webelement.WebElement (session=\"50eb4c4cb337cb4756e4a0a566985949\", element=\"149d43ae-0bfc-4fc7-9012-8f376b078595\")>]"
      ]
     },
     "execution_count": 11,
     "metadata": {},
     "output_type": "execute_result"
    }
   ],
   "source": [
    "company_tags=driver.find_elements_by_xpath(\"//a[@class='subTitle ellipsis fleft']\")\n",
    "company_tags[0:4]"
   ]
  },
  {
   "cell_type": "code",
   "execution_count": 12,
   "metadata": {},
   "outputs": [
    {
     "data": {
      "text/plain": [
       "['Capgemini Technology Services India Limited',\n",
       " 'RedLock, Inc',\n",
       " 'Super India Tech Mark',\n",
       " 'tech mahindra ltd']"
      ]
     },
     "execution_count": 12,
     "metadata": {},
     "output_type": "execute_result"
    }
   ],
   "source": [
    "for i in company_tags:\n",
    "    company=i.text\n",
    "    company_name.append(company)\n",
    "\n",
    "company_name[0:4]"
   ]
  },
  {
   "cell_type": "code",
   "execution_count": 13,
   "metadata": {},
   "outputs": [
    {
     "data": {
      "text/plain": [
       "[<selenium.webdriver.remote.webelement.WebElement (session=\"50eb4c4cb337cb4756e4a0a566985949\", element=\"4c01f64a-e0d1-4ff4-8bed-f201b4fd2881\")>,\n",
       " <selenium.webdriver.remote.webelement.WebElement (session=\"50eb4c4cb337cb4756e4a0a566985949\", element=\"0ff88471-deb2-4ad5-9e19-9dba46a8be9a\")>,\n",
       " <selenium.webdriver.remote.webelement.WebElement (session=\"50eb4c4cb337cb4756e4a0a566985949\", element=\"29df99aa-564f-4873-9cde-d717abd5f38e\")>,\n",
       " <selenium.webdriver.remote.webelement.WebElement (session=\"50eb4c4cb337cb4756e4a0a566985949\", element=\"638855a7-20b5-4406-85bd-bc4c42564eaa\")>]"
      ]
     },
     "execution_count": 13,
     "metadata": {},
     "output_type": "execute_result"
    }
   ],
   "source": [
    "location_tags=driver.find_elements_by_xpath(\"//li[@class='fleft grey-text br2 placeHolderLi location']/span[1]\")\n",
    "location_tags[0:4]"
   ]
  },
  {
   "cell_type": "code",
   "execution_count": 14,
   "metadata": {},
   "outputs": [
    {
     "data": {
      "text/plain": [
       "['Bangalore/Bengaluru',\n",
       " 'Bangalore/Bengaluru',\n",
       " 'Bangalore/Bengaluru(Devalapur)',\n",
       " 'Bangalore/Bengaluru']"
      ]
     },
     "execution_count": 14,
     "metadata": {},
     "output_type": "execute_result"
    }
   ],
   "source": [
    "for i in location_tags:\n",
    "    location=i.text\n",
    "    location_list.append(location)\n",
    "    \n",
    "location_list[0:4]"
   ]
  },
  {
   "cell_type": "code",
   "execution_count": 15,
   "metadata": {},
   "outputs": [
    {
     "data": {
      "text/plain": [
       "[<selenium.webdriver.remote.webelement.WebElement (session=\"50eb4c4cb337cb4756e4a0a566985949\", element=\"651fc3a0-f830-4b92-a7fe-7e3ff54cf617\")>,\n",
       " <selenium.webdriver.remote.webelement.WebElement (session=\"50eb4c4cb337cb4756e4a0a566985949\", element=\"6c66c9a0-0e12-4861-9084-79ba8f6fddfe\")>,\n",
       " <selenium.webdriver.remote.webelement.WebElement (session=\"50eb4c4cb337cb4756e4a0a566985949\", element=\"f753a6d5-ce79-4799-a7a5-3a9e979a82b2\")>,\n",
       " <selenium.webdriver.remote.webelement.WebElement (session=\"50eb4c4cb337cb4756e4a0a566985949\", element=\"bb8cdc5d-2c44-4c9d-82fe-e708f438f460\")>]"
      ]
     },
     "execution_count": 15,
     "metadata": {},
     "output_type": "execute_result"
    }
   ],
   "source": [
    "experience_tags=driver.find_elements_by_xpath(\"//li[@class='fleft grey-text br2 placeHolderLi experience']/span[1]\")\n",
    "experience_tags[0:4]"
   ]
  },
  {
   "cell_type": "code",
   "execution_count": 16,
   "metadata": {},
   "outputs": [
    {
     "data": {
      "text/plain": [
       "['6-8 Yrs', '0-0 Yrs', '0-2 Yrs', '4-8 Yrs']"
      ]
     },
     "execution_count": 16,
     "metadata": {},
     "output_type": "execute_result"
    }
   ],
   "source": [
    "for i in experience_tags:\n",
    "    experience=i.text\n",
    "    experience_required.append(experience)\n",
    "    \n",
    "experience_required[0:4]"
   ]
  },
  {
   "cell_type": "code",
   "execution_count": 17,
   "metadata": {},
   "outputs": [
    {
     "name": "stdout",
     "output_type": "stream",
     "text": [
      "20 20 20 20\n"
     ]
    }
   ],
   "source": [
    "print(len(job_title),len(company_name),len(location_list),len(experience_required))"
   ]
  },
  {
   "cell_type": "code",
   "execution_count": 18,
   "metadata": {},
   "outputs": [],
   "source": [
    "jobs=pd.DataFrame({})\n",
    "jobs['Job_Title']=job_title[:10]\n",
    "jobs['Company_Name']=company_name[:10]\n",
    "jobs['Location_List']=location_list[:10]\n",
    "jobs['Experience_Required']=experience_required[:10]"
   ]
  },
  {
   "cell_type": "code",
   "execution_count": 19,
   "metadata": {},
   "outputs": [
    {
     "data": {
      "text/html": [
       "<div>\n",
       "<style scoped>\n",
       "    .dataframe tbody tr th:only-of-type {\n",
       "        vertical-align: middle;\n",
       "    }\n",
       "\n",
       "    .dataframe tbody tr th {\n",
       "        vertical-align: top;\n",
       "    }\n",
       "\n",
       "    .dataframe thead th {\n",
       "        text-align: right;\n",
       "    }\n",
       "</style>\n",
       "<table border=\"1\" class=\"dataframe\">\n",
       "  <thead>\n",
       "    <tr style=\"text-align: right;\">\n",
       "      <th></th>\n",
       "      <th>Job_Title</th>\n",
       "      <th>Company_Name</th>\n",
       "      <th>Location_List</th>\n",
       "      <th>Experience_Required</th>\n",
       "    </tr>\n",
       "  </thead>\n",
       "  <tbody>\n",
       "    <tr>\n",
       "      <th>0</th>\n",
       "      <td>Azure Data Analyst</td>\n",
       "      <td>Capgemini Technology Services India Limited</td>\n",
       "      <td>Bangalore/Bengaluru</td>\n",
       "      <td>6-8 Yrs</td>\n",
       "    </tr>\n",
       "    <tr>\n",
       "      <th>1</th>\n",
       "      <td>Data Analyst</td>\n",
       "      <td>RedLock, Inc</td>\n",
       "      <td>Bangalore/Bengaluru</td>\n",
       "      <td>0-0 Yrs</td>\n",
       "    </tr>\n",
       "    <tr>\n",
       "      <th>2</th>\n",
       "      <td>Data Analyst</td>\n",
       "      <td>Super India Tech Mark</td>\n",
       "      <td>Bangalore/Bengaluru(Devalapur)</td>\n",
       "      <td>0-2 Yrs</td>\n",
       "    </tr>\n",
       "    <tr>\n",
       "      <th>3</th>\n",
       "      <td>Data Analyst</td>\n",
       "      <td>tech mahindra ltd</td>\n",
       "      <td>Bangalore/Bengaluru</td>\n",
       "      <td>4-8 Yrs</td>\n",
       "    </tr>\n",
       "    <tr>\n",
       "      <th>4</th>\n",
       "      <td>Data Analyst</td>\n",
       "      <td>CONDUENT BUSINESS SERVICES INDIA LLP</td>\n",
       "      <td>Bangalore/Bengaluru</td>\n",
       "      <td>1-2 Yrs</td>\n",
       "    </tr>\n",
       "    <tr>\n",
       "      <th>5</th>\n",
       "      <td>Data Analyst</td>\n",
       "      <td>GlaxoSmithKline Pharmaceuticals Limited</td>\n",
       "      <td>Bangalore/Bengaluru</td>\n",
       "      <td>2-7 Yrs</td>\n",
       "    </tr>\n",
       "    <tr>\n",
       "      <th>6</th>\n",
       "      <td>Data Analyst</td>\n",
       "      <td>Myntra Designs Pvt. Ltd.</td>\n",
       "      <td>Bangalore/Bengaluru</td>\n",
       "      <td>3-6 Yrs</td>\n",
       "    </tr>\n",
       "    <tr>\n",
       "      <th>7</th>\n",
       "      <td>Data Analyst</td>\n",
       "      <td>Myntra Designs Pvt. Ltd.</td>\n",
       "      <td>Bangalore/Bengaluru</td>\n",
       "      <td>4-8 Yrs</td>\n",
       "    </tr>\n",
       "    <tr>\n",
       "      <th>8</th>\n",
       "      <td>Data Analyst</td>\n",
       "      <td>Myntra Designs Pvt. Ltd.</td>\n",
       "      <td>Bangalore/Bengaluru</td>\n",
       "      <td>3-8 Yrs</td>\n",
       "    </tr>\n",
       "    <tr>\n",
       "      <th>9</th>\n",
       "      <td>Data Analyst</td>\n",
       "      <td>Myntra Designs Pvt. Ltd.</td>\n",
       "      <td>Bangalore/Bengaluru</td>\n",
       "      <td>4-8 Yrs</td>\n",
       "    </tr>\n",
       "  </tbody>\n",
       "</table>\n",
       "</div>"
      ],
      "text/plain": [
       "            Job_Title                                 Company_Name  \\\n",
       "0  Azure Data Analyst  Capgemini Technology Services India Limited   \n",
       "1        Data Analyst                                 RedLock, Inc   \n",
       "2        Data Analyst                        Super India Tech Mark   \n",
       "3        Data Analyst                            tech mahindra ltd   \n",
       "4        Data Analyst         CONDUENT BUSINESS SERVICES INDIA LLP   \n",
       "5        Data Analyst      GlaxoSmithKline Pharmaceuticals Limited   \n",
       "6        Data Analyst                     Myntra Designs Pvt. Ltd.   \n",
       "7        Data Analyst                     Myntra Designs Pvt. Ltd.   \n",
       "8        Data Analyst                     Myntra Designs Pvt. Ltd.   \n",
       "9        Data Analyst                     Myntra Designs Pvt. Ltd.   \n",
       "\n",
       "                    Location_List Experience_Required  \n",
       "0             Bangalore/Bengaluru             6-8 Yrs  \n",
       "1             Bangalore/Bengaluru             0-0 Yrs  \n",
       "2  Bangalore/Bengaluru(Devalapur)             0-2 Yrs  \n",
       "3             Bangalore/Bengaluru             4-8 Yrs  \n",
       "4             Bangalore/Bengaluru             1-2 Yrs  \n",
       "5             Bangalore/Bengaluru             2-7 Yrs  \n",
       "6             Bangalore/Bengaluru             3-6 Yrs  \n",
       "7             Bangalore/Bengaluru             4-8 Yrs  \n",
       "8             Bangalore/Bengaluru             3-8 Yrs  \n",
       "9             Bangalore/Bengaluru             4-8 Yrs  "
      ]
     },
     "execution_count": 19,
     "metadata": {},
     "output_type": "execute_result"
    }
   ],
   "source": [
    "jobs"
   ]
  },
  {
   "cell_type": "markdown",
   "metadata": {},
   "source": [
    "Q2: Write a python program to scrape data for “Data Scientist” Job position in\n",
    "“Bangalore” location. You have to scrape the job-title, job-location,\n",
    "company_name, full job-description. You have to scrape first 10 jobs data.\n",
    "This task will be done in following steps:\n",
    "1. first get the webpage https://www.naukri.com/\n",
    "2. Enter “Data Scientist” in “Skill,Designations,Companies” field and enter\n",
    "“Bangalore” in “enter the location” field.\n",
    "3. Then click the search button.\n",
    "4. Then scrape the data for the first 10 jobs results you get.\n",
    "5. Finally create a dataframe of the scraped data.\n"
   ]
  },
  {
   "cell_type": "code",
   "execution_count": 20,
   "metadata": {},
   "outputs": [],
   "source": [
    "driver = webdriver.Chrome(r\"C://chromedriver.exe\")"
   ]
  },
  {
   "cell_type": "code",
   "execution_count": 21,
   "metadata": {},
   "outputs": [],
   "source": [
    "driver.get(\"https://www.naukri.com/\")"
   ]
  },
  {
   "cell_type": "code",
   "execution_count": 22,
   "metadata": {},
   "outputs": [],
   "source": [
    "search_job=driver.find_element_by_id(\"qsb-keyword-sugg\")\n",
    "search_job.send_keys(\"Data Scientist\")\n",
    "search_loc=driver.find_element_by_xpath(\"//input[@id='qsb-location-sugg']\")\n",
    "search_loc.send_keys(\"Bangalore\")"
   ]
  },
  {
   "cell_type": "code",
   "execution_count": 23,
   "metadata": {},
   "outputs": [],
   "source": [
    "search_btn=driver.find_element_by_xpath(\"//div[@class='search-btn']/button\")\n",
    "search_btn.click()"
   ]
  },
  {
   "cell_type": "code",
   "execution_count": 24,
   "metadata": {},
   "outputs": [],
   "source": [
    "url=\"https://www.naukri.com/data-scientist-jobs-in-bangalore?k=data%20scientist&l=bangalore\""
   ]
  },
  {
   "cell_type": "code",
   "execution_count": 25,
   "metadata": {},
   "outputs": [],
   "source": [
    "driver.get(url)"
   ]
  },
  {
   "cell_type": "code",
   "execution_count": 26,
   "metadata": {},
   "outputs": [],
   "source": [
    "job_titles=[]\n",
    "company_name=[]\n",
    "location_list=[]\n",
    "full_job_description=[]"
   ]
  },
  {
   "cell_type": "code",
   "execution_count": 27,
   "metadata": {},
   "outputs": [
    {
     "data": {
      "text/plain": [
       "[<selenium.webdriver.remote.webelement.WebElement (session=\"3ba152a0ca15a7e8e7a8649995636f78\", element=\"3b819a39-0e4c-4dc6-b73d-5f0f3efaf454\")>,\n",
       " <selenium.webdriver.remote.webelement.WebElement (session=\"3ba152a0ca15a7e8e7a8649995636f78\", element=\"6a688e1e-da7b-46a7-99b0-7cbc20574ecc\")>,\n",
       " <selenium.webdriver.remote.webelement.WebElement (session=\"3ba152a0ca15a7e8e7a8649995636f78\", element=\"0f9ca559-c31a-45cf-8c5a-aa8bcd3b5148\")>,\n",
       " <selenium.webdriver.remote.webelement.WebElement (session=\"3ba152a0ca15a7e8e7a8649995636f78\", element=\"c98bdc1c-f398-49e2-aa3f-b99fe9d14dc8\")>]"
      ]
     },
     "execution_count": 27,
     "metadata": {},
     "output_type": "execute_result"
    }
   ],
   "source": [
    "title_tags=driver.find_elements_by_xpath(\"//a[@class='title fw500 ellipsis']\")\n",
    "title_tags[0:4]"
   ]
  },
  {
   "cell_type": "code",
   "execution_count": 28,
   "metadata": {},
   "outputs": [
    {
     "data": {
      "text/plain": [
       "['Data Scientist',\n",
       " 'Opportunity For Data Scientist Internship - Bengaluru',\n",
       " 'Data Scientist - Machine Learning',\n",
       " 'Data Scientist || Data Analyst || Data science']"
      ]
     },
     "execution_count": 28,
     "metadata": {},
     "output_type": "execute_result"
    }
   ],
   "source": [
    "for i in title_tags:\n",
    "    title=i.text\n",
    "    job_titles.append(title)\n",
    "    \n",
    "job_titles[0:4]"
   ]
  },
  {
   "cell_type": "code",
   "execution_count": 29,
   "metadata": {},
   "outputs": [
    {
     "data": {
      "text/plain": [
       "[<selenium.webdriver.remote.webelement.WebElement (session=\"3ba152a0ca15a7e8e7a8649995636f78\", element=\"0056e610-3b10-4b97-8cda-767a70c97f0b\")>,\n",
       " <selenium.webdriver.remote.webelement.WebElement (session=\"3ba152a0ca15a7e8e7a8649995636f78\", element=\"2063a914-e502-4547-8754-5a68b3148348\")>,\n",
       " <selenium.webdriver.remote.webelement.WebElement (session=\"3ba152a0ca15a7e8e7a8649995636f78\", element=\"9b8d1519-ff88-475d-9ad4-9715793abc51\")>,\n",
       " <selenium.webdriver.remote.webelement.WebElement (session=\"3ba152a0ca15a7e8e7a8649995636f78\", element=\"38a25532-9787-4b3a-99b1-4d2f52f8e55e\")>]"
      ]
     },
     "execution_count": 29,
     "metadata": {},
     "output_type": "execute_result"
    }
   ],
   "source": [
    "companies_tags=driver.find_elements_by_xpath(\"//a[@class='subTitle ellipsis fleft']\")\n",
    "companies_tags[0:4]"
   ]
  },
  {
   "cell_type": "code",
   "execution_count": 30,
   "metadata": {},
   "outputs": [
    {
     "data": {
      "text/plain": [
       "['CronJ IT Technologies Private Limited',\n",
       " 'Corner Stone Solutions',\n",
       " 'AugmatrixGo',\n",
       " 'Inspiration Manpower Consultancy Pvt. Ltd.']"
      ]
     },
     "execution_count": 30,
     "metadata": {},
     "output_type": "execute_result"
    }
   ],
   "source": [
    "for i in companies_tags:\n",
    "    company=i.text\n",
    "    company_name.append(company)\n",
    "    \n",
    "company_name[0:4]"
   ]
  },
  {
   "cell_type": "code",
   "execution_count": 31,
   "metadata": {},
   "outputs": [
    {
     "data": {
      "text/plain": [
       "[<selenium.webdriver.remote.webelement.WebElement (session=\"3ba152a0ca15a7e8e7a8649995636f78\", element=\"98011cdc-40f6-4ae2-a937-49aa180511c9\")>,\n",
       " <selenium.webdriver.remote.webelement.WebElement (session=\"3ba152a0ca15a7e8e7a8649995636f78\", element=\"71a41581-a556-4310-ad70-66f00f118699\")>,\n",
       " <selenium.webdriver.remote.webelement.WebElement (session=\"3ba152a0ca15a7e8e7a8649995636f78\", element=\"1eef9e8f-7ed0-4814-a9c3-b5325ca4755e\")>,\n",
       " <selenium.webdriver.remote.webelement.WebElement (session=\"3ba152a0ca15a7e8e7a8649995636f78\", element=\"c1071a05-67cc-4458-942a-b207e57b0c8e\")>]"
      ]
     },
     "execution_count": 31,
     "metadata": {},
     "output_type": "execute_result"
    }
   ],
   "source": [
    "location_tags=driver.find_elements_by_xpath(\"//li[@class='fleft grey-text br2 placeHolderLi location']/span[1]\")\n",
    "location_tags[0:4]"
   ]
  },
  {
   "cell_type": "code",
   "execution_count": 32,
   "metadata": {},
   "outputs": [
    {
     "data": {
      "text/plain": [
       "['Bangalore/Bengaluru',\n",
       " 'Bangalore/Bengaluru',\n",
       " 'Bangalore/Bengaluru',\n",
       " 'Navi Mumbai, Bangalore/Bengaluru']"
      ]
     },
     "execution_count": 32,
     "metadata": {},
     "output_type": "execute_result"
    }
   ],
   "source": [
    "for i in location_tags:\n",
    "    location=i.text\n",
    "    location_list.append(location)\n",
    "    \n",
    "location_list[0:4]"
   ]
  },
  {
   "cell_type": "code",
   "execution_count": 33,
   "metadata": {},
   "outputs": [],
   "source": [
    "href1=[]\n",
    "\n",
    "for elem in title_tags:\n",
    "    href = elem.get_attribute('href')\n",
    "    if href is not None:\n",
    "        href1.append(href)"
   ]
  },
  {
   "cell_type": "code",
   "execution_count": 34,
   "metadata": {},
   "outputs": [
    {
     "data": {
      "text/plain": [
       "['https://www.naukri.com/job-listings-data-scientist-cronj-it-technologies-private-limited-bangalore-bengaluru-0-to-1-years-310321002339?src=jobsearchDesk&sid=16178574285056767&xp=1&px=1',\n",
       " 'https://www.naukri.com/job-listings-opportunity-for-data-scientist-internship-bengaluru-corner-stone-solutions-bangalore-bengaluru-0-to-1-years-240620007489?src=jobsearchDesk&sid=16178574285056767&xp=2&px=1',\n",
       " 'https://www.naukri.com/job-listings-data-scientist-machine-learning-augmatrixgo-bangalore-bengaluru-2-to-5-years-140121905423?src=jobsearchDesk&sid=16178574285056767&xp=3&px=1',\n",
       " 'https://www.naukri.com/job-listings-data-scientist-data-analyst-data-science-inspiration-manpower-consultancy-pvt-ltd-navi-mumbai-bangalore-bengaluru-6-to-11-years-250321005167?src=jobsearchDesk&sid=16178574285056767&xp=4&px=1',\n",
       " 'https://www.naukri.com/job-listings-data-scientist-ibm-garage-ibm-india-pvt-limited-noida-hyderabad-secunderabad-bangalore-bengaluru-5-to-8-years-060421902058?src=jobsearchDesk&sid=16178574285056767&xp=5&px=1',\n",
       " 'https://www.naukri.com/job-listings-gamma-lead-data-scientist-boston-consulting-group-mumbai-new-delhi-chennai-bangalore-bengaluru-7-to-12-years-070421500217?src=jobsearchDesk&sid=16178574285056767&xp=6&px=1',\n",
       " 'https://www.naukri.com/job-listings-dbcg-ind-gamma-senior-data-scientist-boston-consulting-group-mumbai-new-delhi-chennai-bangalore-bengaluru-6-to-10-years-020421500121?src=jobsearchDesk&sid=16178574285056767&xp=7&px=1',\n",
       " 'https://www.naukri.com/job-listings-data-scientist-senior-data-scientist-ganit-business-solutions-private-limited-hyderabad-secunderabad-pune-chennai-bangalore-bengaluru-mumbai-all-areas-4-to-8-years-290321001979?src=jobsearchDesk&sid=16178574285056767&xp=8&px=1',\n",
       " 'https://www.naukri.com/job-listings-senior-data-scientist-ces-it-ltd-cmmi-level-5-ces-ltd-kolkata-mumbai-hyderabad-secunderabad-pune-chennai-bangalore-bengaluru-delhi-ncr-2-to-7-years-151220006902?src=jobsearchDesk&sid=16178574285056767&xp=9&px=1',\n",
       " 'https://www.naukri.com/job-listings-global-medical-data-scientist-glaxosmithkline-pharmaceuticals-limited-bangalore-bengaluru-5-to-10-years-240321907599?src=jobsearchDesk&sid=16178574285056767&xp=10&px=1']"
      ]
     },
     "execution_count": 34,
     "metadata": {},
     "output_type": "execute_result"
    }
   ],
   "source": [
    "href2=href1[0:10]\n",
    "href2"
   ]
  },
  {
   "cell_type": "code",
   "execution_count": 35,
   "metadata": {},
   "outputs": [],
   "source": [
    "for i in href2:\n",
    "    driver.get(i)\n",
    "    job3=driver.find_elements_by_xpath(\"//div[@class='dang-inner-html']\")\n",
    "    for j in job3:\n",
    "        dis=j.text.replace('\\n', '')\n",
    "    if dis==np.nan:\n",
    "        dis.fillna(method='ffill')\n",
    "    else:\n",
    "        full_job_description.append(dis)"
   ]
  },
  {
   "cell_type": "code",
   "execution_count": 36,
   "metadata": {},
   "outputs": [
    {
     "data": {
      "text/plain": [
       "['Responsibilities and DutiesCreate innovative solutions using data across sales, health care and related fields for building object detection models, classification models, recommendation engine, sentiment analysis etc.Familiarity with deep learning algorithms and frameworks like TensorFlow, Pytorch, Keras.Good to go with NLP and NLTKDay-to-day responsibilities include use, customize and create algorithms/models for specific tasks in data science.Get exposed to and work on cutting-edge products based on ML and AI to create innovative industry solutions.Work on real-life projects involving Computer Vision, NLP and other AI techniques,Using innovative ideas to collect, curate or synthesize data.Model the problem into an ML/DL framework.Deploy models to real time staging servers.Flexibility in working independently and do needful research whenever required.Required Experience, Skills and QualificationsKnowledge of PythonKnowledge in libraries like OpenCV, Scikit Learn, NumPy etc.ScriptingUnderstanding of different frameworks like Pytorch, TensorFlow, Keras etc.Knowledge on NLPGood Knowledge on OOP and programing in python adapting to requirementUnderstanding of AWS.Understanding of any annotation tool.Ability to write robust and testable code.Strong knowledge in computer science fundamentals, algorithms, mathematics, linear algebra, probability and statistics.Strong communication skills.An analytical mind with problem-solving abilities.Degree in Computer Science, Mathematics, Computational Linguistics or similar field.',\n",
       " 'Location - Bangalore / BengaluruDuration- 6 MonthsResponsibilities and DutiesCreate innovative solutions using data across sales, health care and related fields for building object detection models, chatbots, classification models etc.Familiarity with deep learning algorithms and frameworks like Pytorch, Keras, TensorFlow.Good to go with NLP and NLTKDay-to-day responsibilities include use, customize and create algorithms for specific tasks in data science.Get exposed to and work on cutting-edge products based on ML and AI to create innovative industry solutions..Work on real-life projects involving Computer Vision, NLP and other AI techniques,Using innovative ideas to collect, curate or synthesize data.Model the problem into an ML/DL framework.Deploy models to real time staging servers.Flexibility in working independently and do needful research whenever required.Required Experience, Skills and QualificationsKnowledge of PythonKnowledge in libraries like OpenCV, Scikit Learn, NumPy etc.Understanding of different frameworks like Pytorch, TensorFlow, Keras etc.Knowledge on NLPGood Knowledge on OOP and programing in python adapting to requirementUnderstanding of awsUnderstanding of any annotation toolAbility to write robust and testable code.Strong knowledge in computer science fundamentals, algorithms, mathematics, linear algebra, probability and statistics.Strong communication skills.An analytical mind with problem-solving abilities.Degree in Computer Science, Mathematics, Computational Linguistics or similar field.Qualification:Looking for IIT, IIIT IISc, NIT, BIT & Equivalent colleges (Preferred)',\n",
       " 'Roles and Responsibilities- Selecting features, building and optimizing classifiers using machine learning techniques- Data mining using state-of-the-art methods- Enhancing data collection procedures to include information that is relevant for building analytic systems- Processing, cleansing, and verifying the integrity of data used for analysis- Doing ad-hoc analysis and presenting results in a clear manner- Creating automated anomaly detection systems and constant tracking of its performanceSkills Required :- Excellent understanding of machine learning techniques and algorithms, such as k-NN, Naive Bayes, SVM, Decision Forests, etc.- Experiences with one or more of the following is highly desirable: HPC/Parallelization, operationalizing ML models; cloud computing (e.g. Google Cloud, AWS, etc.); familiarity with ML frameworks such as Tensorflow, Theano, MXNet, etc- Good experience in a few of the following areas: deep neural networks, reinforcement learning, Markov Random Fields, Bayesian networks, semi-supervised learning, computer vision, image processing, signal processing, distributed computing, and/or numerical optimization- 2+ years of experience with computer vision and deep learning solutions, including image classification, object detection, segmentation, and equivalent computer vision-based vision tasks- Experience with common data science toolkits, such as R, Weka, NumPy, etc . Excellence in at least one of these is highly desirable- Proficiency in using query languages such as SQL, Hive, Pig- Good applied statistics skills, such as distributions, statistical testing, regression, etc.- Good scripting and programming skills- Data-oriented personality- B.Tech/M.Tech degree in from reputed institutes like IIT / NIT / BITS',\n",
       " 'Job descriptionJob Summary and Key ResponsibilitiesManage, architect, and analyze big data to build data driven business insights and high impact data models to generate significant business value. Create models and processes to collect, distill and interpret data with a view to aid better, more informed decision making. Examine and explore data from multiple disparate sources with the goal of discovering insights which in turn can provide competitive advantage for our stakeholders.The role involves but not limited to the following:Create insights from predictive statistical modeling, mathematical knowledge, tools, and techniques to solve complex problems and deliver valueCollaborate with Accenture teams to address business issues and influence change using strategy, industry, and analytical skillsDeliver large-scale programs that integrate processes with technology to help clients achieve high performanceMining and EDA of large datasets to assist in developing analytics solutionIndividual contributor and/or oversees a small work effortWork with minimal supervision on daily tasks and moderate level of instruction on new assignmentsKey SkillsMust HaveAnalytical skillsKnowledge of statistical techniques and machine learning algorithmsKnowledge of analysis tools like R, PythonAdvanced Excel, PowerPoint skillsAdvanced communication (written and oral) and strong interpersonal skillsAbility to work cross-culturallyGood to haveKnowledge on Google Cloud PlatformHuman Resources experienceAdditional Accenture HR systems experienceUnderstanding of Text analysis, VBA, Java, Python, .Net and visualization tools like Qliksense, Qlikview, Tableau will be an added advantageInterested CandidatesPlease Contact: Geethanjali9900044693hr1@inspirationmanpower.co.in',\n",
       " 'Job descriptionJob Summary and Key ResponsibilitiesManage, architect, and analyze big data to build data driven business insights and high impact data models to generate significant business value. Create models and processes to collect, distill and interpret data with a view to aid better, more informed decision making. Examine and explore data from multiple disparate sources with the goal of discovering insights which in turn can provide competitive advantage for our stakeholders.The role involves but not limited to the following:Create insights from predictive statistical modeling, mathematical knowledge, tools, and techniques to solve complex problems and deliver valueCollaborate with Accenture teams to address business issues and influence change using strategy, industry, and analytical skillsDeliver large-scale programs that integrate processes with technology to help clients achieve high performanceMining and EDA of large datasets to assist in developing analytics solutionIndividual contributor and/or oversees a small work effortWork with minimal supervision on daily tasks and moderate level of instruction on new assignmentsKey SkillsMust HaveAnalytical skillsKnowledge of statistical techniques and machine learning algorithmsKnowledge of analysis tools like R, PythonAdvanced Excel, PowerPoint skillsAdvanced communication (written and oral) and strong interpersonal skillsAbility to work cross-culturallyGood to haveKnowledge on Google Cloud PlatformHuman Resources experienceAdditional Accenture HR systems experienceUnderstanding of Text analysis, VBA, Java, Python, .Net and visualization tools like Qliksense, Qlikview, Tableau will be an added advantageInterested CandidatesPlease Contact: Geethanjali9900044693hr1@inspirationmanpower.co.in',\n",
       " '  Practice Area ProfileBCG GAMMA combines innovative skills in computer science, artificial intelligence, statistics, and machine learning with deep industry expertise. The BCG GAMMA team is comprised of world-class data scientists and business consultants who specialize in the use of advanced analytics to get breakthrough business results. Our teams own the full analytics value-chain end to end: framing new business challenges, building fact-bases, designing innovative algorithms, creating scale through designing tools and apps, and training colleagues and clients in new solutions. Here at BCG GAMMA, you ll have the chance to work with clients in every BCG region and every industry area. We are also a core member of a rapidly growing analytics enterprise at BCG - a constellation of teams focused on driving practical results for BCG clients by applying leading edge analytics approaches, data, and technology.What Youll DoWe are seeking a strong candidate with advanced analytics experience to fill an exciting Lead Data Scientist (LDS) position within BCG Gamma. The LDS is a valuable expert in Data Science and Analytics and will design and build analytics methodologies, solutions, and products to deliver value to BCGs clients in collaboration with case teams. Exceptional candidates will also show an analytical curiosity, going beyond the immediate requirements of the project to find deep insights that others have missed. They will ask questions about outliers, seek to understand the fundamental drivers of advantage and look for clues that may change the basis of competition.The LDS will be involved in all aspects of advanced analytics, from helping to create relevant products and service offerings by working with priority global Practice Areas, to leading and executing analytics work and continuing to expand the analytical foundation and competitive value proposition. The LDS will collaborate directly client and wider BCG case teams and will manage the analytics components of client deliverables. The LDS is responsible for clarifying initial objectives, setting up analytics work plan and methodology, organizing the data scientist members of the team, quality assurance, and managing scope and work planning throughout the project.The LDS is expected to provide mentoring, coaching, and career development to (senior) analytics associate and data scientist team members on both a formal and informal basis.As the field of advanced analytics is rapidly evolving, the LDS is responsible for staying current on leading-edge business applications, tools and approaches, proactively working with the AnalyticsLeadership to enhance offerings that deliver competitive advantage to BCG.KEY COMPETENCIES:Deep Technical and Data Science Expertise : The successful candidate will have a wealth of experience with applying advanced analytics to a variety of business situations, such that they can efficiently and effectively advise multiple teams on the best path to uncovering critical insights for clients.Experience in core analytics methods (one or more of the following): Statistics (t-tests, ANOVA), variable reduction (FA, PCA), Segmentation/clustering techniques , Geographic cluster recognition and manipulation techniques, Predictive modeling: e.g. logistic regression, linear regression, Network analysis (location-allocation, travelling sales person, vehicle routing problem), Time series analysis: e.g. ARIMA, VAR, etc., Machine learning: e.g. LCA, Random Forest, neural networks, Spatio-temporal analysis, Time series analysis (ARIMA, VAR, etc.), Text mining unstructured data analytics, Simulation: e.g. MC, dynamic, discrete event, Optimization: e.g. linear programming, heuristicFamiliarity with a broad base of analytics tools (one or more of the following): Data management: e.g. Excel, SQL, PostGRESql, Hadoop/Hive, Alteryx, Analytics platforms: e.g. SAS, R, RapidMiner, SPSS, Data visualization: e.g. Tableau, GIS toolkits (ESRI, Quantum GIS, MapInfo or similar), ESRI Network Analyst, RouteSmart, RoadNet or similar, GPS data analysis a plus, Programming and/or scripting experience: e.g. Python, C#, VBA, Java, Perl, etc.Experience in applied analytics for business problem solving : Eg. Extensive experience building analytical solutions for (one or more of the following), Pricing and promotional effectiveness, Delivery fleet consolidation, Loyalty program effectiveness, Network real estate reorganization, Customer segmentation and targeting, Delivery footprint/territory expansion (or reduction), Customer LTV maximization, Cost modeling of transportation logistics operations, Churn prevention, Strong project management skills, Others a plusAnalytical and Conceptual thinking: A successful candidate will be able to conceptualize business problems and drive frameworks. The LDS will produce leading edge business models and must be able to work in a hypothesis-based environment where inductive rather than deductive thinking is the norm.Engagement Management and Work with Case Teams: The successful candidate will have demonstrated ability to manage engagements, client relationships, provide thought leadership to teams and able to act as a full member of a BCG project team. They must own analytical modules from work planning to creating impact. He/she must scope, manage and lead work for data science teams, providing expertise on methodology of advanced analytics. Strong presence, strong collaborator and leadership skills and ability to operate effectively in a matrix organization are a must.Client Relationship Management: The candidate with have a demonstrated ability to communicate effectively and professionally with clients, delivering impactful solutions and presenting work in a concise and thoughtful manner, while demonstrating technical expertise (fluency in English is required). Strong business focus with experience with 80/20 approaches.Analytics Innovation: Must be an autonomous self starter with a passion for analytics and problem solving. He/she will help build new Analytics service offerings that grow our portfolio of products and will captures proprietary content as well as analytics insights to the knowledge infrastructure. The candidate will support the creation of proposal/selling documents and provide perspective on relevant Analytics value propositions.Personnel Development: The successful candidate will have demonstrated ability to guide junior data scientists in their consulting skill sets, motivate them, and build the company s foundation for future growth. This will take place in both formal and ad-hoc settings.7 years of relevant industry work experience in a field linked to business analytics, statistics or geo- statistics, operations research, geography, applied mathematics, computer science, engineering, or related field Looking for individuals with deep technical and data science expertise, acute strategic and analytical skills, ability to lead and persuade, drive and energy, and desire to work in a project based environment on strategic issues. Strong record of professional accomplishment and leadership. Demonstrated ability to lead and manage projects and teams.',\n",
       " '    What Youll DoWe re looking for a passionate and talented Senior Data Scientist to join our rapidly growing team.In this role, you ll have the chance to roll up your sleeves and apply data science methods and analytics to real-world business situations across a variety of industries.As the field of advanced analytics is rapidly evolving, the SDS is responsible for staying current on leading-edge business applications, tools and approaches, proactively working with the Analytics Leadership to enhance offerings thatdeliver competitive advantage to BCG.Successful candidates are intellectually curious builders who are biased toward action, scrappy, and communicative.You will also get the chance to travel: we have clients across the globe Make sure your passport is ready to go! WHO YOU ARE. YOU:Have deep technical and Data Science expertise: The successful candidate will have a wealth of experience with applying advanced analytics to a variety of business situations, such that they can efficiently and effectively advise multiple teams on the best path to uncovering critical insights for clients.Are an autonomous self-starter with a passion for analytics and problem solving. You will help build new Analytics service offerings that grow our portfolio of products and will captures proprietary content, and support the creation of proposal/selling documents.Are comfortable managing engagements, client relationships, and acting as a thought Leader. Strong presence, strong collaborator and leadership skills and ability to operate effectively in a matrix organization are a must.Love building things and are comfortable working with modern development tools and writing code collaboratively (bonus points if you have a software development or DevOps experience)Have significant experience applying advanced analytics to a variety of business situations and a proven ability to synthesize complex data; as well as a deep understanding of modern machine learning techniques and their mathematical underpinnings, and are able to translate this into business implications for our clientsHave strong project management skillsMaster s Degree with significant relevant experience providing advanced analytics solutions, or relevant PhD in computer science, applied mathematics, statistics, machine learning, or a related data centric field.Demonstrated deep technical and data science expertise, acute strategic and analytical skills, ability to lead and persuade, drive and energy, and desire to work in a project based environment on strategic issues.Strong record of professional accomplishment and leadership.Fluency in at least one scripting language (e.g. Python, R)Fluency in English and local office language are requiredFast-paced, intellectually intense, service-oriented environmentPosition is located in either Chennai, Mumbai, Delhi-NCR or BengaluruExpect up to 60-80% of time spent traveling',\n",
       " 'About Ganit IncFounded by senior industry experts, Ganit is the fastest-growing data science company in Chennai with offices in Bengaluru, Mumbai & New Jersey.Ganit has flipped the data science value chain as we do not start with a technique but for us, consumption comes first. With this philosophy, we have successfully scaled from being a small start-up to a 200 resource company with clients in the US, Singapore, Africa, UAE, and India.We are looking for experienced data enthusiasts who can make the data talk to them.What you will be doing.Understand business problems and translate business requirements into technical requirements.Conduct complex data analysis to ensure data quality & reliability i.e., make the data talk by extracting, preparing, and transforming it.Identify, develop and implement statistical techniques and algorithms to address business challenges and add value to the organization.Gather requirements and communicate findings in the form of a meaningful story with the Stakeholders.Build & implement data models using predictive modeling techniques. Interact with clients and provide support for queries and delivery adoption.Lead and mentor data analysts.What we are looking for:Apart from your love for data and ability to code even while sleeping you would need the following.Minimum of 04 years of experience in designing and delivery of data science solutions.You should have successful projects in Manufacturing in your kitty to show-off. (Experience on manufacturing analytics is a MUST)Deep understanding of various statistical techniques, mathematical models, and algorithms to start the conversation with the data in hand.Ability to choose the right model for the data and translate that into a code using R, Python, VBA, SQL, etc.Bachelors/Masters degree in Engineering/Technology orMBA from Tier-1 B School orMSc. in Statistics or MathematicsWhat is in it for you:Be a part of building the biggest brand in Data science.An opportunity to be a part of a young and energetic team with a strong pedigree.Work on awesome projects across industries and learn from the best in the industry, while growing at a hyper rate.',\n",
       " 'Roles and ResponsibilitiesMust have strong Python Programming SkillsStrong analytical & algorithm development skillsLogical and Analytical skills must be really strongMust have worked in DeepLearning Efforts - Especially computer vision.Must have experinece with Object Detection - Custom model training for Object detectionShould have experience with atleast one or more of these - Tensorflow, Keras, PyTorchPrimary Skills - Python + tensorflow - Keras / PyTorch, OpenCVPerks and BenefitsKindly share your resume to kandavelkumar.lakshmanan @cesltd.com',\n",
       " 'Roles and ResponsibilitiesMust have strong Python Programming SkillsStrong analytical & algorithm development skillsLogical and Analytical skills must be really strongMust have worked in DeepLearning Efforts - Especially computer vision.Must have experinece with Object Detection - Custom model training for Object detectionShould have experience with atleast one or more of these - Tensorflow, Keras, PyTorchPrimary Skills - Python + tensorflow - Keras / PyTorch, OpenCVPerks and BenefitsKindly share your resume to kandavelkumar.lakshmanan @cesltd.com']"
      ]
     },
     "execution_count": 36,
     "metadata": {},
     "output_type": "execute_result"
    }
   ],
   "source": [
    "full_job_description"
   ]
  },
  {
   "cell_type": "code",
   "execution_count": 37,
   "metadata": {},
   "outputs": [
    {
     "name": "stdout",
     "output_type": "stream",
     "text": [
      "20 20 20 10\n"
     ]
    }
   ],
   "source": [
    "print(len(job_title),len(company_name),len(location_list),len(full_job_description))"
   ]
  },
  {
   "cell_type": "code",
   "execution_count": 38,
   "metadata": {},
   "outputs": [],
   "source": [
    "jobs2=pd.DataFrame({})\n",
    "jobs2['Job_Titles']=job_titles[:10]\n",
    "jobs2['Company_Names']=company_name[:10]\n",
    "jobs2['Location_List']=location_list[:10]\n",
    "jobs2['Full_Job_Description']=full_job_description"
   ]
  },
  {
   "cell_type": "code",
   "execution_count": 39,
   "metadata": {},
   "outputs": [
    {
     "data": {
      "text/html": [
       "<div>\n",
       "<style scoped>\n",
       "    .dataframe tbody tr th:only-of-type {\n",
       "        vertical-align: middle;\n",
       "    }\n",
       "\n",
       "    .dataframe tbody tr th {\n",
       "        vertical-align: top;\n",
       "    }\n",
       "\n",
       "    .dataframe thead th {\n",
       "        text-align: right;\n",
       "    }\n",
       "</style>\n",
       "<table border=\"1\" class=\"dataframe\">\n",
       "  <thead>\n",
       "    <tr style=\"text-align: right;\">\n",
       "      <th></th>\n",
       "      <th>Job_Titles</th>\n",
       "      <th>Company_Names</th>\n",
       "      <th>Location_List</th>\n",
       "      <th>Full_Job_Description</th>\n",
       "    </tr>\n",
       "  </thead>\n",
       "  <tbody>\n",
       "    <tr>\n",
       "      <th>0</th>\n",
       "      <td>Data Scientist</td>\n",
       "      <td>CronJ IT Technologies Private Limited</td>\n",
       "      <td>Bangalore/Bengaluru</td>\n",
       "      <td>Responsibilities and DutiesCreate innovative s...</td>\n",
       "    </tr>\n",
       "    <tr>\n",
       "      <th>1</th>\n",
       "      <td>Opportunity For Data Scientist Internship - Be...</td>\n",
       "      <td>Corner Stone Solutions</td>\n",
       "      <td>Bangalore/Bengaluru</td>\n",
       "      <td>Location - Bangalore / BengaluruDuration- 6 Mo...</td>\n",
       "    </tr>\n",
       "    <tr>\n",
       "      <th>2</th>\n",
       "      <td>Data Scientist - Machine Learning</td>\n",
       "      <td>AugmatrixGo</td>\n",
       "      <td>Bangalore/Bengaluru</td>\n",
       "      <td>Roles and Responsibilities- Selecting features...</td>\n",
       "    </tr>\n",
       "    <tr>\n",
       "      <th>3</th>\n",
       "      <td>Data Scientist || Data Analyst || Data science</td>\n",
       "      <td>Inspiration Manpower Consultancy Pvt. Ltd.</td>\n",
       "      <td>Navi Mumbai, Bangalore/Bengaluru</td>\n",
       "      <td>Job descriptionJob Summary and Key Responsibil...</td>\n",
       "    </tr>\n",
       "    <tr>\n",
       "      <th>4</th>\n",
       "      <td>Data Scientist - IBM Garage</td>\n",
       "      <td>IBM India Pvt. Limited</td>\n",
       "      <td>Noida, Hyderabad/Secunderabad, Bangalore/Benga...</td>\n",
       "      <td>Job descriptionJob Summary and Key Responsibil...</td>\n",
       "    </tr>\n",
       "    <tr>\n",
       "      <th>5</th>\n",
       "      <td>GAMMA Lead Data Scientist</td>\n",
       "      <td>Boston Consulting Group</td>\n",
       "      <td>Mumbai, New Delhi, Chennai, Bangalore/Bengaluru</td>\n",
       "      <td>Practice Area ProfileBCG GAMMA combines inno...</td>\n",
       "    </tr>\n",
       "    <tr>\n",
       "      <th>6</th>\n",
       "      <td>DBCG IND - GAMMA Senior Data Scientist</td>\n",
       "      <td>Boston Consulting Group</td>\n",
       "      <td>Mumbai, New Delhi, Chennai, Bangalore/Bengaluru</td>\n",
       "      <td>What Youll DoWe re looking for a passionat...</td>\n",
       "    </tr>\n",
       "    <tr>\n",
       "      <th>7</th>\n",
       "      <td>Data Scientist/Senior Data Scientist</td>\n",
       "      <td>GANIT BUSINESS SOLUTIONS PRIVATE LIMITED</td>\n",
       "      <td>Hyderabad/Secunderabad, Pune, Chennai, Bangalo...</td>\n",
       "      <td>About Ganit IncFounded by senior industry expe...</td>\n",
       "    </tr>\n",
       "    <tr>\n",
       "      <th>8</th>\n",
       "      <td>Senior Data Scientist | CES IT LTD | CMMI Level 5</td>\n",
       "      <td>CES Ltd.</td>\n",
       "      <td>Kolkata, Mumbai, Hyderabad/Secunderabad, Pune,...</td>\n",
       "      <td>Roles and ResponsibilitiesMust have strong Pyt...</td>\n",
       "    </tr>\n",
       "    <tr>\n",
       "      <th>9</th>\n",
       "      <td>Global Medical Data Scientist</td>\n",
       "      <td>GlaxoSmithKline Pharmaceuticals Limited</td>\n",
       "      <td>Bangalore/Bengaluru</td>\n",
       "      <td>Roles and ResponsibilitiesMust have strong Pyt...</td>\n",
       "    </tr>\n",
       "  </tbody>\n",
       "</table>\n",
       "</div>"
      ],
      "text/plain": [
       "                                          Job_Titles  \\\n",
       "0                                     Data Scientist   \n",
       "1  Opportunity For Data Scientist Internship - Be...   \n",
       "2                  Data Scientist - Machine Learning   \n",
       "3     Data Scientist || Data Analyst || Data science   \n",
       "4                        Data Scientist - IBM Garage   \n",
       "5                          GAMMA Lead Data Scientist   \n",
       "6             DBCG IND - GAMMA Senior Data Scientist   \n",
       "7               Data Scientist/Senior Data Scientist   \n",
       "8  Senior Data Scientist | CES IT LTD | CMMI Level 5   \n",
       "9                      Global Medical Data Scientist   \n",
       "\n",
       "                                Company_Names  \\\n",
       "0       CronJ IT Technologies Private Limited   \n",
       "1                      Corner Stone Solutions   \n",
       "2                                 AugmatrixGo   \n",
       "3  Inspiration Manpower Consultancy Pvt. Ltd.   \n",
       "4                      IBM India Pvt. Limited   \n",
       "5                     Boston Consulting Group   \n",
       "6                     Boston Consulting Group   \n",
       "7    GANIT BUSINESS SOLUTIONS PRIVATE LIMITED   \n",
       "8                                    CES Ltd.   \n",
       "9     GlaxoSmithKline Pharmaceuticals Limited   \n",
       "\n",
       "                                       Location_List  \\\n",
       "0                                Bangalore/Bengaluru   \n",
       "1                                Bangalore/Bengaluru   \n",
       "2                                Bangalore/Bengaluru   \n",
       "3                   Navi Mumbai, Bangalore/Bengaluru   \n",
       "4  Noida, Hyderabad/Secunderabad, Bangalore/Benga...   \n",
       "5    Mumbai, New Delhi, Chennai, Bangalore/Bengaluru   \n",
       "6    Mumbai, New Delhi, Chennai, Bangalore/Bengaluru   \n",
       "7  Hyderabad/Secunderabad, Pune, Chennai, Bangalo...   \n",
       "8  Kolkata, Mumbai, Hyderabad/Secunderabad, Pune,...   \n",
       "9                                Bangalore/Bengaluru   \n",
       "\n",
       "                                Full_Job_Description  \n",
       "0  Responsibilities and DutiesCreate innovative s...  \n",
       "1  Location - Bangalore / BengaluruDuration- 6 Mo...  \n",
       "2  Roles and Responsibilities- Selecting features...  \n",
       "3  Job descriptionJob Summary and Key Responsibil...  \n",
       "4  Job descriptionJob Summary and Key Responsibil...  \n",
       "5    Practice Area ProfileBCG GAMMA combines inno...  \n",
       "6      What Youll DoWe re looking for a passionat...  \n",
       "7  About Ganit IncFounded by senior industry expe...  \n",
       "8  Roles and ResponsibilitiesMust have strong Pyt...  \n",
       "9  Roles and ResponsibilitiesMust have strong Pyt...  "
      ]
     },
     "execution_count": 39,
     "metadata": {},
     "output_type": "execute_result"
    }
   ],
   "source": [
    "jobs2"
   ]
  },
  {
   "cell_type": "markdown",
   "metadata": {},
   "source": [
    "Q3: In this question you have to scrape data using the filters available on the webpage as shown below:\n",
    "You have to use the location and salary filter.\n",
    "You have to scrape data for “Data Scientist” designation for first 10 job results.\n",
    "You have to scrape the job-title, job-location, company_name, experience_required.\n",
    "The location filter to be used is “Delhi/NCR”\n",
    "The salary filter to be used is “3-6” lakhs\n",
    "The task will be done as shown in the below steps:\n",
    "1. first get the webpage https://www.naukri.com/\n",
    "2. Enter “Data Scientist” in “Skill,Designations,Companies” field .\n",
    "3. Then click the search button.\n",
    "4. Then apply the location filter and salary filter by checking the respective boxes\n",
    "4. Then scrape the data for the first 10 jobs results you get.\n",
    "5. Finally create a dataframe of the scraped data."
   ]
  },
  {
   "cell_type": "code",
   "execution_count": 40,
   "metadata": {},
   "outputs": [],
   "source": [
    "driver = webdriver.Chrome(r\"C://chromedriver.exe\")"
   ]
  },
  {
   "cell_type": "code",
   "execution_count": 41,
   "metadata": {},
   "outputs": [],
   "source": [
    "driver.get(\"https://www.naukri.com/\")"
   ]
  },
  {
   "cell_type": "code",
   "execution_count": 42,
   "metadata": {},
   "outputs": [],
   "source": [
    "search_job=driver.find_element_by_id(\"qsb-keyword-sugg\")\n",
    "search_job.send_keys(\"Data Scientist\")"
   ]
  },
  {
   "cell_type": "code",
   "execution_count": 43,
   "metadata": {},
   "outputs": [],
   "source": [
    "search_btn=driver.find_element_by_xpath(\"//div[@class='search-btn']/button\")\n",
    "search_btn.click()"
   ]
  },
  {
   "cell_type": "code",
   "execution_count": 44,
   "metadata": {},
   "outputs": [],
   "source": [
    "job_location=driver.find_element_by_xpath(\"//label[@for='chk-Delhi / NCR-cityTypeGid-']/i\")\n",
    "job_location.click()"
   ]
  },
  {
   "cell_type": "code",
   "execution_count": 45,
   "metadata": {},
   "outputs": [],
   "source": [
    "salary=driver.find_element_by_xpath(\"//label[@for='chk-3-6 Lakhs-ctcFilter-']/i\")\n",
    "salary.click()"
   ]
  },
  {
   "cell_type": "code",
   "execution_count": 46,
   "metadata": {},
   "outputs": [],
   "source": [
    "job_titles=[]\n",
    "company_name=[]\n",
    "location_list=[]\n",
    "experience_required=[]"
   ]
  },
  {
   "cell_type": "code",
   "execution_count": 48,
   "metadata": {},
   "outputs": [
    {
     "data": {
      "text/plain": [
       "[<selenium.webdriver.remote.webelement.WebElement (session=\"12e34d240db0f7a2a4eb5fec8e517088\", element=\"215fe450-13e9-4675-8335-9a7370d2d32d\")>,\n",
       " <selenium.webdriver.remote.webelement.WebElement (session=\"12e34d240db0f7a2a4eb5fec8e517088\", element=\"2f7265df-4b70-404b-bbe9-5b451664f812\")>,\n",
       " <selenium.webdriver.remote.webelement.WebElement (session=\"12e34d240db0f7a2a4eb5fec8e517088\", element=\"ba7b1310-b88a-450d-ad83-3e152e866b78\")>,\n",
       " <selenium.webdriver.remote.webelement.WebElement (session=\"12e34d240db0f7a2a4eb5fec8e517088\", element=\"77d62e2a-7937-4a3f-ab64-0cd3b878f5de\")>]"
      ]
     },
     "execution_count": 48,
     "metadata": {},
     "output_type": "execute_result"
    }
   ],
   "source": [
    "title_tags=driver.find_elements_by_xpath(\"//a[@class='title fw500 ellipsis']\")\n",
    "title_tags[0:4]"
   ]
  },
  {
   "cell_type": "code",
   "execution_count": 49,
   "metadata": {},
   "outputs": [
    {
     "data": {
      "text/plain": [
       "['Data Scientist - IBM Garage',\n",
       " 'Data Scientist/Data Analyst - Python/Machine Learning',\n",
       " 'Females Required- Data Scientist- Noida',\n",
       " 'Data Scientist - Python & Machine Learning']"
      ]
     },
     "execution_count": 49,
     "metadata": {},
     "output_type": "execute_result"
    }
   ],
   "source": [
    "for i in title_tags:\n",
    "    title=i.text\n",
    "    job_titles.append(title)\n",
    "    \n",
    "job_titles[0:4]"
   ]
  },
  {
   "cell_type": "code",
   "execution_count": 50,
   "metadata": {},
   "outputs": [
    {
     "data": {
      "text/plain": [
       "[<selenium.webdriver.remote.webelement.WebElement (session=\"12e34d240db0f7a2a4eb5fec8e517088\", element=\"32c7f2d3-dfa4-4388-b7d3-a57e40aacfb6\")>,\n",
       " <selenium.webdriver.remote.webelement.WebElement (session=\"12e34d240db0f7a2a4eb5fec8e517088\", element=\"27d1b5f8-3b60-44c2-8f29-fb7f35cef231\")>,\n",
       " <selenium.webdriver.remote.webelement.WebElement (session=\"12e34d240db0f7a2a4eb5fec8e517088\", element=\"aebaf70d-31e6-4db1-8597-49917cbd38f3\")>,\n",
       " <selenium.webdriver.remote.webelement.WebElement (session=\"12e34d240db0f7a2a4eb5fec8e517088\", element=\"9d8e5a01-9bc6-4e7a-bf5b-81e7797a5acf\")>]"
      ]
     },
     "execution_count": 50,
     "metadata": {},
     "output_type": "execute_result"
    }
   ],
   "source": [
    "companies_tags=driver.find_elements_by_xpath(\"//a[@class='subTitle ellipsis fleft']\")\n",
    "companies_tags[0:4]"
   ]
  },
  {
   "cell_type": "code",
   "execution_count": 51,
   "metadata": {},
   "outputs": [
    {
     "data": {
      "text/plain": [
       "['IBM India Pvt. Limited', 'Change leaders', 'Randstad', 'FUTURES AND CAREERS']"
      ]
     },
     "execution_count": 51,
     "metadata": {},
     "output_type": "execute_result"
    }
   ],
   "source": [
    "for i in companies_tags:\n",
    "    company=i.text\n",
    "    company_name.append(company)\n",
    "    \n",
    "company_name[0:4]"
   ]
  },
  {
   "cell_type": "code",
   "execution_count": 52,
   "metadata": {},
   "outputs": [
    {
     "data": {
      "text/plain": [
       "[<selenium.webdriver.remote.webelement.WebElement (session=\"12e34d240db0f7a2a4eb5fec8e517088\", element=\"2caf5444-bc39-403f-956c-c4641ac9f810\")>,\n",
       " <selenium.webdriver.remote.webelement.WebElement (session=\"12e34d240db0f7a2a4eb5fec8e517088\", element=\"1933ef57-92d0-4b15-bfb3-102fa6f7ea36\")>,\n",
       " <selenium.webdriver.remote.webelement.WebElement (session=\"12e34d240db0f7a2a4eb5fec8e517088\", element=\"deb9a167-8643-4411-8922-5ed6ef463704\")>,\n",
       " <selenium.webdriver.remote.webelement.WebElement (session=\"12e34d240db0f7a2a4eb5fec8e517088\", element=\"90552bed-ed4c-422c-8901-b71f31155bf7\")>]"
      ]
     },
     "execution_count": 52,
     "metadata": {},
     "output_type": "execute_result"
    }
   ],
   "source": [
    "location_tags=driver.find_elements_by_xpath(\"//li[@class='fleft grey-text br2 placeHolderLi location']/span[1]\")\n",
    "location_tags[0:4]"
   ]
  },
  {
   "cell_type": "code",
   "execution_count": 53,
   "metadata": {},
   "outputs": [
    {
     "data": {
      "text/plain": [
       "['Noida, Hyderabad/Secunderabad, Bangalore/Bengaluru',\n",
       " 'Mumbai, Ghaziabad',\n",
       " 'Noida, Gurgaon/Gurugram, Delhi / NCR',\n",
       " 'Hyderabad/Secunderabad, Pune, Bangalore/Bengaluru, Delhi / NCR, Mumbai (All Areas)']"
      ]
     },
     "execution_count": 53,
     "metadata": {},
     "output_type": "execute_result"
    }
   ],
   "source": [
    "for i in location_tags:\n",
    "    location=i.text\n",
    "    location_list.append(location)\n",
    "    \n",
    "location_list[0:4]"
   ]
  },
  {
   "cell_type": "code",
   "execution_count": 54,
   "metadata": {},
   "outputs": [
    {
     "data": {
      "text/plain": [
       "[<selenium.webdriver.remote.webelement.WebElement (session=\"12e34d240db0f7a2a4eb5fec8e517088\", element=\"bcd1868b-98f8-47f4-a341-a46ccadb2010\")>,\n",
       " <selenium.webdriver.remote.webelement.WebElement (session=\"12e34d240db0f7a2a4eb5fec8e517088\", element=\"c12886ba-3f0e-4e5b-8e59-b74081a0ad0c\")>,\n",
       " <selenium.webdriver.remote.webelement.WebElement (session=\"12e34d240db0f7a2a4eb5fec8e517088\", element=\"ca1719b3-6611-4750-a979-7f8e4b2beac4\")>,\n",
       " <selenium.webdriver.remote.webelement.WebElement (session=\"12e34d240db0f7a2a4eb5fec8e517088\", element=\"b33508ef-8b2a-4f12-9d60-d5ed06e227aa\")>]"
      ]
     },
     "execution_count": 54,
     "metadata": {},
     "output_type": "execute_result"
    }
   ],
   "source": [
    "experience_tags=driver.find_elements_by_xpath(\"//li[@class='fleft grey-text br2 placeHolderLi experience']/span[1]\")\n",
    "experience_tags[0:4]"
   ]
  },
  {
   "cell_type": "code",
   "execution_count": 55,
   "metadata": {},
   "outputs": [
    {
     "data": {
      "text/plain": [
       "['5-8 Yrs', '5-10 Yrs', '3-7 Yrs', '2-7 Yrs']"
      ]
     },
     "execution_count": 55,
     "metadata": {},
     "output_type": "execute_result"
    }
   ],
   "source": [
    "for i in experience_tags:\n",
    "    experi=i.text\n",
    "    experience_required.append(experi)\n",
    "    \n",
    "experience_required[0:4]"
   ]
  },
  {
   "cell_type": "code",
   "execution_count": 56,
   "metadata": {},
   "outputs": [
    {
     "name": "stdout",
     "output_type": "stream",
     "text": [
      "20 20 20 20\n"
     ]
    }
   ],
   "source": [
    "print(len(job_titles),len(company_name),len(location_list),len(experience_required))"
   ]
  },
  {
   "cell_type": "code",
   "execution_count": 57,
   "metadata": {},
   "outputs": [],
   "source": [
    "jobs3=pd.DataFrame({})\n",
    "jobs3['Jobs Titles']=job_titles[:10]\n",
    "jobs3['Company Name']=company_name[:10]\n",
    "jobs3['Location List']=location_list[:10]\n",
    "jobs3['Experience Required']=experience_required[:10]"
   ]
  },
  {
   "cell_type": "code",
   "execution_count": 58,
   "metadata": {},
   "outputs": [
    {
     "data": {
      "text/html": [
       "<div>\n",
       "<style scoped>\n",
       "    .dataframe tbody tr th:only-of-type {\n",
       "        vertical-align: middle;\n",
       "    }\n",
       "\n",
       "    .dataframe tbody tr th {\n",
       "        vertical-align: top;\n",
       "    }\n",
       "\n",
       "    .dataframe thead th {\n",
       "        text-align: right;\n",
       "    }\n",
       "</style>\n",
       "<table border=\"1\" class=\"dataframe\">\n",
       "  <thead>\n",
       "    <tr style=\"text-align: right;\">\n",
       "      <th></th>\n",
       "      <th>Jobs Titles</th>\n",
       "      <th>Company Name</th>\n",
       "      <th>Location List</th>\n",
       "      <th>Experience Required</th>\n",
       "    </tr>\n",
       "  </thead>\n",
       "  <tbody>\n",
       "    <tr>\n",
       "      <th>0</th>\n",
       "      <td>Data Scientist - IBM Garage</td>\n",
       "      <td>IBM India Pvt. Limited</td>\n",
       "      <td>Noida, Hyderabad/Secunderabad, Bangalore/Benga...</td>\n",
       "      <td>5-8 Yrs</td>\n",
       "    </tr>\n",
       "    <tr>\n",
       "      <th>1</th>\n",
       "      <td>Data Scientist/Data Analyst - Python/Machine L...</td>\n",
       "      <td>Change leaders</td>\n",
       "      <td>Mumbai, Ghaziabad</td>\n",
       "      <td>5-10 Yrs</td>\n",
       "    </tr>\n",
       "    <tr>\n",
       "      <th>2</th>\n",
       "      <td>Females Required- Data Scientist- Noida</td>\n",
       "      <td>Randstad</td>\n",
       "      <td>Noida, Gurgaon/Gurugram, Delhi / NCR</td>\n",
       "      <td>3-7 Yrs</td>\n",
       "    </tr>\n",
       "    <tr>\n",
       "      <th>3</th>\n",
       "      <td>Data Scientist - Python &amp; Machine Learning</td>\n",
       "      <td>FUTURES AND CAREERS</td>\n",
       "      <td>Hyderabad/Secunderabad, Pune, Bangalore/Bengal...</td>\n",
       "      <td>2-7 Yrs</td>\n",
       "    </tr>\n",
       "    <tr>\n",
       "      <th>4</th>\n",
       "      <td>Data Scientist - Python &amp; Machine Learning</td>\n",
       "      <td>FUTURES AND CAREERS</td>\n",
       "      <td>Hyderabad/Secunderabad, Pune, Chennai, Bangalo...</td>\n",
       "      <td>2-7 Yrs</td>\n",
       "    </tr>\n",
       "    <tr>\n",
       "      <th>5</th>\n",
       "      <td>Data Scientist - Python / Machine Learning / T...</td>\n",
       "      <td>FUTURES AND CAREERS</td>\n",
       "      <td>Mumbai, Hyderabad/Secunderabad, Bangalore/Beng...</td>\n",
       "      <td>3-8 Yrs</td>\n",
       "    </tr>\n",
       "    <tr>\n",
       "      <th>6</th>\n",
       "      <td>Data Scientist - Python &amp; Machine Learning</td>\n",
       "      <td>FUTURES AND CAREERS</td>\n",
       "      <td>Hyderabad/Secunderabad, Bangalore/Bengaluru, D...</td>\n",
       "      <td>2-7 Yrs</td>\n",
       "    </tr>\n",
       "    <tr>\n",
       "      <th>7</th>\n",
       "      <td>Required- Data Scientist (NLP)-Axis Bank - 6 m...</td>\n",
       "      <td>Axis Bank Limited</td>\n",
       "      <td>Kolkata, New Delhi, Hyderabad/Secunderabad, Pu...</td>\n",
       "      <td>4-9 Yrs</td>\n",
       "    </tr>\n",
       "    <tr>\n",
       "      <th>8</th>\n",
       "      <td>Data Scientist - Python / Machine Learning / T...</td>\n",
       "      <td>FUTURES AND CAREERS</td>\n",
       "      <td>Hyderabad/Secunderabad, Bangalore/Bengaluru, D...</td>\n",
       "      <td>3-8 Yrs</td>\n",
       "    </tr>\n",
       "    <tr>\n",
       "      <th>9</th>\n",
       "      <td>Data Scientist - Python &amp; Machine Learning (IS...</td>\n",
       "      <td>FUTURES AND CAREERS</td>\n",
       "      <td>Hyderabad/Secunderabad, Bangalore/Bengaluru, D...</td>\n",
       "      <td>3-8 Yrs</td>\n",
       "    </tr>\n",
       "  </tbody>\n",
       "</table>\n",
       "</div>"
      ],
      "text/plain": [
       "                                         Jobs Titles            Company Name  \\\n",
       "0                        Data Scientist - IBM Garage  IBM India Pvt. Limited   \n",
       "1  Data Scientist/Data Analyst - Python/Machine L...          Change leaders   \n",
       "2            Females Required- Data Scientist- Noida                Randstad   \n",
       "3         Data Scientist - Python & Machine Learning     FUTURES AND CAREERS   \n",
       "4         Data Scientist - Python & Machine Learning     FUTURES AND CAREERS   \n",
       "5  Data Scientist - Python / Machine Learning / T...     FUTURES AND CAREERS   \n",
       "6         Data Scientist - Python & Machine Learning     FUTURES AND CAREERS   \n",
       "7  Required- Data Scientist (NLP)-Axis Bank - 6 m...       Axis Bank Limited   \n",
       "8  Data Scientist - Python / Machine Learning / T...     FUTURES AND CAREERS   \n",
       "9  Data Scientist - Python & Machine Learning (IS...     FUTURES AND CAREERS   \n",
       "\n",
       "                                       Location List Experience Required  \n",
       "0  Noida, Hyderabad/Secunderabad, Bangalore/Benga...             5-8 Yrs  \n",
       "1                                  Mumbai, Ghaziabad            5-10 Yrs  \n",
       "2               Noida, Gurgaon/Gurugram, Delhi / NCR             3-7 Yrs  \n",
       "3  Hyderabad/Secunderabad, Pune, Bangalore/Bengal...             2-7 Yrs  \n",
       "4  Hyderabad/Secunderabad, Pune, Chennai, Bangalo...             2-7 Yrs  \n",
       "5  Mumbai, Hyderabad/Secunderabad, Bangalore/Beng...             3-8 Yrs  \n",
       "6  Hyderabad/Secunderabad, Bangalore/Bengaluru, D...             2-7 Yrs  \n",
       "7  Kolkata, New Delhi, Hyderabad/Secunderabad, Pu...             4-9 Yrs  \n",
       "8  Hyderabad/Secunderabad, Bangalore/Bengaluru, D...             3-8 Yrs  \n",
       "9  Hyderabad/Secunderabad, Bangalore/Bengaluru, D...             3-8 Yrs  "
      ]
     },
     "execution_count": 58,
     "metadata": {},
     "output_type": "execute_result"
    }
   ],
   "source": [
    "jobs3"
   ]
  },
  {
   "cell_type": "markdown",
   "metadata": {},
   "source": [
    "Q4: Write a python program to scrape data for first 10 job results for Data scientist Designation in Noida location. You have to scrape company_name, No. of days ago when job was posted, Rating of the company.\n",
    "This task will be done in following steps:\n",
    "1. first get the webpage https://www.glassdoor.co.in/index.htm\n",
    "2. Enter “Data Scientist” in “Job Title,Keyword,Company” field and enter “Noida” in “location” field.\n",
    "3. Then click the search button\n",
    "4. Then scrape the data for the first 10 jobs results you get in the above shown page.\n",
    "5. Finally create a dataframe of the scraped data."
   ]
  },
  {
   "cell_type": "code",
   "execution_count": 59,
   "metadata": {},
   "outputs": [],
   "source": [
    "driver = webdriver.Chrome(r\"C://Chromedriver.exe\")"
   ]
  },
  {
   "cell_type": "code",
   "execution_count": 60,
   "metadata": {},
   "outputs": [],
   "source": [
    "driver.get(\"https://www.glassdoor.co.in/index.htm\")"
   ]
  },
  {
   "cell_type": "code",
   "execution_count": 61,
   "metadata": {},
   "outputs": [],
   "source": [
    "search_job=driver.find_element_by_xpath(\"//input[@id='sc.keyword'][1]\")\n",
    "search_job.send_keys('Data Scientist')\n",
    "search_loc=driver.find_element_by_xpath(\"//input[@id='sc.location']\")\n",
    "search_loc.send_keys('Noida')"
   ]
  },
  {
   "cell_type": "code",
   "execution_count": 62,
   "metadata": {},
   "outputs": [],
   "source": [
    "search_btn=driver.find_element_by_xpath(\"//button[@class='gd-ui-button ml-std col-auto SearchStyles__newSearchButton css-iixdfr']/span\")\n",
    "search_btn.click()"
   ]
  },
  {
   "cell_type": "code",
   "execution_count": 63,
   "metadata": {},
   "outputs": [],
   "source": [
    "url = \"https://www.glassdoor.co.in/Job/noida-data-scientist-jobs-SRCH_IL.0,5_IC4477468_KO6,20.htm\""
   ]
  },
  {
   "cell_type": "code",
   "execution_count": 64,
   "metadata": {},
   "outputs": [],
   "source": [
    "driver.get(url)"
   ]
  },
  {
   "cell_type": "code",
   "execution_count": 65,
   "metadata": {},
   "outputs": [],
   "source": [
    "company_names=[]\n",
    "job_posted_days=[]\n",
    "company_rating=[]"
   ]
  },
  {
   "cell_type": "code",
   "execution_count": 66,
   "metadata": {},
   "outputs": [
    {
     "data": {
      "text/plain": [
       "[<selenium.webdriver.remote.webelement.WebElement (session=\"d65541ae216f62989a34bb806a554439\", element=\"798cc071-f7da-4fa5-8fa9-715e72eb31bd\")>,\n",
       " <selenium.webdriver.remote.webelement.WebElement (session=\"d65541ae216f62989a34bb806a554439\", element=\"98af1f8b-2608-4925-8589-956bc9649add\")>,\n",
       " <selenium.webdriver.remote.webelement.WebElement (session=\"d65541ae216f62989a34bb806a554439\", element=\"5b7a3cd0-d3a1-4b3e-bc9e-1374eb30796d\")>,\n",
       " <selenium.webdriver.remote.webelement.WebElement (session=\"d65541ae216f62989a34bb806a554439\", element=\"ba3248cc-4d8f-4f92-bc89-8dfd1db8ab51\")>]"
      ]
     },
     "execution_count": 66,
     "metadata": {},
     "output_type": "execute_result"
    }
   ],
   "source": [
    "company_tag = driver.find_elements_by_xpath(\"//a[@class=' css-l2wjgv e1n63ojh0 jobLink']\")\n",
    "company_tag[0:4]"
   ]
  },
  {
   "cell_type": "code",
   "execution_count": 67,
   "metadata": {},
   "outputs": [
    {
     "data": {
      "text/plain": [
       "['Biz2Credit Inc', 'Adobe', 'Salasar New Age Technologies', 'Techlive']"
      ]
     },
     "execution_count": 67,
     "metadata": {},
     "output_type": "execute_result"
    }
   ],
   "source": [
    "for k in company_tag:\n",
    "    company=k.text\n",
    "    company_names.append(company)\n",
    "    \n",
    "company_names[0:4]"
   ]
  },
  {
   "cell_type": "code",
   "execution_count": 68,
   "metadata": {},
   "outputs": [
    {
     "data": {
      "text/plain": [
       "[<selenium.webdriver.remote.webelement.WebElement (session=\"d65541ae216f62989a34bb806a554439\", element=\"d36cb5fa-0fd4-4247-b035-fe9c19eefb48\")>,\n",
       " <selenium.webdriver.remote.webelement.WebElement (session=\"d65541ae216f62989a34bb806a554439\", element=\"a47e57dd-1297-402c-a92d-01bee5eab09f\")>,\n",
       " <selenium.webdriver.remote.webelement.WebElement (session=\"d65541ae216f62989a34bb806a554439\", element=\"f9d16f77-cede-45cb-999b-5eb0a9a527d5\")>,\n",
       " <selenium.webdriver.remote.webelement.WebElement (session=\"d65541ae216f62989a34bb806a554439\", element=\"18b07a5b-a7a9-406b-9aa1-36a97391b213\")>]"
      ]
     },
     "execution_count": 68,
     "metadata": {},
     "output_type": "execute_result"
    }
   ],
   "source": [
    "job_days = driver.find_elements_by_xpath(\"//div[@class='d-flex align-items-end pl-std css-mi55ob']\")\n",
    "job_days[0:4]"
   ]
  },
  {
   "cell_type": "code",
   "execution_count": 69,
   "metadata": {},
   "outputs": [
    {
     "data": {
      "text/plain": [
       "['30d+', '10d', '30d+', '30d+']"
      ]
     },
     "execution_count": 69,
     "metadata": {},
     "output_type": "execute_result"
    }
   ],
   "source": [
    "for i in job_days:\n",
    "    days=i.text\n",
    "    job_posted_days.append(days)\n",
    "    \n",
    "job_posted_days[0:4]"
   ]
  },
  {
   "cell_type": "code",
   "execution_count": 70,
   "metadata": {},
   "outputs": [
    {
     "data": {
      "text/plain": [
       "[<selenium.webdriver.remote.webelement.WebElement (session=\"d65541ae216f62989a34bb806a554439\", element=\"bb295dbf-c1bf-485a-b57e-70af5b6e9c03\")>,\n",
       " <selenium.webdriver.remote.webelement.WebElement (session=\"d65541ae216f62989a34bb806a554439\", element=\"1fcf86cf-7393-48fa-b719-623c9ff23aba\")>,\n",
       " <selenium.webdriver.remote.webelement.WebElement (session=\"d65541ae216f62989a34bb806a554439\", element=\"648eeadf-eac1-436c-b598-f47ee21accd2\")>,\n",
       " <selenium.webdriver.remote.webelement.WebElement (session=\"d65541ae216f62989a34bb806a554439\", element=\"3eeb40ea-9a28-4c6f-97be-21e15c72a920\")>]"
      ]
     },
     "execution_count": 70,
     "metadata": {},
     "output_type": "execute_result"
    }
   ],
   "source": [
    "rating_tag = driver.find_elements_by_xpath(\"//span[@class='css-19pjha7 e1cjmv6j1']\")\n",
    "rating_tag[0:4]"
   ]
  },
  {
   "cell_type": "code",
   "execution_count": 71,
   "metadata": {},
   "outputs": [
    {
     "data": {
      "text/plain": [
       "['3.8', '4.4', '5.0', '5.0']"
      ]
     },
     "execution_count": 71,
     "metadata": {},
     "output_type": "execute_result"
    }
   ],
   "source": [
    "for i in rating_tag:\n",
    "    rating=i.text\n",
    "    company_rating.append(rating)\n",
    "    \n",
    "company_rating[0:4]"
   ]
  },
  {
   "cell_type": "code",
   "execution_count": 72,
   "metadata": {},
   "outputs": [
    {
     "name": "stdout",
     "output_type": "stream",
     "text": [
      "30 30 19\n"
     ]
    }
   ],
   "source": [
    "print(len(company_names),len(job_posted_days),len(company_rating))"
   ]
  },
  {
   "cell_type": "code",
   "execution_count": 73,
   "metadata": {},
   "outputs": [],
   "source": [
    "Glassdoor=pd.DataFrame({})\n",
    "Glassdoor[\"Company Names\"] = company_names[:10]\n",
    "Glassdoor[\"Job Posted Days\"] = job_posted_days[:10]\n",
    "Glassdoor[\"Company Rating\"] = company_rating[:10]"
   ]
  },
  {
   "cell_type": "code",
   "execution_count": 74,
   "metadata": {},
   "outputs": [
    {
     "data": {
      "text/html": [
       "<div>\n",
       "<style scoped>\n",
       "    .dataframe tbody tr th:only-of-type {\n",
       "        vertical-align: middle;\n",
       "    }\n",
       "\n",
       "    .dataframe tbody tr th {\n",
       "        vertical-align: top;\n",
       "    }\n",
       "\n",
       "    .dataframe thead th {\n",
       "        text-align: right;\n",
       "    }\n",
       "</style>\n",
       "<table border=\"1\" class=\"dataframe\">\n",
       "  <thead>\n",
       "    <tr style=\"text-align: right;\">\n",
       "      <th></th>\n",
       "      <th>Company Names</th>\n",
       "      <th>Job Posted Days</th>\n",
       "      <th>Company Rating</th>\n",
       "    </tr>\n",
       "  </thead>\n",
       "  <tbody>\n",
       "    <tr>\n",
       "      <th>0</th>\n",
       "      <td>Biz2Credit Inc</td>\n",
       "      <td>30d+</td>\n",
       "      <td>3.8</td>\n",
       "    </tr>\n",
       "    <tr>\n",
       "      <th>1</th>\n",
       "      <td>Adobe</td>\n",
       "      <td>10d</td>\n",
       "      <td>4.4</td>\n",
       "    </tr>\n",
       "    <tr>\n",
       "      <th>2</th>\n",
       "      <td>Salasar New Age Technologies</td>\n",
       "      <td>30d+</td>\n",
       "      <td>5.0</td>\n",
       "    </tr>\n",
       "    <tr>\n",
       "      <th>3</th>\n",
       "      <td>Techlive</td>\n",
       "      <td>30d+</td>\n",
       "      <td>5.0</td>\n",
       "    </tr>\n",
       "    <tr>\n",
       "      <th>4</th>\n",
       "      <td>Asquero</td>\n",
       "      <td>11d</td>\n",
       "      <td>4.0</td>\n",
       "    </tr>\n",
       "    <tr>\n",
       "      <th>5</th>\n",
       "      <td>Aedifico Tech</td>\n",
       "      <td>30d+</td>\n",
       "      <td>3.6</td>\n",
       "    </tr>\n",
       "    <tr>\n",
       "      <th>6</th>\n",
       "      <td>SearchUrCollege</td>\n",
       "      <td>30d+</td>\n",
       "      <td>4.2</td>\n",
       "    </tr>\n",
       "    <tr>\n",
       "      <th>7</th>\n",
       "      <td>Salasar New Age Technologies</td>\n",
       "      <td>30d+</td>\n",
       "      <td>3.8</td>\n",
       "    </tr>\n",
       "    <tr>\n",
       "      <th>8</th>\n",
       "      <td>CRMNEXT</td>\n",
       "      <td>16d</td>\n",
       "      <td>5.0</td>\n",
       "    </tr>\n",
       "    <tr>\n",
       "      <th>9</th>\n",
       "      <td>MasterCard</td>\n",
       "      <td>2d</td>\n",
       "      <td>3.0</td>\n",
       "    </tr>\n",
       "  </tbody>\n",
       "</table>\n",
       "</div>"
      ],
      "text/plain": [
       "                  Company Names Job Posted Days Company Rating\n",
       "0                Biz2Credit Inc            30d+            3.8\n",
       "1                         Adobe             10d            4.4\n",
       "2  Salasar New Age Technologies            30d+            5.0\n",
       "3                      Techlive            30d+            5.0\n",
       "4                       Asquero             11d            4.0\n",
       "5                 Aedifico Tech            30d+            3.6\n",
       "6               SearchUrCollege            30d+            4.2\n",
       "7  Salasar New Age Technologies            30d+            3.8\n",
       "8                       CRMNEXT             16d            5.0\n",
       "9                    MasterCard              2d            3.0"
      ]
     },
     "execution_count": 74,
     "metadata": {},
     "output_type": "execute_result"
    }
   ],
   "source": [
    "Glassdoor"
   ]
  },
  {
   "cell_type": "markdown",
   "metadata": {},
   "source": [
    "Q5: Write a python program to scrape the salary data for Data Scientist designation in Noida location.\n",
    "You have to scrape Company name, Number of salaries, Average salary, Min salary, Max Salary.\n",
    "The above task will be, done as shown in the below steps:\n",
    "1. first get the webpage https://www.glassdoor.co.in/Salaries/index.htm\n",
    "2. Enter “Data Scientist” in Job title field and “Noida” in location field.\n",
    "3. Click the search button.\n",
    "4. After that you will land on the below page. You have to scrape whole data from this webpage\n",
    "5. Scrape data for first 10 companies. Scrape the min salary, max salary, company name, Average salary and rating of the company.\n",
    "6.Store the data in a dataframe."
   ]
  },
  {
   "cell_type": "code",
   "execution_count": 75,
   "metadata": {},
   "outputs": [],
   "source": [
    "driver = webdriver.Chrome(r\"C://chromedriver.exe\")"
   ]
  },
  {
   "cell_type": "code",
   "execution_count": 76,
   "metadata": {},
   "outputs": [],
   "source": [
    "driver.get(\"https://www.glassdoor.co.in/Salaries/index.htm\")"
   ]
  },
  {
   "cell_type": "code",
   "execution_count": 77,
   "metadata": {},
   "outputs": [],
   "source": [
    "search_job = driver.find_element_by_xpath(\"//input[@class='keyword'][1]\")\n",
    "search_job.send_keys(\"Data Scientist\")\n",
    "search_loc = driver.find_element_by_xpath(\"//input[@class='loc']\")\n",
    "search_loc.send_keys(\"Noida\")"
   ]
  },
  {
   "cell_type": "code",
   "execution_count": 78,
   "metadata": {},
   "outputs": [],
   "source": [
    "search_btn=driver.find_element_by_id(\"HeroSearchButton\")\n",
    "search_btn.click()"
   ]
  },
  {
   "cell_type": "code",
   "execution_count": 79,
   "metadata": {},
   "outputs": [],
   "source": [
    "url='https://www.glassdoor.co.in/Salaries/new-delhi-data-scientist-salary-SRCH_IL.0,9_IM1083_KO10,24.htm?clickSource=searchBtn'"
   ]
  },
  {
   "cell_type": "code",
   "execution_count": 80,
   "metadata": {},
   "outputs": [],
   "source": [
    "company_names=[]\n",
    "number_of_salaries=[]\n",
    "Average_salary=[]\n",
    "Min_salary=[]\n",
    "Max_Salary=[]"
   ]
  },
  {
   "cell_type": "code",
   "execution_count": 81,
   "metadata": {},
   "outputs": [
    {
     "data": {
      "text/plain": [
       "[<selenium.webdriver.remote.webelement.WebElement (session=\"5c8f4e00e05612ffc7668d05abef7775\", element=\"0620bcd6-9d4e-48c0-a0dc-ccd67b01d1e9\")>,\n",
       " <selenium.webdriver.remote.webelement.WebElement (session=\"5c8f4e00e05612ffc7668d05abef7775\", element=\"449ce808-ecaf-464b-852a-f98b00e6d9f8\")>,\n",
       " <selenium.webdriver.remote.webelement.WebElement (session=\"5c8f4e00e05612ffc7668d05abef7775\", element=\"8e6ea104-5154-44cc-97b6-4684df49d6d9\")>,\n",
       " <selenium.webdriver.remote.webelement.WebElement (session=\"5c8f4e00e05612ffc7668d05abef7775\", element=\"954594e5-7a5d-403b-9fa7-5b7d86a52bb4\")>]"
      ]
     },
     "execution_count": 81,
     "metadata": {},
     "output_type": "execute_result"
    }
   ],
   "source": [
    "company_tag=driver.find_elements_by_xpath(\"//div[@data-test='job-info']/p[2]\")\n",
    "company_tag[0:4]"
   ]
  },
  {
   "cell_type": "code",
   "execution_count": 82,
   "metadata": {},
   "outputs": [
    {
     "data": {
      "text/plain": [
       "['Tata Consultancy Services',\n",
       " 'Accenture',\n",
       " 'Delhivery',\n",
       " 'IBM',\n",
       " 'Ericsson-Worldwide',\n",
       " 'UnitedHealth Group',\n",
       " 'Valiance Solutions',\n",
       " 'Innovaccer',\n",
       " 'ZS Associates',\n",
       " 'EXL Service']"
      ]
     },
     "execution_count": 82,
     "metadata": {},
     "output_type": "execute_result"
    }
   ],
   "source": [
    "for i in company_tag:\n",
    "    company=i.text\n",
    "    company_names.append(company)\n",
    "    \n",
    "company_names[0:10]"
   ]
  },
  {
   "cell_type": "code",
   "execution_count": 83,
   "metadata": {},
   "outputs": [
    {
     "data": {
      "text/plain": [
       "[<selenium.webdriver.remote.webelement.WebElement (session=\"5c8f4e00e05612ffc7668d05abef7775\", element=\"6b8410eb-ce53-4c3f-9a48-65a26cc067c9\")>,\n",
       " <selenium.webdriver.remote.webelement.WebElement (session=\"5c8f4e00e05612ffc7668d05abef7775\", element=\"c3bd47ca-a23e-4d5f-9c50-afc118d6c9b7\")>,\n",
       " <selenium.webdriver.remote.webelement.WebElement (session=\"5c8f4e00e05612ffc7668d05abef7775\", element=\"e96b9c17-f7a5-44e4-886f-4238a95f963f\")>,\n",
       " <selenium.webdriver.remote.webelement.WebElement (session=\"5c8f4e00e05612ffc7668d05abef7775\", element=\"a81a607b-b985-4ff1-96cf-2d9e2029063c\")>]"
      ]
     },
     "execution_count": 83,
     "metadata": {},
     "output_type": "execute_result"
    }
   ],
   "source": [
    "salary_tag=driver.find_elements_by_xpath(\"//p[@class='css-1uyte9r css-1kuy7z7 m-0 ']\")\n",
    "salary_tag[0:4]"
   ]
  },
  {
   "cell_type": "code",
   "execution_count": 84,
   "metadata": {},
   "outputs": [
    {
     "data": {
      "text/plain": [
       "['14 salaries',\n",
       " '14 salaries',\n",
       " '14 salaries',\n",
       " '13 salaries',\n",
       " '12 salaries',\n",
       " '10 salaries',\n",
       " '9 salaries',\n",
       " '8 salaries',\n",
       " '7 salaries',\n",
       " '7 salaries']"
      ]
     },
     "execution_count": 84,
     "metadata": {},
     "output_type": "execute_result"
    }
   ],
   "source": [
    "for i in salary_tag:\n",
    "    salary=i.text\n",
    "    number_of_salaries.append(salary)\n",
    "    \n",
    "number_of_salaries[0:10]"
   ]
  },
  {
   "cell_type": "code",
   "execution_count": 85,
   "metadata": {},
   "outputs": [
    {
     "data": {
      "text/plain": [
       "[<selenium.webdriver.remote.webelement.WebElement (session=\"5c8f4e00e05612ffc7668d05abef7775\", element=\"873d642f-6621-419b-863e-409dbee1a401\")>,\n",
       " <selenium.webdriver.remote.webelement.WebElement (session=\"5c8f4e00e05612ffc7668d05abef7775\", element=\"9b706f18-115e-4596-b092-27990bc6da8e\")>,\n",
       " <selenium.webdriver.remote.webelement.WebElement (session=\"5c8f4e00e05612ffc7668d05abef7775\", element=\"65b7bf2f-2745-447f-8ed9-fb119b85233c\")>,\n",
       " <selenium.webdriver.remote.webelement.WebElement (session=\"5c8f4e00e05612ffc7668d05abef7775\", element=\"82bb7ccb-e4f5-4ee0-9230-34b18bc156e2\")>]"
      ]
     },
     "execution_count": 85,
     "metadata": {},
     "output_type": "execute_result"
    }
   ],
   "source": [
    "Average_tag=driver.find_elements_by_xpath(\"//div[@class='col-2 d-none d-md-flex flex-row justify-content-end']\")\n",
    "Average_tag[0:4]"
   ]
  },
  {
   "cell_type": "code",
   "execution_count": 86,
   "metadata": {},
   "outputs": [
    {
     "data": {
      "text/plain": [
       "['₹ 5,97,967/yr',\n",
       " '₹ 11,12,243/yr',\n",
       " '₹ 12,12,741/yr',\n",
       " '₹ 7,37,972/yr',\n",
       " '₹ 7,15,984/yr',\n",
       " '₹ 13,41,900/yr',\n",
       " '₹ 7,90,812/yr',\n",
       " '₹ 11,81,047/yr',\n",
       " '₹ 9,89,924/yr',\n",
       " '₹ 11,73,127/yr']"
      ]
     },
     "execution_count": 86,
     "metadata": {},
     "output_type": "execute_result"
    }
   ],
   "source": [
    "for i in Average_tag:\n",
    "    average=i.text.replace('\\n','')\n",
    "    Average_salary.append(average)\n",
    "    \n",
    "Average_salary[0:10]"
   ]
  },
  {
   "cell_type": "code",
   "execution_count": 87,
   "metadata": {},
   "outputs": [
    {
     "data": {
      "text/plain": [
       "[<selenium.webdriver.remote.webelement.WebElement (session=\"5c8f4e00e05612ffc7668d05abef7775\", element=\"1a8d6299-7621-4cb7-b993-cd2aaa20362c\")>,\n",
       " <selenium.webdriver.remote.webelement.WebElement (session=\"5c8f4e00e05612ffc7668d05abef7775\", element=\"ca266233-177e-4ae0-86cc-3614be13aeaa\")>,\n",
       " <selenium.webdriver.remote.webelement.WebElement (session=\"5c8f4e00e05612ffc7668d05abef7775\", element=\"d7ed5717-5aec-4dbb-ad5a-64171f6fd566\")>,\n",
       " <selenium.webdriver.remote.webelement.WebElement (session=\"5c8f4e00e05612ffc7668d05abef7775\", element=\"84073446-d8b9-4b6a-bd17-839050485b1a\")>]"
      ]
     },
     "execution_count": 87,
     "metadata": {},
     "output_type": "execute_result"
    }
   ],
   "source": [
    "min_tag=driver.find_elements_by_xpath(\"//div[@class='common__RangeBarStyle__values d-flex justify-content-between ']/span[1]\")\n",
    "min_tag[0:4]"
   ]
  },
  {
   "cell_type": "code",
   "execution_count": 88,
   "metadata": {},
   "outputs": [
    {
     "data": {
      "text/plain": [
       "['₹333K',\n",
       " '₹560K',\n",
       " '₹436K',\n",
       " '₹569K',\n",
       " '₹350K',\n",
       " '₹1,037K',\n",
       " '₹487K',\n",
       " '₹602K',\n",
       " '₹196K',\n",
       " '₹558K']"
      ]
     },
     "execution_count": 88,
     "metadata": {},
     "output_type": "execute_result"
    }
   ],
   "source": [
    "for i in min_tag:\n",
    "    mini=i.text.replace('\\n','')\n",
    "    Min_salary.append(mini)\n",
    "    \n",
    "Min_salary[0:10]"
   ]
  },
  {
   "cell_type": "code",
   "execution_count": 89,
   "metadata": {},
   "outputs": [
    {
     "data": {
      "text/plain": [
       "[<selenium.webdriver.remote.webelement.WebElement (session=\"5c8f4e00e05612ffc7668d05abef7775\", element=\"c5e87491-e8fb-4a5c-a758-21fdf75d9851\")>,\n",
       " <selenium.webdriver.remote.webelement.WebElement (session=\"5c8f4e00e05612ffc7668d05abef7775\", element=\"1a9873ee-2dc9-4901-8df2-facdf8336a16\")>,\n",
       " <selenium.webdriver.remote.webelement.WebElement (session=\"5c8f4e00e05612ffc7668d05abef7775\", element=\"406da16c-dcb3-4acf-8bf7-c54ca9fcb3e1\")>,\n",
       " <selenium.webdriver.remote.webelement.WebElement (session=\"5c8f4e00e05612ffc7668d05abef7775\", element=\"8df8456c-eca1-4c11-a7cb-e06f3a42b89d\")>]"
      ]
     },
     "execution_count": 89,
     "metadata": {},
     "output_type": "execute_result"
    }
   ],
   "source": [
    "max_tag=driver.find_elements_by_xpath(\"//div[@class='common__RangeBarStyle__values d-flex justify-content-between ']/span[2]\")\n",
    "max_tag[0:4]"
   ]
  },
  {
   "cell_type": "code",
   "execution_count": 90,
   "metadata": {},
   "outputs": [
    {
     "data": {
      "text/plain": [
       "['₹1,080K',\n",
       " '₹2,147K',\n",
       " '₹11,274K',\n",
       " '₹2,648K',\n",
       " '₹1,565K',\n",
       " '₹1,500K',\n",
       " '₹1,421K',\n",
       " '₹1,644K',\n",
       " '₹1,755K',\n",
       " '₹1,500K']"
      ]
     },
     "execution_count": 90,
     "metadata": {},
     "output_type": "execute_result"
    }
   ],
   "source": [
    "for i in max_tag:\n",
    "    maxi=i.text.replace('\\n','')\n",
    "    Max_Salary.append(maxi)\n",
    "    \n",
    "Max_Salary[0:10]"
   ]
  },
  {
   "cell_type": "code",
   "execution_count": 91,
   "metadata": {},
   "outputs": [
    {
     "name": "stdout",
     "output_type": "stream",
     "text": [
      "20 20 20 20 20\n"
     ]
    }
   ],
   "source": [
    "print(len(company_names),len(number_of_salaries),len(Average_salary),len(Min_salary),len(Max_Salary))"
   ]
  },
  {
   "cell_type": "code",
   "execution_count": 92,
   "metadata": {},
   "outputs": [],
   "source": [
    "Glassdoor_jobs=pd.DataFrame({})\n",
    "Glassdoor_jobs['company_names']=company_names[:10]\n",
    "Glassdoor_jobs['number_of_salaries']=number_of_salaries[:10]\n",
    "Glassdoor_jobs['Average_salary']=Average_salary[:10]\n",
    "Glassdoor_jobs['Min_salary']=Min_salary[:10]\n",
    "Glassdoor_jobs['Max_Salary']=Max_Salary[:10]"
   ]
  },
  {
   "cell_type": "code",
   "execution_count": 93,
   "metadata": {},
   "outputs": [
    {
     "data": {
      "text/html": [
       "<div>\n",
       "<style scoped>\n",
       "    .dataframe tbody tr th:only-of-type {\n",
       "        vertical-align: middle;\n",
       "    }\n",
       "\n",
       "    .dataframe tbody tr th {\n",
       "        vertical-align: top;\n",
       "    }\n",
       "\n",
       "    .dataframe thead th {\n",
       "        text-align: right;\n",
       "    }\n",
       "</style>\n",
       "<table border=\"1\" class=\"dataframe\">\n",
       "  <thead>\n",
       "    <tr style=\"text-align: right;\">\n",
       "      <th></th>\n",
       "      <th>company_names</th>\n",
       "      <th>number_of_salaries</th>\n",
       "      <th>Average_salary</th>\n",
       "      <th>Min_salary</th>\n",
       "      <th>Max_Salary</th>\n",
       "    </tr>\n",
       "  </thead>\n",
       "  <tbody>\n",
       "    <tr>\n",
       "      <th>0</th>\n",
       "      <td>Tata Consultancy Services</td>\n",
       "      <td>14 salaries</td>\n",
       "      <td>₹ 5,97,967/yr</td>\n",
       "      <td>₹333K</td>\n",
       "      <td>₹1,080K</td>\n",
       "    </tr>\n",
       "    <tr>\n",
       "      <th>1</th>\n",
       "      <td>Accenture</td>\n",
       "      <td>14 salaries</td>\n",
       "      <td>₹ 11,12,243/yr</td>\n",
       "      <td>₹560K</td>\n",
       "      <td>₹2,147K</td>\n",
       "    </tr>\n",
       "    <tr>\n",
       "      <th>2</th>\n",
       "      <td>Delhivery</td>\n",
       "      <td>14 salaries</td>\n",
       "      <td>₹ 12,12,741/yr</td>\n",
       "      <td>₹436K</td>\n",
       "      <td>₹11,274K</td>\n",
       "    </tr>\n",
       "    <tr>\n",
       "      <th>3</th>\n",
       "      <td>IBM</td>\n",
       "      <td>13 salaries</td>\n",
       "      <td>₹ 7,37,972/yr</td>\n",
       "      <td>₹569K</td>\n",
       "      <td>₹2,648K</td>\n",
       "    </tr>\n",
       "    <tr>\n",
       "      <th>4</th>\n",
       "      <td>Ericsson-Worldwide</td>\n",
       "      <td>12 salaries</td>\n",
       "      <td>₹ 7,15,984/yr</td>\n",
       "      <td>₹350K</td>\n",
       "      <td>₹1,565K</td>\n",
       "    </tr>\n",
       "    <tr>\n",
       "      <th>5</th>\n",
       "      <td>UnitedHealth Group</td>\n",
       "      <td>10 salaries</td>\n",
       "      <td>₹ 13,41,900/yr</td>\n",
       "      <td>₹1,037K</td>\n",
       "      <td>₹1,500K</td>\n",
       "    </tr>\n",
       "    <tr>\n",
       "      <th>6</th>\n",
       "      <td>Valiance Solutions</td>\n",
       "      <td>9 salaries</td>\n",
       "      <td>₹ 7,90,812/yr</td>\n",
       "      <td>₹487K</td>\n",
       "      <td>₹1,421K</td>\n",
       "    </tr>\n",
       "    <tr>\n",
       "      <th>7</th>\n",
       "      <td>Innovaccer</td>\n",
       "      <td>8 salaries</td>\n",
       "      <td>₹ 11,81,047/yr</td>\n",
       "      <td>₹602K</td>\n",
       "      <td>₹1,644K</td>\n",
       "    </tr>\n",
       "    <tr>\n",
       "      <th>8</th>\n",
       "      <td>ZS Associates</td>\n",
       "      <td>7 salaries</td>\n",
       "      <td>₹ 9,89,924/yr</td>\n",
       "      <td>₹196K</td>\n",
       "      <td>₹1,755K</td>\n",
       "    </tr>\n",
       "    <tr>\n",
       "      <th>9</th>\n",
       "      <td>EXL Service</td>\n",
       "      <td>7 salaries</td>\n",
       "      <td>₹ 11,73,127/yr</td>\n",
       "      <td>₹558K</td>\n",
       "      <td>₹1,500K</td>\n",
       "    </tr>\n",
       "  </tbody>\n",
       "</table>\n",
       "</div>"
      ],
      "text/plain": [
       "               company_names number_of_salaries  Average_salary Min_salary  \\\n",
       "0  Tata Consultancy Services        14 salaries   ₹ 5,97,967/yr      ₹333K   \n",
       "1                  Accenture        14 salaries  ₹ 11,12,243/yr      ₹560K   \n",
       "2                  Delhivery        14 salaries  ₹ 12,12,741/yr      ₹436K   \n",
       "3                        IBM        13 salaries   ₹ 7,37,972/yr      ₹569K   \n",
       "4         Ericsson-Worldwide        12 salaries   ₹ 7,15,984/yr      ₹350K   \n",
       "5         UnitedHealth Group        10 salaries  ₹ 13,41,900/yr    ₹1,037K   \n",
       "6         Valiance Solutions         9 salaries   ₹ 7,90,812/yr      ₹487K   \n",
       "7                 Innovaccer         8 salaries  ₹ 11,81,047/yr      ₹602K   \n",
       "8              ZS Associates         7 salaries   ₹ 9,89,924/yr      ₹196K   \n",
       "9                EXL Service         7 salaries  ₹ 11,73,127/yr      ₹558K   \n",
       "\n",
       "  Max_Salary  \n",
       "0    ₹1,080K  \n",
       "1    ₹2,147K  \n",
       "2   ₹11,274K  \n",
       "3    ₹2,648K  \n",
       "4    ₹1,565K  \n",
       "5    ₹1,500K  \n",
       "6    ₹1,421K  \n",
       "7    ₹1,644K  \n",
       "8    ₹1,755K  \n",
       "9    ₹1,500K  "
      ]
     },
     "execution_count": 93,
     "metadata": {},
     "output_type": "execute_result"
    }
   ],
   "source": [
    "Glassdoor_jobs"
   ]
  },
  {
   "cell_type": "markdown",
   "metadata": {},
   "source": [
    "Q6 : Scrape data of first 100 sunglasses listings on flipkart.com. You have to scrape four attributes:\n",
    "1. Brand\n",
    "2. Product Description\n",
    "3. Price\n",
    "4. Discount %\n",
    "The attributes which you have to scrape is ticked marked in the below image.\n",
    "To scrape the data you have to go through following steps:\n",
    "1. Go to flipkart webpage by url https://www.flipkart.com/\n",
    "2. Enter “sunglasses” in the search field where “search for products, brands and more” is written and click the search icon\n",
    "3. after that you will reach to a webpage having a lot of sunglasses. From this page you can scrap the required data as usual.\n",
    "4. after scraping data from the first page, go to the “Next” Button at the bottom of the page , then click on it.\n",
    "5. Now scrape data from this page as usual\n",
    "6. repeat this until you get data for 100 sunglasses."
   ]
  },
  {
   "cell_type": "code",
   "execution_count": 94,
   "metadata": {},
   "outputs": [],
   "source": [
    "driver=webdriver.Chrome(r\"C://Chromedriver.exe\")"
   ]
  },
  {
   "cell_type": "code",
   "execution_count": 95,
   "metadata": {},
   "outputs": [],
   "source": [
    "driver.get(\"https://www.flipkart.com/\")"
   ]
  },
  {
   "cell_type": "code",
   "execution_count": 96,
   "metadata": {},
   "outputs": [],
   "source": [
    "search_loc=driver.find_element_by_xpath(\"//input[@type='text']\")\n",
    "search_loc.send_keys('sunglasses')"
   ]
  },
  {
   "cell_type": "code",
   "execution_count": 97,
   "metadata": {},
   "outputs": [],
   "source": [
    "button=driver.find_element_by_xpath(\"//button[@type='submit']\")\n",
    "button.click()"
   ]
  },
  {
   "cell_type": "code",
   "execution_count": 98,
   "metadata": {},
   "outputs": [],
   "source": [
    "url='https://www.flipkart.com/search?q=sunglasses&otracker=search&otracker1=search&marketplace=FLIPKART&as-show=on&as=off'"
   ]
  },
  {
   "cell_type": "code",
   "execution_count": 99,
   "metadata": {},
   "outputs": [],
   "source": [
    "driver.get(url)"
   ]
  },
  {
   "cell_type": "code",
   "execution_count": 100,
   "metadata": {},
   "outputs": [],
   "source": [
    "Brand=[]\n",
    "Product_description=[]\n",
    "Price=[]\n",
    "Discount=[]"
   ]
  },
  {
   "cell_type": "code",
   "execution_count": 101,
   "metadata": {},
   "outputs": [
    {
     "data": {
      "text/plain": [
       "[<selenium.webdriver.remote.webelement.WebElement (session=\"a0523a199a51d3f38e2dbfdb51991cdd\", element=\"5c06d935-6262-4601-bc32-3102f8585b28\")>,\n",
       " <selenium.webdriver.remote.webelement.WebElement (session=\"a0523a199a51d3f38e2dbfdb51991cdd\", element=\"88011773-147a-424c-96a1-32bab941dc85\")>,\n",
       " <selenium.webdriver.remote.webelement.WebElement (session=\"a0523a199a51d3f38e2dbfdb51991cdd\", element=\"4f33b342-0170-4b11-b82e-00b4bffbdf6c\")>,\n",
       " <selenium.webdriver.remote.webelement.WebElement (session=\"a0523a199a51d3f38e2dbfdb51991cdd\", element=\"028aaff1-5abe-47f9-939b-0840f703d11b\")>]"
      ]
     },
     "execution_count": 101,
     "metadata": {},
     "output_type": "execute_result"
    }
   ],
   "source": [
    "brand_tags=driver.find_elements_by_xpath(\"//div[@class='_2WkVRV']\")\n",
    "brand_tags[0:4]"
   ]
  },
  {
   "cell_type": "code",
   "execution_count": 102,
   "metadata": {},
   "outputs": [
    {
     "data": {
      "text/plain": [
       "['Aislin', 'NuVew', 'Fastrack', 'Fastrack']"
      ]
     },
     "execution_count": 102,
     "metadata": {},
     "output_type": "execute_result"
    }
   ],
   "source": [
    "for i in brand_tags:\n",
    "    title=i.text\n",
    "    Brand.append(title)\n",
    "    \n",
    "Brand[0:4]"
   ]
  },
  {
   "cell_type": "code",
   "execution_count": 103,
   "metadata": {},
   "outputs": [
    {
     "data": {
      "text/plain": [
       "[<selenium.webdriver.remote.webelement.WebElement (session=\"a0523a199a51d3f38e2dbfdb51991cdd\", element=\"3782135d-5614-44f3-8913-557273ec629d\")>,\n",
       " <selenium.webdriver.remote.webelement.WebElement (session=\"a0523a199a51d3f38e2dbfdb51991cdd\", element=\"fcdec89c-257d-4052-bc68-f101d48123eb\")>,\n",
       " <selenium.webdriver.remote.webelement.WebElement (session=\"a0523a199a51d3f38e2dbfdb51991cdd\", element=\"86cc562d-a061-4438-8c63-0cb4ad238026\")>,\n",
       " <selenium.webdriver.remote.webelement.WebElement (session=\"a0523a199a51d3f38e2dbfdb51991cdd\", element=\"69032f2a-25e6-45b5-80d2-3f3594d75883\")>]"
      ]
     },
     "execution_count": 103,
     "metadata": {},
     "output_type": "execute_result"
    }
   ],
   "source": [
    "Product_Description1=driver.find_elements_by_xpath(\"//a[@class='IRpwTa']\")\n",
    "Product_Description1[0:4]"
   ]
  },
  {
   "cell_type": "code",
   "execution_count": 104,
   "metadata": {},
   "outputs": [
    {
     "data": {
      "text/plain": [
       "['UV Protection, Gradient Cat-eye Sunglasses (58)',\n",
       " 'UV Protection, Mirrored Wayfarer, Retro Square Sunglass...',\n",
       " 'UV Protection Wayfarer Sunglasses (Free Size)',\n",
       " 'UV Protection Rectangular Sunglasses (Free Size)']"
      ]
     },
     "execution_count": 104,
     "metadata": {},
     "output_type": "execute_result"
    }
   ],
   "source": [
    "for i in Product_Description1:\n",
    "    description=i.text\n",
    "    Product_description.append(description)\n",
    "    \n",
    "Product_description[0:4]"
   ]
  },
  {
   "cell_type": "code",
   "execution_count": 105,
   "metadata": {},
   "outputs": [
    {
     "data": {
      "text/plain": [
       "[<selenium.webdriver.remote.webelement.WebElement (session=\"a0523a199a51d3f38e2dbfdb51991cdd\", element=\"f8f82faa-1868-4b3b-9204-c434e2508971\")>,\n",
       " <selenium.webdriver.remote.webelement.WebElement (session=\"a0523a199a51d3f38e2dbfdb51991cdd\", element=\"239db767-ba5b-4ff4-9008-b1d2c746659d\")>,\n",
       " <selenium.webdriver.remote.webelement.WebElement (session=\"a0523a199a51d3f38e2dbfdb51991cdd\", element=\"c181bfa4-0572-45b1-be21-2e5ed6ed47f6\")>,\n",
       " <selenium.webdriver.remote.webelement.WebElement (session=\"a0523a199a51d3f38e2dbfdb51991cdd\", element=\"c554e58d-32ad-469b-ad17-1f9696d130bc\")>]"
      ]
     },
     "execution_count": 105,
     "metadata": {},
     "output_type": "execute_result"
    }
   ],
   "source": [
    "price1=driver.find_elements_by_xpath(\"//div[@class='_30jeq3']\")\n",
    "price1[0:4]"
   ]
  },
  {
   "cell_type": "code",
   "execution_count": 106,
   "metadata": {},
   "outputs": [
    {
     "data": {
      "text/plain": [
       "['₹485', '₹317', '₹758', '₹666']"
      ]
     },
     "execution_count": 106,
     "metadata": {},
     "output_type": "execute_result"
    }
   ],
   "source": [
    "for i in price1:\n",
    "    pri=i.text\n",
    "    Price.append(pri)\n",
    "    \n",
    "Price[0:4]"
   ]
  },
  {
   "cell_type": "code",
   "execution_count": 107,
   "metadata": {},
   "outputs": [
    {
     "data": {
      "text/plain": [
       "[<selenium.webdriver.remote.webelement.WebElement (session=\"a0523a199a51d3f38e2dbfdb51991cdd\", element=\"0909f7a9-03b6-4ed4-a9e4-868fcba649f0\")>,\n",
       " <selenium.webdriver.remote.webelement.WebElement (session=\"a0523a199a51d3f38e2dbfdb51991cdd\", element=\"5c49358a-07ae-4875-ae5f-c07e0239ba54\")>,\n",
       " <selenium.webdriver.remote.webelement.WebElement (session=\"a0523a199a51d3f38e2dbfdb51991cdd\", element=\"b832dabe-b853-4814-b7b1-701b43d1d533\")>,\n",
       " <selenium.webdriver.remote.webelement.WebElement (session=\"a0523a199a51d3f38e2dbfdb51991cdd\", element=\"aac9b9dc-4014-430f-911c-28387c54e6ba\")>]"
      ]
     },
     "execution_count": 107,
     "metadata": {},
     "output_type": "execute_result"
    }
   ],
   "source": [
    "discount_tag=driver.find_elements_by_xpath(\"//div[@class='_3Ay6Sb']/span[1]\")\n",
    "discount_tag[0:4]"
   ]
  },
  {
   "cell_type": "code",
   "execution_count": 108,
   "metadata": {},
   "outputs": [
    {
     "data": {
      "text/plain": [
       "['68% off', '74% off', '15% off', '16% off']"
      ]
     },
     "execution_count": 108,
     "metadata": {},
     "output_type": "execute_result"
    }
   ],
   "source": [
    "for i in discount_tag:\n",
    "    discount=i.text\n",
    "    Discount.append(discount)\n",
    "    \n",
    "Discount[0:4]"
   ]
  },
  {
   "cell_type": "code",
   "execution_count": 109,
   "metadata": {},
   "outputs": [
    {
     "name": "stdout",
     "output_type": "stream",
     "text": [
      "40 39 40 40\n"
     ]
    }
   ],
   "source": [
    "print(len(Brand),len(Product_description),len(Price),len(Discount))"
   ]
  },
  {
   "cell_type": "code",
   "execution_count": 110,
   "metadata": {},
   "outputs": [],
   "source": [
    "button=driver.find_element_by_xpath(\"//a[@class='_1LKTO3']/span[1]\")\n",
    "button.click()"
   ]
  },
  {
   "cell_type": "code",
   "execution_count": 111,
   "metadata": {},
   "outputs": [],
   "source": [
    "url='https://www.flipkart.com/search?q=sunglasses&otracker=search&otracker1=search&marketplace=FLIPKART&as-show=on&as=off&page=2'"
   ]
  },
  {
   "cell_type": "code",
   "execution_count": 112,
   "metadata": {},
   "outputs": [],
   "source": [
    "driver.get(url)"
   ]
  },
  {
   "cell_type": "code",
   "execution_count": 113,
   "metadata": {},
   "outputs": [
    {
     "data": {
      "text/plain": [
       "[<selenium.webdriver.remote.webelement.WebElement (session=\"a0523a199a51d3f38e2dbfdb51991cdd\", element=\"d5001275-610b-4955-b60a-53e89de6cacf\")>,\n",
       " <selenium.webdriver.remote.webelement.WebElement (session=\"a0523a199a51d3f38e2dbfdb51991cdd\", element=\"3d68345a-2ba0-4c4d-bb55-05f6ff0034d9\")>,\n",
       " <selenium.webdriver.remote.webelement.WebElement (session=\"a0523a199a51d3f38e2dbfdb51991cdd\", element=\"9d6c7a0c-d2c8-4f64-8064-53b787a65b23\")>,\n",
       " <selenium.webdriver.remote.webelement.WebElement (session=\"a0523a199a51d3f38e2dbfdb51991cdd\", element=\"014126c7-26c6-41e4-a7fe-98263073462a\")>]"
      ]
     },
     "execution_count": 113,
     "metadata": {},
     "output_type": "execute_result"
    }
   ],
   "source": [
    "brand_tags=driver.find_elements_by_xpath(\"//div[@class='_2WkVRV']\")\n",
    "brand_tags[0:4]"
   ]
  },
  {
   "cell_type": "code",
   "execution_count": 114,
   "metadata": {},
   "outputs": [],
   "source": [
    "for i in brand_tags:\n",
    "    title=i.text\n",
    "    Brand.append(title)"
   ]
  },
  {
   "cell_type": "code",
   "execution_count": 115,
   "metadata": {},
   "outputs": [
    {
     "data": {
      "text/plain": [
       "[<selenium.webdriver.remote.webelement.WebElement (session=\"a0523a199a51d3f38e2dbfdb51991cdd\", element=\"e587a012-bac1-4ac7-a7d5-e48017803b06\")>,\n",
       " <selenium.webdriver.remote.webelement.WebElement (session=\"a0523a199a51d3f38e2dbfdb51991cdd\", element=\"5e3e902f-b57c-4676-8278-6ad174b1d97f\")>,\n",
       " <selenium.webdriver.remote.webelement.WebElement (session=\"a0523a199a51d3f38e2dbfdb51991cdd\", element=\"9bbc7eeb-86fa-4dcc-a16d-ae1b9795640d\")>,\n",
       " <selenium.webdriver.remote.webelement.WebElement (session=\"a0523a199a51d3f38e2dbfdb51991cdd\", element=\"3268df4e-aced-4c2b-9856-419046cf989f\")>]"
      ]
     },
     "execution_count": 115,
     "metadata": {},
     "output_type": "execute_result"
    }
   ],
   "source": [
    "Product_Description1=driver.find_elements_by_xpath(\"//a[@class='IRpwTa']\")\n",
    "Product_Description1[0:4]"
   ]
  },
  {
   "cell_type": "code",
   "execution_count": 116,
   "metadata": {},
   "outputs": [],
   "source": [
    "for i in Product_Description1:\n",
    "    description=i.text\n",
    "    Product_description.append(description)"
   ]
  },
  {
   "cell_type": "code",
   "execution_count": 117,
   "metadata": {},
   "outputs": [
    {
     "data": {
      "text/plain": [
       "[<selenium.webdriver.remote.webelement.WebElement (session=\"a0523a199a51d3f38e2dbfdb51991cdd\", element=\"c0c61e57-0a7f-4091-95e6-8e95007a380a\")>,\n",
       " <selenium.webdriver.remote.webelement.WebElement (session=\"a0523a199a51d3f38e2dbfdb51991cdd\", element=\"5301e720-51c0-4a4f-a40a-2281b3e2b511\")>,\n",
       " <selenium.webdriver.remote.webelement.WebElement (session=\"a0523a199a51d3f38e2dbfdb51991cdd\", element=\"76a94c9b-0461-47c8-a4d4-8a727d9d65a0\")>,\n",
       " <selenium.webdriver.remote.webelement.WebElement (session=\"a0523a199a51d3f38e2dbfdb51991cdd\", element=\"d0dbed38-2dfc-4bff-b83f-75a5de5a39a9\")>]"
      ]
     },
     "execution_count": 117,
     "metadata": {},
     "output_type": "execute_result"
    }
   ],
   "source": [
    "price1=driver.find_elements_by_xpath(\"//div[@class='_30jeq3']\")\n",
    "price1[0:4]"
   ]
  },
  {
   "cell_type": "code",
   "execution_count": 118,
   "metadata": {},
   "outputs": [],
   "source": [
    "for i in price1:\n",
    "    price=i.text\n",
    "    Price.append(price)"
   ]
  },
  {
   "cell_type": "code",
   "execution_count": 119,
   "metadata": {},
   "outputs": [
    {
     "data": {
      "text/plain": [
       "[<selenium.webdriver.remote.webelement.WebElement (session=\"a0523a199a51d3f38e2dbfdb51991cdd\", element=\"d5de5fc7-1214-4f0b-a80b-14dbcd2f680f\")>,\n",
       " <selenium.webdriver.remote.webelement.WebElement (session=\"a0523a199a51d3f38e2dbfdb51991cdd\", element=\"2fa9be0f-93a6-4a3f-8282-a210cb7ea5a8\")>,\n",
       " <selenium.webdriver.remote.webelement.WebElement (session=\"a0523a199a51d3f38e2dbfdb51991cdd\", element=\"ce30d531-14a8-410a-8d17-f98045f9e2b1\")>,\n",
       " <selenium.webdriver.remote.webelement.WebElement (session=\"a0523a199a51d3f38e2dbfdb51991cdd\", element=\"6ab9cff8-1929-4aff-a5c8-6f78205f5e03\")>]"
      ]
     },
     "execution_count": 119,
     "metadata": {},
     "output_type": "execute_result"
    }
   ],
   "source": [
    "discount_tag=driver.find_elements_by_xpath(\"//div[@class='_3Ay6Sb']/span[1]\")\n",
    "discount_tag[0:4]"
   ]
  },
  {
   "cell_type": "code",
   "execution_count": 120,
   "metadata": {},
   "outputs": [],
   "source": [
    "for i in discount_tag:\n",
    "    discount=i.text\n",
    "    Discount.append(discount)"
   ]
  },
  {
   "cell_type": "code",
   "execution_count": 121,
   "metadata": {},
   "outputs": [
    {
     "name": "stdout",
     "output_type": "stream",
     "text": [
      "80 77 80 80\n"
     ]
    }
   ],
   "source": [
    "print(len(Brand),len(Product_description),len(Price),len(Discount))"
   ]
  },
  {
   "cell_type": "code",
   "execution_count": 122,
   "metadata": {},
   "outputs": [],
   "source": [
    "button=driver.find_element_by_xpath(\"//a[@class='_1LKTO3'][2]/span[1]\")\n",
    "button.click()"
   ]
  },
  {
   "cell_type": "code",
   "execution_count": 123,
   "metadata": {},
   "outputs": [],
   "source": [
    "url='https://www.flipkart.com/search?q=sunglasses&otracker=search&otracker1=search&marketplace=FLIPKART&as-show=on&as=off&page=3'"
   ]
  },
  {
   "cell_type": "code",
   "execution_count": 124,
   "metadata": {},
   "outputs": [],
   "source": [
    "driver.get(url='https://www.flipkart.com/search?q=sunglasses&otracker=search&otracker1=search&marketplace=FLIPKART&as-show=on&as=off&page=3')"
   ]
  },
  {
   "cell_type": "code",
   "execution_count": 125,
   "metadata": {},
   "outputs": [
    {
     "data": {
      "text/plain": [
       "[<selenium.webdriver.remote.webelement.WebElement (session=\"a0523a199a51d3f38e2dbfdb51991cdd\", element=\"c1803d96-e57a-4a99-ba8e-602791ee6b83\")>,\n",
       " <selenium.webdriver.remote.webelement.WebElement (session=\"a0523a199a51d3f38e2dbfdb51991cdd\", element=\"3e0b4fa6-7e02-413e-bdfd-b6ff93e56c14\")>,\n",
       " <selenium.webdriver.remote.webelement.WebElement (session=\"a0523a199a51d3f38e2dbfdb51991cdd\", element=\"62b45f26-9ff8-4ccc-8f0a-954dc919ab8e\")>,\n",
       " <selenium.webdriver.remote.webelement.WebElement (session=\"a0523a199a51d3f38e2dbfdb51991cdd\", element=\"b3487113-a2d3-4d03-852d-73e16f0822b7\")>]"
      ]
     },
     "execution_count": 125,
     "metadata": {},
     "output_type": "execute_result"
    }
   ],
   "source": [
    "brand_tags=driver.find_elements_by_xpath(\"//div[@class='_2WkVRV']\")\n",
    "brand_tags[0:4]"
   ]
  },
  {
   "cell_type": "code",
   "execution_count": 126,
   "metadata": {},
   "outputs": [],
   "source": [
    "for i in brand_tags:\n",
    "    title=i.text\n",
    "    Brand.append(title)"
   ]
  },
  {
   "cell_type": "code",
   "execution_count": 127,
   "metadata": {},
   "outputs": [
    {
     "data": {
      "text/plain": [
       "[<selenium.webdriver.remote.webelement.WebElement (session=\"a0523a199a51d3f38e2dbfdb51991cdd\", element=\"8b493050-79d6-405f-b432-50c6928eda50\")>,\n",
       " <selenium.webdriver.remote.webelement.WebElement (session=\"a0523a199a51d3f38e2dbfdb51991cdd\", element=\"bade486f-f06b-47a8-b0ce-f4beb677220c\")>,\n",
       " <selenium.webdriver.remote.webelement.WebElement (session=\"a0523a199a51d3f38e2dbfdb51991cdd\", element=\"3c4f92cc-4882-42a6-a512-e56fa84c84ab\")>,\n",
       " <selenium.webdriver.remote.webelement.WebElement (session=\"a0523a199a51d3f38e2dbfdb51991cdd\", element=\"a68ff9a4-fb60-4761-9e82-39684ee19f7a\")>]"
      ]
     },
     "execution_count": 127,
     "metadata": {},
     "output_type": "execute_result"
    }
   ],
   "source": [
    "Product_Description1=driver.find_elements_by_xpath(\"//a[@class='IRpwTa']\")\n",
    "Product_Description1[0:4]"
   ]
  },
  {
   "cell_type": "code",
   "execution_count": 128,
   "metadata": {},
   "outputs": [],
   "source": [
    "for i in Product_Description1:\n",
    "    description=i.text\n",
    "    Product_description.append(description)"
   ]
  },
  {
   "cell_type": "code",
   "execution_count": 129,
   "metadata": {},
   "outputs": [
    {
     "data": {
      "text/plain": [
       "[<selenium.webdriver.remote.webelement.WebElement (session=\"a0523a199a51d3f38e2dbfdb51991cdd\", element=\"ad961de8-5648-4751-b5b4-a79b58629507\")>,\n",
       " <selenium.webdriver.remote.webelement.WebElement (session=\"a0523a199a51d3f38e2dbfdb51991cdd\", element=\"4d9077c5-d3c7-43ca-9cb8-b098582f443c\")>,\n",
       " <selenium.webdriver.remote.webelement.WebElement (session=\"a0523a199a51d3f38e2dbfdb51991cdd\", element=\"6bd612f8-bfa6-421b-aba2-10df73d0bc5d\")>,\n",
       " <selenium.webdriver.remote.webelement.WebElement (session=\"a0523a199a51d3f38e2dbfdb51991cdd\", element=\"f9f5c4dd-1c90-4d3c-b6b1-365624625016\")>]"
      ]
     },
     "execution_count": 129,
     "metadata": {},
     "output_type": "execute_result"
    }
   ],
   "source": [
    "price1=driver.find_elements_by_xpath(\"//div[@class='_30jeq3']\")\n",
    "price1[0:4]"
   ]
  },
  {
   "cell_type": "code",
   "execution_count": 130,
   "metadata": {},
   "outputs": [],
   "source": [
    "for i in price1:\n",
    "    price=i.text\n",
    "    Price.append(price)"
   ]
  },
  {
   "cell_type": "code",
   "execution_count": 131,
   "metadata": {},
   "outputs": [
    {
     "data": {
      "text/plain": [
       "[<selenium.webdriver.remote.webelement.WebElement (session=\"a0523a199a51d3f38e2dbfdb51991cdd\", element=\"f3b7cf0c-bb31-4f62-bce1-ef53e67695e8\")>,\n",
       " <selenium.webdriver.remote.webelement.WebElement (session=\"a0523a199a51d3f38e2dbfdb51991cdd\", element=\"66d25d48-0271-4084-b8b8-4a769a68acf4\")>,\n",
       " <selenium.webdriver.remote.webelement.WebElement (session=\"a0523a199a51d3f38e2dbfdb51991cdd\", element=\"4aa87d01-99c7-4a50-b73e-9eef7945b71e\")>,\n",
       " <selenium.webdriver.remote.webelement.WebElement (session=\"a0523a199a51d3f38e2dbfdb51991cdd\", element=\"8941f56a-ed1e-438d-a478-edf8c03a4d42\")>]"
      ]
     },
     "execution_count": 131,
     "metadata": {},
     "output_type": "execute_result"
    }
   ],
   "source": [
    "discount_tag=driver.find_elements_by_xpath(\"//div[@class='_3Ay6Sb']/span[1]\")\n",
    "discount_tag[0:4]"
   ]
  },
  {
   "cell_type": "code",
   "execution_count": 132,
   "metadata": {},
   "outputs": [],
   "source": [
    "for i in discount_tag:\n",
    "    discount=i.text\n",
    "    Discount.append(discount)"
   ]
  },
  {
   "cell_type": "code",
   "execution_count": 133,
   "metadata": {},
   "outputs": [
    {
     "name": "stdout",
     "output_type": "stream",
     "text": [
      "120 115 120 120\n"
     ]
    }
   ],
   "source": [
    "print(len(Brand),len(Product_description),len(Price),len(Discount))"
   ]
  },
  {
   "cell_type": "code",
   "execution_count": 134,
   "metadata": {},
   "outputs": [],
   "source": [
    "sunglasses=pd.DataFrame({})\n",
    "sunglasses['Brand']=Brand[:100]\n",
    "sunglasses['Product_Description']=Product_description[:100]\n",
    "sunglasses['Price']=Price[:100]\n",
    "sunglasses['Discount']=Discount[:100]"
   ]
  },
  {
   "cell_type": "code",
   "execution_count": 135,
   "metadata": {},
   "outputs": [
    {
     "data": {
      "text/html": [
       "<div>\n",
       "<style scoped>\n",
       "    .dataframe tbody tr th:only-of-type {\n",
       "        vertical-align: middle;\n",
       "    }\n",
       "\n",
       "    .dataframe tbody tr th {\n",
       "        vertical-align: top;\n",
       "    }\n",
       "\n",
       "    .dataframe thead th {\n",
       "        text-align: right;\n",
       "    }\n",
       "</style>\n",
       "<table border=\"1\" class=\"dataframe\">\n",
       "  <thead>\n",
       "    <tr style=\"text-align: right;\">\n",
       "      <th></th>\n",
       "      <th>Brand</th>\n",
       "      <th>Product_Description</th>\n",
       "      <th>Price</th>\n",
       "      <th>Discount</th>\n",
       "    </tr>\n",
       "  </thead>\n",
       "  <tbody>\n",
       "    <tr>\n",
       "      <th>0</th>\n",
       "      <td>Aislin</td>\n",
       "      <td>UV Protection, Gradient Cat-eye Sunglasses (58)</td>\n",
       "      <td>₹485</td>\n",
       "      <td>68% off</td>\n",
       "    </tr>\n",
       "    <tr>\n",
       "      <th>1</th>\n",
       "      <td>NuVew</td>\n",
       "      <td>UV Protection, Mirrored Wayfarer, Retro Square...</td>\n",
       "      <td>₹317</td>\n",
       "      <td>74% off</td>\n",
       "    </tr>\n",
       "    <tr>\n",
       "      <th>2</th>\n",
       "      <td>Fastrack</td>\n",
       "      <td>UV Protection Wayfarer Sunglasses (Free Size)</td>\n",
       "      <td>₹758</td>\n",
       "      <td>15% off</td>\n",
       "    </tr>\n",
       "    <tr>\n",
       "      <th>3</th>\n",
       "      <td>Fastrack</td>\n",
       "      <td>UV Protection Rectangular Sunglasses (Free Size)</td>\n",
       "      <td>₹666</td>\n",
       "      <td>16% off</td>\n",
       "    </tr>\n",
       "    <tr>\n",
       "      <th>4</th>\n",
       "      <td>PIRASO</td>\n",
       "      <td>UV Protection Aviator Sunglasses (54)</td>\n",
       "      <td>₹225</td>\n",
       "      <td>85% off</td>\n",
       "    </tr>\n",
       "    <tr>\n",
       "      <th>...</th>\n",
       "      <td>...</td>\n",
       "      <td>...</td>\n",
       "      <td>...</td>\n",
       "      <td>...</td>\n",
       "    </tr>\n",
       "    <tr>\n",
       "      <th>95</th>\n",
       "      <td>Aislin</td>\n",
       "      <td>UV Protection Rectangular Sunglasses (Free Size)</td>\n",
       "      <td>₹495</td>\n",
       "      <td>67% off</td>\n",
       "    </tr>\n",
       "    <tr>\n",
       "      <th>96</th>\n",
       "      <td>ROZZETTA CRAFT</td>\n",
       "      <td>UV Protection Aviator Sunglasses (Free Size)</td>\n",
       "      <td>₹426</td>\n",
       "      <td>84% off</td>\n",
       "    </tr>\n",
       "    <tr>\n",
       "      <th>97</th>\n",
       "      <td>Aislin</td>\n",
       "      <td>UV Protection Retro Square Sunglasses (Free Size)</td>\n",
       "      <td>₹475</td>\n",
       "      <td>72% off</td>\n",
       "    </tr>\n",
       "    <tr>\n",
       "      <th>98</th>\n",
       "      <td>NuVew</td>\n",
       "      <td>UV Protection, Gradient Wayfarer Sunglasses (57)</td>\n",
       "      <td>₹355</td>\n",
       "      <td>71% off</td>\n",
       "    </tr>\n",
       "    <tr>\n",
       "      <th>99</th>\n",
       "      <td>Aislin</td>\n",
       "      <td>UV Protection Wayfarer, Rectangular Sunglasses...</td>\n",
       "      <td>₹1,087</td>\n",
       "      <td>73% off</td>\n",
       "    </tr>\n",
       "  </tbody>\n",
       "</table>\n",
       "<p>100 rows × 4 columns</p>\n",
       "</div>"
      ],
      "text/plain": [
       "             Brand                                Product_Description   Price  \\\n",
       "0           Aislin    UV Protection, Gradient Cat-eye Sunglasses (58)    ₹485   \n",
       "1            NuVew  UV Protection, Mirrored Wayfarer, Retro Square...    ₹317   \n",
       "2         Fastrack      UV Protection Wayfarer Sunglasses (Free Size)    ₹758   \n",
       "3         Fastrack   UV Protection Rectangular Sunglasses (Free Size)    ₹666   \n",
       "4           PIRASO              UV Protection Aviator Sunglasses (54)    ₹225   \n",
       "..             ...                                                ...     ...   \n",
       "95          Aislin   UV Protection Rectangular Sunglasses (Free Size)    ₹495   \n",
       "96  ROZZETTA CRAFT       UV Protection Aviator Sunglasses (Free Size)    ₹426   \n",
       "97          Aislin  UV Protection Retro Square Sunglasses (Free Size)    ₹475   \n",
       "98           NuVew   UV Protection, Gradient Wayfarer Sunglasses (57)    ₹355   \n",
       "99          Aislin  UV Protection Wayfarer, Rectangular Sunglasses...  ₹1,087   \n",
       "\n",
       "   Discount  \n",
       "0   68% off  \n",
       "1   74% off  \n",
       "2   15% off  \n",
       "3   16% off  \n",
       "4   85% off  \n",
       "..      ...  \n",
       "95  67% off  \n",
       "96  84% off  \n",
       "97  72% off  \n",
       "98  71% off  \n",
       "99  73% off  \n",
       "\n",
       "[100 rows x 4 columns]"
      ]
     },
     "execution_count": 135,
     "metadata": {},
     "output_type": "execute_result"
    }
   ],
   "source": [
    "sunglasses"
   ]
  },
  {
   "cell_type": "markdown",
   "metadata": {},
   "source": [
    "Q7: Scrape 100 reviews data from flipkart.com for iphone11 phone. You have to go the link: https://www.flipkart.com/apple-iphone-11-black-64-gb-includes-earpods-power-adapter/p/itm0f37c2240b217?pid=MOBFKCTSVZAXUHGR&lid=LSTMOBFKCTSVZAXUHGREPBFGI&marketplace.\n",
    "When you will open the above link you will reach to the below shown webpage.As shown in the above page you have to scrape the tick marked attributes.\n",
    "These are\n",
    "1. Rating\n",
    "2. Review_summary\n",
    "3. Full review\n",
    "You have to scrape this data for first 100 reviews.\n"
   ]
  },
  {
   "cell_type": "code",
   "execution_count": 136,
   "metadata": {},
   "outputs": [],
   "source": [
    "driver = webdriver.Chrome(r\"C://Chromedriver.exe\")"
   ]
  },
  {
   "cell_type": "code",
   "execution_count": 137,
   "metadata": {},
   "outputs": [],
   "source": [
    "driver.get(\"https://www.flipkart.com/apple-iphone-11-black-64-gb-includes-earpods-power-adapter/p/itm0f37c2240b217?pid=MOBFKCTSVZAXUHGR&lid=LSTMOBFKCTSVZAXUHGREPBFGI&marketplace\")"
   ]
  },
  {
   "cell_type": "code",
   "execution_count": 138,
   "metadata": {},
   "outputs": [],
   "source": [
    "review_tag=driver.find_element_by_xpath(\"//div[@class='_3UAT2v _16PBlm']/span\")\n",
    "review_tag.click()"
   ]
  },
  {
   "cell_type": "code",
   "execution_count": 139,
   "metadata": {},
   "outputs": [],
   "source": [
    "Rating=[]\n",
    "Review_summary=[]\n",
    "Full_review=[]"
   ]
  },
  {
   "cell_type": "code",
   "execution_count": 140,
   "metadata": {},
   "outputs": [],
   "source": [
    "url='https://www.flipkart.com/apple-iphone-11-black-64-gb-includes-earpods-power-adapter/product-reviews/itm0f37c2240b217?pid=MOBFKCTSVZAXUHGR&lid=LSTMOBFKCTSVZAXUHGREPBFGI&marketplace=FLIPKART'"
   ]
  },
  {
   "cell_type": "code",
   "execution_count": 141,
   "metadata": {},
   "outputs": [],
   "source": [
    "start_page=0\n",
    "end_page=1\n",
    "urls=[]\n",
    "for page in range(start_page,end_page+1):\n",
    "    driver.get(url)\n",
    "    prod_urls=driver.find_elements_by_xpath(\"//a[@class='ge-49M _2Kfbh8']|//a[@class='ge-49M']\")\n",
    "    for prod in prod_urls:\n",
    "        urls.append(prod.get_attribute('href'))"
   ]
  },
  {
   "cell_type": "code",
   "execution_count": 142,
   "metadata": {},
   "outputs": [
    {
     "data": {
      "text/plain": [
       "['https://www.flipkart.com/apple-iphone-11-black-64-gb-includes-earpods-power-adapter/product-reviews/itm0f37c2240b217?pid=MOBFKCTSVZAXUHGR&lid=LSTMOBFKCTSVZAXUHGREPBFGI&marketplace=FLIPKART&page=1',\n",
       " 'https://www.flipkart.com/apple-iphone-11-black-64-gb-includes-earpods-power-adapter/product-reviews/itm0f37c2240b217?pid=MOBFKCTSVZAXUHGR&lid=LSTMOBFKCTSVZAXUHGREPBFGI&marketplace=FLIPKART&page=2',\n",
       " 'https://www.flipkart.com/apple-iphone-11-black-64-gb-includes-earpods-power-adapter/product-reviews/itm0f37c2240b217?pid=MOBFKCTSVZAXUHGR&lid=LSTMOBFKCTSVZAXUHGREPBFGI&marketplace=FLIPKART&page=3',\n",
       " 'https://www.flipkart.com/apple-iphone-11-black-64-gb-includes-earpods-power-adapter/product-reviews/itm0f37c2240b217?pid=MOBFKCTSVZAXUHGR&lid=LSTMOBFKCTSVZAXUHGREPBFGI&marketplace=FLIPKART&page=4',\n",
       " 'https://www.flipkart.com/apple-iphone-11-black-64-gb-includes-earpods-power-adapter/product-reviews/itm0f37c2240b217?pid=MOBFKCTSVZAXUHGR&lid=LSTMOBFKCTSVZAXUHGREPBFGI&marketplace=FLIPKART&page=5',\n",
       " 'https://www.flipkart.com/apple-iphone-11-black-64-gb-includes-earpods-power-adapter/product-reviews/itm0f37c2240b217?pid=MOBFKCTSVZAXUHGR&lid=LSTMOBFKCTSVZAXUHGREPBFGI&marketplace=FLIPKART&page=6',\n",
       " 'https://www.flipkart.com/apple-iphone-11-black-64-gb-includes-earpods-power-adapter/product-reviews/itm0f37c2240b217?pid=MOBFKCTSVZAXUHGR&lid=LSTMOBFKCTSVZAXUHGREPBFGI&marketplace=FLIPKART&page=7',\n",
       " 'https://www.flipkart.com/apple-iphone-11-black-64-gb-includes-earpods-power-adapter/product-reviews/itm0f37c2240b217?pid=MOBFKCTSVZAXUHGR&lid=LSTMOBFKCTSVZAXUHGREPBFGI&marketplace=FLIPKART&page=8',\n",
       " 'https://www.flipkart.com/apple-iphone-11-black-64-gb-includes-earpods-power-adapter/product-reviews/itm0f37c2240b217?pid=MOBFKCTSVZAXUHGR&lid=LSTMOBFKCTSVZAXUHGREPBFGI&marketplace=FLIPKART&page=9',\n",
       " 'https://www.flipkart.com/apple-iphone-11-black-64-gb-includes-earpods-power-adapter/product-reviews/itm0f37c2240b217?pid=MOBFKCTSVZAXUHGR&lid=LSTMOBFKCTSVZAXUHGREPBFGI&marketplace=FLIPKART&page=10']"
      ]
     },
     "execution_count": 142,
     "metadata": {},
     "output_type": "execute_result"
    }
   ],
   "source": [
    "urls=urls[:10]\n",
    "urls"
   ]
  },
  {
   "cell_type": "code",
   "execution_count": 143,
   "metadata": {},
   "outputs": [
    {
     "data": {
      "text/plain": [
       "['5', '5', '5', '5']"
      ]
     },
     "execution_count": 143,
     "metadata": {},
     "output_type": "execute_result"
    }
   ],
   "source": [
    "for i in urls:\n",
    "        driver.get(i)\n",
    "        rating=driver.find_elements_by_xpath(\"//div[@class='_3LWZlK _1BLPMq']\")\n",
    "        for element in rating:\n",
    "            if element is not None:\n",
    "                Rating.append(element.text)\n",
    "            else:\n",
    "                Rating.append('-')\n",
    "                \n",
    "Rating[:4]"
   ]
  },
  {
   "cell_type": "code",
   "execution_count": 144,
   "metadata": {},
   "outputs": [
    {
     "data": {
      "text/plain": [
       "['Brilliant', 'Perfect product!', 'Great product', 'Worth every penny']"
      ]
     },
     "execution_count": 144,
     "metadata": {},
     "output_type": "execute_result"
    }
   ],
   "source": [
    "for i in urls:\n",
    "        driver.get(i)\n",
    "        review=driver.find_elements_by_xpath(\"//p[@class='_2-N8zT']\")\n",
    "        for j in review:\n",
    "            if j is not None:\n",
    "                Review_summary.append(j.text)\n",
    "            else:\n",
    "                Review_summary.append('-')\n",
    "                \n",
    "Review_summary[:4]"
   ]
  },
  {
   "cell_type": "code",
   "execution_count": 145,
   "metadata": {},
   "outputs": [
    {
     "data": {
      "text/plain": [
       "['The Best Phone for the Money\\n\\nThe iPhone 11 offers superb cameras, a more durable design and excellent battery life for an affordable price.\\n\\nCompelling ultra-wide camera\\nNew Night mode is excellent\\nLong battery life',\n",
       " 'Amazing phone with great cameras and better battery which gives you the best performance. I just love the camera .',\n",
       " 'Amazing Powerful and Durable Gadget.\\n\\nI’m am very happy with the camera picture quality, Amazing face id unlocked in dark room, Strong battery with perfect screen size as you can carry easily in pocket. This is my third iPhone.\\n\\nI shifted from android Samsung Note series to iPhone because of the strong build quality and peace of mind for next 3-4 years.\\n\\nDon’t think to much just go for it and I suggest you to go for minimum 128gb variant or more 256gb.\\n\\nI’ve attached my puppy pics and no fi...\\nREAD MORE',\n",
       " 'Previously I was using one plus 3t it was a great phone\\nAnd then I decided to upgrade I am stuck between Samsung s10 plus or iPhone 11\\nI have seen the specs and everything were good except the display it’s somewhere between 720-1080 and it’s not even an amoled it’s an LCD display\\nBut I decided to go with iPhone because I have never used an IOS device I have Been an android user from the past 9 years I ordered IPhone 11 (128gb) product red\\nMy experience after using 3 weeks\\n1. The delivery ...\\nREAD MORE']"
      ]
     },
     "execution_count": 145,
     "metadata": {},
     "output_type": "execute_result"
    }
   ],
   "source": [
    "for i in urls:\n",
    "        driver.get(i)\n",
    "        freview=driver.find_elements_by_xpath(\"//div[@class='t-ZTKy']\")\n",
    "        for j in freview:\n",
    "            if j is not None:\n",
    "                Full_review.append(j.text)\n",
    "            else:\n",
    "                Full_review.append('-')\n",
    "                \n",
    "Full_review[:4]"
   ]
  },
  {
   "cell_type": "code",
   "execution_count": 146,
   "metadata": {},
   "outputs": [
    {
     "name": "stdout",
     "output_type": "stream",
     "text": [
      "99 100 100\n"
     ]
    }
   ],
   "source": [
    "print(len(Rating),len(Review_summary),len(Full_review))"
   ]
  },
  {
   "cell_type": "code",
   "execution_count": 148,
   "metadata": {},
   "outputs": [],
   "source": [
    "Iphone_review=pd.DataFrame({})\n",
    "Iphone_review['Rating']=Rating[:99]\n",
    "Iphone_review['Review_summary']=Review_summary[:99]\n",
    "Iphone_review['Full_review']=Full_review[:99]"
   ]
  },
  {
   "cell_type": "code",
   "execution_count": 149,
   "metadata": {},
   "outputs": [
    {
     "data": {
      "text/html": [
       "<div>\n",
       "<style scoped>\n",
       "    .dataframe tbody tr th:only-of-type {\n",
       "        vertical-align: middle;\n",
       "    }\n",
       "\n",
       "    .dataframe tbody tr th {\n",
       "        vertical-align: top;\n",
       "    }\n",
       "\n",
       "    .dataframe thead th {\n",
       "        text-align: right;\n",
       "    }\n",
       "</style>\n",
       "<table border=\"1\" class=\"dataframe\">\n",
       "  <thead>\n",
       "    <tr style=\"text-align: right;\">\n",
       "      <th></th>\n",
       "      <th>Rating</th>\n",
       "      <th>Review_summary</th>\n",
       "      <th>Full_review</th>\n",
       "    </tr>\n",
       "  </thead>\n",
       "  <tbody>\n",
       "    <tr>\n",
       "      <th>0</th>\n",
       "      <td>5</td>\n",
       "      <td>Brilliant</td>\n",
       "      <td>The Best Phone for the Money\\n\\nThe iPhone 11 ...</td>\n",
       "    </tr>\n",
       "    <tr>\n",
       "      <th>1</th>\n",
       "      <td>5</td>\n",
       "      <td>Perfect product!</td>\n",
       "      <td>Amazing phone with great cameras and better ba...</td>\n",
       "    </tr>\n",
       "    <tr>\n",
       "      <th>2</th>\n",
       "      <td>5</td>\n",
       "      <td>Great product</td>\n",
       "      <td>Amazing Powerful and Durable Gadget.\\n\\nI’m am...</td>\n",
       "    </tr>\n",
       "    <tr>\n",
       "      <th>3</th>\n",
       "      <td>5</td>\n",
       "      <td>Worth every penny</td>\n",
       "      <td>Previously I was using one plus 3t it was a gr...</td>\n",
       "    </tr>\n",
       "    <tr>\n",
       "      <th>4</th>\n",
       "      <td>5</td>\n",
       "      <td>Highly recommended</td>\n",
       "      <td>iphone 11 is a very good phone to buy only if ...</td>\n",
       "    </tr>\n",
       "    <tr>\n",
       "      <th>...</th>\n",
       "      <td>...</td>\n",
       "      <td>...</td>\n",
       "      <td>...</td>\n",
       "    </tr>\n",
       "    <tr>\n",
       "      <th>94</th>\n",
       "      <td>5</td>\n",
       "      <td>Wonderful</td>\n",
       "      <td>Nice value for money good and best price I pho...</td>\n",
       "    </tr>\n",
       "    <tr>\n",
       "      <th>95</th>\n",
       "      <td>5</td>\n",
       "      <td>Terrific</td>\n",
       "      <td>I got this beast today. And I must say the pic...</td>\n",
       "    </tr>\n",
       "    <tr>\n",
       "      <th>96</th>\n",
       "      <td>5</td>\n",
       "      <td>Worth every penny</td>\n",
       "      <td>iPhone is delivered on time. Display is great ...</td>\n",
       "    </tr>\n",
       "    <tr>\n",
       "      <th>97</th>\n",
       "      <td>5</td>\n",
       "      <td>Must buy!</td>\n",
       "      <td>I will just say its an awesome phone. Starting...</td>\n",
       "    </tr>\n",
       "    <tr>\n",
       "      <th>98</th>\n",
       "      <td>5</td>\n",
       "      <td>Worth every penny</td>\n",
       "      <td>Just go for it without a second thought, if yo...</td>\n",
       "    </tr>\n",
       "  </tbody>\n",
       "</table>\n",
       "<p>99 rows × 3 columns</p>\n",
       "</div>"
      ],
      "text/plain": [
       "   Rating      Review_summary  \\\n",
       "0       5           Brilliant   \n",
       "1       5    Perfect product!   \n",
       "2       5       Great product   \n",
       "3       5   Worth every penny   \n",
       "4       5  Highly recommended   \n",
       "..    ...                 ...   \n",
       "94      5           Wonderful   \n",
       "95      5            Terrific   \n",
       "96      5   Worth every penny   \n",
       "97      5           Must buy!   \n",
       "98      5   Worth every penny   \n",
       "\n",
       "                                          Full_review  \n",
       "0   The Best Phone for the Money\\n\\nThe iPhone 11 ...  \n",
       "1   Amazing phone with great cameras and better ba...  \n",
       "2   Amazing Powerful and Durable Gadget.\\n\\nI’m am...  \n",
       "3   Previously I was using one plus 3t it was a gr...  \n",
       "4   iphone 11 is a very good phone to buy only if ...  \n",
       "..                                                ...  \n",
       "94  Nice value for money good and best price I pho...  \n",
       "95  I got this beast today. And I must say the pic...  \n",
       "96  iPhone is delivered on time. Display is great ...  \n",
       "97  I will just say its an awesome phone. Starting...  \n",
       "98  Just go for it without a second thought, if yo...  \n",
       "\n",
       "[99 rows x 3 columns]"
      ]
     },
     "execution_count": 149,
     "metadata": {},
     "output_type": "execute_result"
    }
   ],
   "source": [
    "Iphone_review"
   ]
  },
  {
   "cell_type": "markdown",
   "metadata": {},
   "source": [
    "Q8: Scrape data for first 100 sneakers you find when you visit flipkart.com and search for “sneakers” in the search field.\n",
    "You have to scrape 4 attributes of each sneaker :\n",
    "1. Brand\n",
    "2. Product Description\n",
    "3. Price\n",
    "4. discount %\n",
    "As shown in the below image, you have to scrape the tick marked attributes."
   ]
  },
  {
   "cell_type": "code",
   "execution_count": 150,
   "metadata": {},
   "outputs": [],
   "source": [
    "driver = webdriver.Chrome(r\"C://Chromedriver.exe\")"
   ]
  },
  {
   "cell_type": "code",
   "execution_count": 151,
   "metadata": {},
   "outputs": [],
   "source": [
    "driver.get(\"https://www.flipkart.com/\")"
   ]
  },
  {
   "cell_type": "code",
   "execution_count": 152,
   "metadata": {},
   "outputs": [],
   "source": [
    "search_loc=driver.find_element_by_xpath(\"//input[@type='text']\")\n",
    "search_loc.send_keys('sneakers')"
   ]
  },
  {
   "cell_type": "code",
   "execution_count": 153,
   "metadata": {},
   "outputs": [],
   "source": [
    "button=driver.find_element_by_xpath(\"//button[@type='submit']\")\n",
    "button.click()"
   ]
  },
  {
   "cell_type": "code",
   "execution_count": 154,
   "metadata": {},
   "outputs": [],
   "source": [
    "url='https://www.flipkart.com/search?q=sneakers&otracker=search&otracker1=search&marketplace=FLIPKART&as-show=on&as=off'"
   ]
  },
  {
   "cell_type": "code",
   "execution_count": 155,
   "metadata": {},
   "outputs": [],
   "source": [
    "driver.get(url)"
   ]
  },
  {
   "cell_type": "code",
   "execution_count": 156,
   "metadata": {},
   "outputs": [],
   "source": [
    "Brand=[]\n",
    "Product_Description=[]\n",
    "Price=[]\n",
    "Discount=[]"
   ]
  },
  {
   "cell_type": "code",
   "execution_count": 157,
   "metadata": {},
   "outputs": [
    {
     "data": {
      "text/plain": [
       "[<selenium.webdriver.remote.webelement.WebElement (session=\"73073f9ce6647cb972f4145181cda29a\", element=\"ea922ba7-d43c-4a4d-aed3-44b8d890fbf7\")>,\n",
       " <selenium.webdriver.remote.webelement.WebElement (session=\"73073f9ce6647cb972f4145181cda29a\", element=\"e71c66ec-d9f1-4801-a4dd-fdb90f0c56de\")>,\n",
       " <selenium.webdriver.remote.webelement.WebElement (session=\"73073f9ce6647cb972f4145181cda29a\", element=\"70700b2a-0a09-4e78-8418-e08b77f10173\")>,\n",
       " <selenium.webdriver.remote.webelement.WebElement (session=\"73073f9ce6647cb972f4145181cda29a\", element=\"b96c4b2f-0833-434e-b98e-556ab532a358\")>]"
      ]
     },
     "execution_count": 157,
     "metadata": {},
     "output_type": "execute_result"
    }
   ],
   "source": [
    "brand_tags=driver.find_elements_by_xpath(\"//div[@class='_2WkVRV']\")\n",
    "brand_tags[0:4]"
   ]
  },
  {
   "cell_type": "code",
   "execution_count": 158,
   "metadata": {},
   "outputs": [
    {
     "data": {
      "text/plain": [
       "['ENJOY the celebration people', 'bluemaker', 'Chevit', 'Chevit']"
      ]
     },
     "execution_count": 158,
     "metadata": {},
     "output_type": "execute_result"
    }
   ],
   "source": [
    "for i in brand_tags:\n",
    "    brand=i.text\n",
    "    Brand.append(brand)\n",
    "Brand[0:4]"
   ]
  },
  {
   "cell_type": "code",
   "execution_count": 159,
   "metadata": {},
   "outputs": [
    {
     "data": {
      "text/plain": [
       "[<selenium.webdriver.remote.webelement.WebElement (session=\"73073f9ce6647cb972f4145181cda29a\", element=\"c79e4d06-8ac9-4cb7-867d-2b30a9d4c812\")>,\n",
       " <selenium.webdriver.remote.webelement.WebElement (session=\"73073f9ce6647cb972f4145181cda29a\", element=\"d9987a49-f71c-42b7-ac14-411caa216f51\")>,\n",
       " <selenium.webdriver.remote.webelement.WebElement (session=\"73073f9ce6647cb972f4145181cda29a\", element=\"8b29c15e-8fbb-4eda-845d-2cb128d8bd68\")>,\n",
       " <selenium.webdriver.remote.webelement.WebElement (session=\"73073f9ce6647cb972f4145181cda29a\", element=\"a9c2b926-fd4e-4339-94ab-b872f08d2f4c\")>]"
      ]
     },
     "execution_count": 159,
     "metadata": {},
     "output_type": "execute_result"
    }
   ],
   "source": [
    "product_tags=driver.find_elements_by_xpath(\"//a[@class='IRpwTa']\")\n",
    "product_tags[0:4]"
   ]
  },
  {
   "cell_type": "code",
   "execution_count": 160,
   "metadata": {},
   "outputs": [
    {
     "data": {
      "text/plain": [
       "['Sneakers For Men',\n",
       " 'casual for men Sneakers For Men',\n",
       " 'Perfect & Affordable Combo Pack of 02 Pairs Sneakers Ou...',\n",
       " 'Combo Pack of 4 Casual Sneakers With Sneakers For Men']"
      ]
     },
     "execution_count": 160,
     "metadata": {},
     "output_type": "execute_result"
    }
   ],
   "source": [
    "for i in product_tags:\n",
    "    product=i.text\n",
    "    Product_Description.append(product)\n",
    "Product_Description[0:4]"
   ]
  },
  {
   "cell_type": "code",
   "execution_count": 161,
   "metadata": {},
   "outputs": [
    {
     "data": {
      "text/plain": [
       "[<selenium.webdriver.remote.webelement.WebElement (session=\"73073f9ce6647cb972f4145181cda29a\", element=\"2233c677-aafd-4cc2-a86d-175be1ecf42d\")>,\n",
       " <selenium.webdriver.remote.webelement.WebElement (session=\"73073f9ce6647cb972f4145181cda29a\", element=\"a3f7b1c1-6134-45e7-99ef-32a9ff3b7bdb\")>,\n",
       " <selenium.webdriver.remote.webelement.WebElement (session=\"73073f9ce6647cb972f4145181cda29a\", element=\"61adadd8-6c5b-41d7-81c6-2fd6e49dd8f1\")>,\n",
       " <selenium.webdriver.remote.webelement.WebElement (session=\"73073f9ce6647cb972f4145181cda29a\", element=\"5c619f27-81d6-40b2-af3a-8f3f7c0a52fd\")>]"
      ]
     },
     "execution_count": 161,
     "metadata": {},
     "output_type": "execute_result"
    }
   ],
   "source": [
    "price1_tags=driver.find_elements_by_xpath(\"//div[@class='_30jeq3']\")\n",
    "price1_tags[0:4]"
   ]
  },
  {
   "cell_type": "code",
   "execution_count": 162,
   "metadata": {},
   "outputs": [
    {
     "data": {
      "text/plain": [
       "['₹649', '₹499', '₹499', '₹474']"
      ]
     },
     "execution_count": 162,
     "metadata": {},
     "output_type": "execute_result"
    }
   ],
   "source": [
    "for i in price1_tags:\n",
    "    price=i.text\n",
    "    Price.append(price)\n",
    "Price[0:4]"
   ]
  },
  {
   "cell_type": "code",
   "execution_count": 163,
   "metadata": {},
   "outputs": [
    {
     "data": {
      "text/plain": [
       "[<selenium.webdriver.remote.webelement.WebElement (session=\"73073f9ce6647cb972f4145181cda29a\", element=\"33deec3a-6725-48e4-897f-6d8eb7b04cfa\")>,\n",
       " <selenium.webdriver.remote.webelement.WebElement (session=\"73073f9ce6647cb972f4145181cda29a\", element=\"ce9aeb52-7231-493a-9843-ef1fc70cbcef\")>,\n",
       " <selenium.webdriver.remote.webelement.WebElement (session=\"73073f9ce6647cb972f4145181cda29a\", element=\"b5a4c9f8-1fc1-410b-81e1-50af673491e4\")>,\n",
       " <selenium.webdriver.remote.webelement.WebElement (session=\"73073f9ce6647cb972f4145181cda29a\", element=\"12cfa500-1904-4232-b2e2-3a8311337e5f\")>]"
      ]
     },
     "execution_count": 163,
     "metadata": {},
     "output_type": "execute_result"
    }
   ],
   "source": [
    "discount_tags=driver.find_elements_by_xpath(\"//div[@class='_3Ay6Sb']/span[1]\")\n",
    "discount_tags[0:4]"
   ]
  },
  {
   "cell_type": "code",
   "execution_count": 164,
   "metadata": {},
   "outputs": [
    {
     "data": {
      "text/plain": [
       "['35% off', '50% off', '72% off', '76% off']"
      ]
     },
     "execution_count": 164,
     "metadata": {},
     "output_type": "execute_result"
    }
   ],
   "source": [
    "for i in discount_tags:\n",
    "    discount=i.text\n",
    "    Discount.append(discount)\n",
    "Discount[0:4]"
   ]
  },
  {
   "cell_type": "code",
   "execution_count": 165,
   "metadata": {},
   "outputs": [
    {
     "name": "stdout",
     "output_type": "stream",
     "text": [
      "40 34 40 39\n"
     ]
    }
   ],
   "source": [
    "print(len(Brand),len(Product_Description),len(Price),len(Discount))"
   ]
  },
  {
   "cell_type": "code",
   "execution_count": 166,
   "metadata": {},
   "outputs": [],
   "source": [
    "button=driver.find_element_by_xpath(\"//a[@class='_1LKTO3']/span[1]\")\n",
    "button.click()"
   ]
  },
  {
   "cell_type": "code",
   "execution_count": 168,
   "metadata": {},
   "outputs": [],
   "source": [
    "url1='https://www.flipkart.com/search?q=sneakers&otracker=search&otracker1=search&marketplace=FLIPKART&as-show=on&as=off&page=2'"
   ]
  },
  {
   "cell_type": "code",
   "execution_count": 169,
   "metadata": {},
   "outputs": [],
   "source": [
    "driver.get(url1)"
   ]
  },
  {
   "cell_type": "code",
   "execution_count": 170,
   "metadata": {},
   "outputs": [
    {
     "data": {
      "text/plain": [
       "[<selenium.webdriver.remote.webelement.WebElement (session=\"73073f9ce6647cb972f4145181cda29a\", element=\"36700634-7eee-408e-ab68-a56e2a3e75d9\")>,\n",
       " <selenium.webdriver.remote.webelement.WebElement (session=\"73073f9ce6647cb972f4145181cda29a\", element=\"fcea54d7-bcf0-4786-a7ba-ce976bf23c2b\")>,\n",
       " <selenium.webdriver.remote.webelement.WebElement (session=\"73073f9ce6647cb972f4145181cda29a\", element=\"014af50f-09f7-4ee1-9fe9-7e6342cfcdb1\")>,\n",
       " <selenium.webdriver.remote.webelement.WebElement (session=\"73073f9ce6647cb972f4145181cda29a\", element=\"2ff0a135-1816-4e9e-95b2-b6141e7ea550\")>]"
      ]
     },
     "execution_count": 170,
     "metadata": {},
     "output_type": "execute_result"
    }
   ],
   "source": [
    "brand_tags=driver.find_elements_by_xpath(\"//div[@class='_2WkVRV']\")\n",
    "brand_tags[0:4]"
   ]
  },
  {
   "cell_type": "code",
   "execution_count": 171,
   "metadata": {},
   "outputs": [],
   "source": [
    "for i in brand_tags:\n",
    "    title=i.text\n",
    "    Brand.append(title)"
   ]
  },
  {
   "cell_type": "code",
   "execution_count": 172,
   "metadata": {},
   "outputs": [
    {
     "data": {
      "text/plain": [
       "[<selenium.webdriver.remote.webelement.WebElement (session=\"73073f9ce6647cb972f4145181cda29a\", element=\"46ba8c5b-6d6e-468a-90e3-9681a39bae69\")>,\n",
       " <selenium.webdriver.remote.webelement.WebElement (session=\"73073f9ce6647cb972f4145181cda29a\", element=\"f9eb4c46-fd5d-4c44-94f7-0f5708192cf5\")>,\n",
       " <selenium.webdriver.remote.webelement.WebElement (session=\"73073f9ce6647cb972f4145181cda29a\", element=\"3749b6e2-b2b6-42b3-8661-b6b08d239ac8\")>,\n",
       " <selenium.webdriver.remote.webelement.WebElement (session=\"73073f9ce6647cb972f4145181cda29a\", element=\"3eea3115-fe70-4919-aa30-5d18494a5a2b\")>]"
      ]
     },
     "execution_count": 172,
     "metadata": {},
     "output_type": "execute_result"
    }
   ],
   "source": [
    "Product_Description1=driver.find_elements_by_xpath(\"//a[@class='IRpwTa']|//a[@class='IRpwTa _2-ICcC']\")\n",
    "Product_Description1[0:4]"
   ]
  },
  {
   "cell_type": "code",
   "execution_count": 173,
   "metadata": {},
   "outputs": [],
   "source": [
    "for i in Product_Description1:\n",
    "    description=i.text\n",
    "    Product_Description.append(description)"
   ]
  },
  {
   "cell_type": "code",
   "execution_count": 174,
   "metadata": {},
   "outputs": [
    {
     "data": {
      "text/plain": [
       "[<selenium.webdriver.remote.webelement.WebElement (session=\"73073f9ce6647cb972f4145181cda29a\", element=\"558a91d7-6cc2-42cd-a0b6-c0cdcec8fea7\")>,\n",
       " <selenium.webdriver.remote.webelement.WebElement (session=\"73073f9ce6647cb972f4145181cda29a\", element=\"9d9ec9b4-7e8d-4fdf-8926-93523fe81cad\")>,\n",
       " <selenium.webdriver.remote.webelement.WebElement (session=\"73073f9ce6647cb972f4145181cda29a\", element=\"e64faa04-9956-4feb-9fab-4e02fc7a33a3\")>,\n",
       " <selenium.webdriver.remote.webelement.WebElement (session=\"73073f9ce6647cb972f4145181cda29a\", element=\"11211df2-9312-414f-9aa4-220658dd65f6\")>]"
      ]
     },
     "execution_count": 174,
     "metadata": {},
     "output_type": "execute_result"
    }
   ],
   "source": [
    "price1=driver.find_elements_by_xpath(\"//div[@class='_30jeq3']\")\n",
    "price1[0:4]"
   ]
  },
  {
   "cell_type": "code",
   "execution_count": 175,
   "metadata": {},
   "outputs": [],
   "source": [
    "for i in price1:\n",
    "    price=i.text\n",
    "    Price.append(price)"
   ]
  },
  {
   "cell_type": "code",
   "execution_count": 176,
   "metadata": {},
   "outputs": [
    {
     "data": {
      "text/plain": [
       "[<selenium.webdriver.remote.webelement.WebElement (session=\"73073f9ce6647cb972f4145181cda29a\", element=\"1f53a027-3df0-4069-9a8a-9de51236f851\")>,\n",
       " <selenium.webdriver.remote.webelement.WebElement (session=\"73073f9ce6647cb972f4145181cda29a\", element=\"0de50e20-92ca-4659-9259-b6127212d64d\")>,\n",
       " <selenium.webdriver.remote.webelement.WebElement (session=\"73073f9ce6647cb972f4145181cda29a\", element=\"a9b51870-d5e1-4d43-9f2e-56c072d3574a\")>,\n",
       " <selenium.webdriver.remote.webelement.WebElement (session=\"73073f9ce6647cb972f4145181cda29a\", element=\"0f709e22-7f7e-46c7-9324-df74ff6f409b\")>]"
      ]
     },
     "execution_count": 176,
     "metadata": {},
     "output_type": "execute_result"
    }
   ],
   "source": [
    "discount_tag=driver.find_elements_by_xpath(\"//div[@class='_3Ay6Sb']/span[1]\")\n",
    "discount_tag[0:4]"
   ]
  },
  {
   "cell_type": "code",
   "execution_count": 177,
   "metadata": {},
   "outputs": [],
   "source": [
    "for i in discount_tag:\n",
    "    discount=i.text\n",
    "    Discount.append(discount)"
   ]
  },
  {
   "cell_type": "code",
   "execution_count": 178,
   "metadata": {},
   "outputs": [
    {
     "name": "stdout",
     "output_type": "stream",
     "text": [
      "80 74 80 79\n"
     ]
    }
   ],
   "source": [
    "print(len(Brand),len(Product_Description),len(Price),len(Discount))"
   ]
  },
  {
   "cell_type": "code",
   "execution_count": 179,
   "metadata": {},
   "outputs": [],
   "source": [
    "button=driver.find_element_by_xpath(\"//a[@class='_1LKTO3'][2]/span[1]\")\n",
    "button.click()"
   ]
  },
  {
   "cell_type": "code",
   "execution_count": 180,
   "metadata": {},
   "outputs": [],
   "source": [
    "url2='https://www.flipkart.com/search?q=sneakers&otracker=search&otracker1=search&marketplace=FLIPKART&as-show=on&as=off&page=3'"
   ]
  },
  {
   "cell_type": "code",
   "execution_count": 181,
   "metadata": {},
   "outputs": [],
   "source": [
    "driver.get(url2)"
   ]
  },
  {
   "cell_type": "code",
   "execution_count": 182,
   "metadata": {},
   "outputs": [
    {
     "data": {
      "text/plain": [
       "[<selenium.webdriver.remote.webelement.WebElement (session=\"73073f9ce6647cb972f4145181cda29a\", element=\"dff0dae7-50ad-4837-a49a-07d01bb3942f\")>,\n",
       " <selenium.webdriver.remote.webelement.WebElement (session=\"73073f9ce6647cb972f4145181cda29a\", element=\"e8b4b170-56b0-47f8-8dc5-d3d022602635\")>,\n",
       " <selenium.webdriver.remote.webelement.WebElement (session=\"73073f9ce6647cb972f4145181cda29a\", element=\"d9728a89-0736-4e81-9f4c-f029545b0d74\")>,\n",
       " <selenium.webdriver.remote.webelement.WebElement (session=\"73073f9ce6647cb972f4145181cda29a\", element=\"46a8b0b3-2851-41a8-a433-277e69c62962\")>]"
      ]
     },
     "execution_count": 182,
     "metadata": {},
     "output_type": "execute_result"
    }
   ],
   "source": [
    "brand_tags=driver.find_elements_by_xpath(\"//div[@class='_2WkVRV']\")\n",
    "brand_tags[0:4]"
   ]
  },
  {
   "cell_type": "code",
   "execution_count": 183,
   "metadata": {},
   "outputs": [],
   "source": [
    "for i in brand_tags:\n",
    "    title=i.text\n",
    "    Brand.append(title)"
   ]
  },
  {
   "cell_type": "code",
   "execution_count": 184,
   "metadata": {},
   "outputs": [
    {
     "data": {
      "text/plain": [
       "[<selenium.webdriver.remote.webelement.WebElement (session=\"73073f9ce6647cb972f4145181cda29a\", element=\"89994e17-04fb-4bb9-92f6-3a8275b345f2\")>,\n",
       " <selenium.webdriver.remote.webelement.WebElement (session=\"73073f9ce6647cb972f4145181cda29a\", element=\"f6cbb857-c65c-4d83-ab7d-df6163c5337b\")>,\n",
       " <selenium.webdriver.remote.webelement.WebElement (session=\"73073f9ce6647cb972f4145181cda29a\", element=\"f2ababa8-2625-46a3-8941-8dd983ffee9e\")>,\n",
       " <selenium.webdriver.remote.webelement.WebElement (session=\"73073f9ce6647cb972f4145181cda29a\", element=\"cfaf4d82-38b5-45a1-afed-7ab2850b9536\")>]"
      ]
     },
     "execution_count": 184,
     "metadata": {},
     "output_type": "execute_result"
    }
   ],
   "source": [
    "Product_Description1=driver.find_elements_by_xpath(\"//a[@class='IRpwTa']|//a[@class='IRpwTa _2-ICcC']\")\n",
    "Product_Description1[0:4]"
   ]
  },
  {
   "cell_type": "code",
   "execution_count": 185,
   "metadata": {},
   "outputs": [],
   "source": [
    "for i in Product_Description1:\n",
    "    description=i.text\n",
    "    Product_Description.append(description)"
   ]
  },
  {
   "cell_type": "code",
   "execution_count": 186,
   "metadata": {},
   "outputs": [
    {
     "data": {
      "text/plain": [
       "[<selenium.webdriver.remote.webelement.WebElement (session=\"73073f9ce6647cb972f4145181cda29a\", element=\"6897ff02-b5d0-441e-a139-a588f5e481d1\")>,\n",
       " <selenium.webdriver.remote.webelement.WebElement (session=\"73073f9ce6647cb972f4145181cda29a\", element=\"abdd0835-b0d9-4e48-97b0-d4429d2fd8c1\")>,\n",
       " <selenium.webdriver.remote.webelement.WebElement (session=\"73073f9ce6647cb972f4145181cda29a\", element=\"84ecd84e-ef59-4836-81e6-6662af81d99d\")>,\n",
       " <selenium.webdriver.remote.webelement.WebElement (session=\"73073f9ce6647cb972f4145181cda29a\", element=\"0dfac44a-744e-4741-985c-28e28789b8c0\")>]"
      ]
     },
     "execution_count": 186,
     "metadata": {},
     "output_type": "execute_result"
    }
   ],
   "source": [
    "price1=driver.find_elements_by_xpath(\"//div[@class='_30jeq3']\")\n",
    "price1[0:4]"
   ]
  },
  {
   "cell_type": "code",
   "execution_count": 187,
   "metadata": {},
   "outputs": [],
   "source": [
    "for i in price1:\n",
    "    price=i.text\n",
    "    Price.append(price)"
   ]
  },
  {
   "cell_type": "code",
   "execution_count": 188,
   "metadata": {},
   "outputs": [
    {
     "data": {
      "text/plain": [
       "[<selenium.webdriver.remote.webelement.WebElement (session=\"73073f9ce6647cb972f4145181cda29a\", element=\"881d4272-73eb-453a-8db3-7cd4d338073a\")>,\n",
       " <selenium.webdriver.remote.webelement.WebElement (session=\"73073f9ce6647cb972f4145181cda29a\", element=\"ae0bf364-0151-439f-bd15-04203a2974e0\")>,\n",
       " <selenium.webdriver.remote.webelement.WebElement (session=\"73073f9ce6647cb972f4145181cda29a\", element=\"df1e9aca-e2ba-4274-880e-098013a4e2aa\")>,\n",
       " <selenium.webdriver.remote.webelement.WebElement (session=\"73073f9ce6647cb972f4145181cda29a\", element=\"b2fee8af-2078-4a09-ad98-20b9965bc11a\")>]"
      ]
     },
     "execution_count": 188,
     "metadata": {},
     "output_type": "execute_result"
    }
   ],
   "source": [
    "discount_tag=driver.find_elements_by_xpath(\"//div[@class='_3Ay6Sb']/span[1]\")\n",
    "discount_tag[0:4]"
   ]
  },
  {
   "cell_type": "code",
   "execution_count": 189,
   "metadata": {},
   "outputs": [],
   "source": [
    "for i in discount_tag:\n",
    "    discount=i.text\n",
    "    Discount.append(discount)"
   ]
  },
  {
   "cell_type": "code",
   "execution_count": 190,
   "metadata": {},
   "outputs": [
    {
     "name": "stdout",
     "output_type": "stream",
     "text": [
      "120 114 120 118\n"
     ]
    }
   ],
   "source": [
    "print(len(Brand),len(Product_Description),len(Price),len(Discount))"
   ]
  },
  {
   "cell_type": "code",
   "execution_count": 191,
   "metadata": {},
   "outputs": [],
   "source": [
    "sneakers=pd.DataFrame({})\n",
    "sneakers['Brand']=Brand[:100]\n",
    "sneakers['Product_Description']=Product_Description[:100]\n",
    "sneakers['Price']=Price[:100]\n",
    "sneakers['Discount']=Discount[:100]"
   ]
  },
  {
   "cell_type": "code",
   "execution_count": 192,
   "metadata": {},
   "outputs": [
    {
     "data": {
      "text/html": [
       "<div>\n",
       "<style scoped>\n",
       "    .dataframe tbody tr th:only-of-type {\n",
       "        vertical-align: middle;\n",
       "    }\n",
       "\n",
       "    .dataframe tbody tr th {\n",
       "        vertical-align: top;\n",
       "    }\n",
       "\n",
       "    .dataframe thead th {\n",
       "        text-align: right;\n",
       "    }\n",
       "</style>\n",
       "<table border=\"1\" class=\"dataframe\">\n",
       "  <thead>\n",
       "    <tr style=\"text-align: right;\">\n",
       "      <th></th>\n",
       "      <th>Brand</th>\n",
       "      <th>Product_Description</th>\n",
       "      <th>Price</th>\n",
       "      <th>Discount</th>\n",
       "    </tr>\n",
       "  </thead>\n",
       "  <tbody>\n",
       "    <tr>\n",
       "      <th>0</th>\n",
       "      <td>ENJOY the celebration people</td>\n",
       "      <td>Sneakers For Men</td>\n",
       "      <td>₹649</td>\n",
       "      <td>35% off</td>\n",
       "    </tr>\n",
       "    <tr>\n",
       "      <th>1</th>\n",
       "      <td>bluemaker</td>\n",
       "      <td>casual for men Sneakers For Men</td>\n",
       "      <td>₹499</td>\n",
       "      <td>50% off</td>\n",
       "    </tr>\n",
       "    <tr>\n",
       "      <th>2</th>\n",
       "      <td>Chevit</td>\n",
       "      <td>Perfect &amp; Affordable Combo Pack of 02 Pairs Sn...</td>\n",
       "      <td>₹499</td>\n",
       "      <td>72% off</td>\n",
       "    </tr>\n",
       "    <tr>\n",
       "      <th>3</th>\n",
       "      <td>Chevit</td>\n",
       "      <td>Combo Pack of 4 Casual Sneakers With Sneakers ...</td>\n",
       "      <td>₹474</td>\n",
       "      <td>76% off</td>\n",
       "    </tr>\n",
       "    <tr>\n",
       "      <th>4</th>\n",
       "      <td>Chevit</td>\n",
       "      <td>Super &amp; Trendy Men's Pack of 02 Pair Shoes for...</td>\n",
       "      <td>₹420</td>\n",
       "      <td>78% off</td>\n",
       "    </tr>\n",
       "    <tr>\n",
       "      <th>...</th>\n",
       "      <td>...</td>\n",
       "      <td>...</td>\n",
       "      <td>...</td>\n",
       "      <td>...</td>\n",
       "    </tr>\n",
       "    <tr>\n",
       "      <th>95</th>\n",
       "      <td>Tryviz</td>\n",
       "      <td>Casual Sneakers Black Shoes For Men Sneakers F...</td>\n",
       "      <td>₹266</td>\n",
       "      <td>72% off</td>\n",
       "    </tr>\n",
       "    <tr>\n",
       "      <th>96</th>\n",
       "      <td>Chevit</td>\n",
       "      <td>Puma Rebound LayUp SL Sneakers For Men</td>\n",
       "      <td>₹446</td>\n",
       "      <td>60% off</td>\n",
       "    </tr>\n",
       "    <tr>\n",
       "      <th>97</th>\n",
       "      <td>ROCKFIELD</td>\n",
       "      <td>Multicolor Casual Shoes Mesh for Men Sneakers ...</td>\n",
       "      <td>₹396</td>\n",
       "      <td>42% off</td>\n",
       "    </tr>\n",
       "    <tr>\n",
       "      <th>98</th>\n",
       "      <td>Edoeviv</td>\n",
       "      <td>casual for men (beige 06) Sneakers For Men</td>\n",
       "      <td>₹399</td>\n",
       "      <td>60% off</td>\n",
       "    </tr>\n",
       "    <tr>\n",
       "      <th>99</th>\n",
       "      <td>ROCKFIELD</td>\n",
       "      <td>Premium quality Sneakers For Men</td>\n",
       "      <td>₹396</td>\n",
       "      <td>66% off</td>\n",
       "    </tr>\n",
       "  </tbody>\n",
       "</table>\n",
       "<p>100 rows × 4 columns</p>\n",
       "</div>"
      ],
      "text/plain": [
       "                           Brand  \\\n",
       "0   ENJOY the celebration people   \n",
       "1                      bluemaker   \n",
       "2                         Chevit   \n",
       "3                         Chevit   \n",
       "4                         Chevit   \n",
       "..                           ...   \n",
       "95                        Tryviz   \n",
       "96                        Chevit   \n",
       "97                     ROCKFIELD   \n",
       "98                       Edoeviv   \n",
       "99                     ROCKFIELD   \n",
       "\n",
       "                                  Product_Description Price Discount  \n",
       "0                                    Sneakers For Men  ₹649  35% off  \n",
       "1                     casual for men Sneakers For Men  ₹499  50% off  \n",
       "2   Perfect & Affordable Combo Pack of 02 Pairs Sn...  ₹499  72% off  \n",
       "3   Combo Pack of 4 Casual Sneakers With Sneakers ...  ₹474  76% off  \n",
       "4   Super & Trendy Men's Pack of 02 Pair Shoes for...  ₹420  78% off  \n",
       "..                                                ...   ...      ...  \n",
       "95  Casual Sneakers Black Shoes For Men Sneakers F...  ₹266  72% off  \n",
       "96             Puma Rebound LayUp SL Sneakers For Men  ₹446  60% off  \n",
       "97  Multicolor Casual Shoes Mesh for Men Sneakers ...  ₹396  42% off  \n",
       "98         casual for men (beige 06) Sneakers For Men  ₹399  60% off  \n",
       "99                   Premium quality Sneakers For Men  ₹396  66% off  \n",
       "\n",
       "[100 rows x 4 columns]"
      ]
     },
     "execution_count": 192,
     "metadata": {},
     "output_type": "execute_result"
    }
   ],
   "source": [
    "sneakers"
   ]
  },
  {
   "cell_type": "markdown",
   "metadata": {},
   "source": [
    "Q9: Go to the link - https://www.myntra.com/shoes\n",
    "Set Price filter to “Rs. 6649 to Rs. 13099” , Color filter to “Black”, as shown in the below image\n",
    "And then scrape First 100 shoes data you get. The data should include “Brand” of the shoes , Short Shoe description, price of the shoe as shown in the below image.\n",
    "Please note that applying the filter and scraping the data , everything should be done through code only and there should not be any manual step."
   ]
  },
  {
   "cell_type": "code",
   "execution_count": 193,
   "metadata": {},
   "outputs": [],
   "source": [
    "driver=webdriver.Chrome(r\"C://chromedriver.exe\")"
   ]
  },
  {
   "cell_type": "code",
   "execution_count": 194,
   "metadata": {},
   "outputs": [],
   "source": [
    "driver.get(\"https://www.myntra.com/shoes\")"
   ]
  },
  {
   "cell_type": "code",
   "execution_count": 196,
   "metadata": {},
   "outputs": [],
   "source": [
    "element = driver.find_element_by_css_selector('input[value*=\"6649.0 TO 13099.0\"]') \n",
    "webdriver.ActionChains(driver).move_to_element(element ).click(element ).perform()"
   ]
  },
  {
   "cell_type": "code",
   "execution_count": 197,
   "metadata": {},
   "outputs": [],
   "source": [
    "element = driver.find_element_by_css_selector('input[value*=\"Black\"]')\n",
    "webdriver.ActionChains(driver).move_to_element(element ).click(element ).perform()"
   ]
  },
  {
   "cell_type": "code",
   "execution_count": 198,
   "metadata": {},
   "outputs": [],
   "source": [
    "url='https://www.myntra.com/shoes?f=Color%3ABlack_36454f&plaEnabled=false&rf=Price%3A6649.0_13099.0_6649.0%20TO%2013099.0'"
   ]
  },
  {
   "cell_type": "code",
   "execution_count": 199,
   "metadata": {},
   "outputs": [],
   "source": [
    "driver.get(url)"
   ]
  },
  {
   "cell_type": "code",
   "execution_count": 200,
   "metadata": {},
   "outputs": [],
   "source": [
    "Brand=[]\n",
    "Product_Description=[]\n",
    "Price=[]"
   ]
  },
  {
   "cell_type": "code",
   "execution_count": 201,
   "metadata": {},
   "outputs": [
    {
     "data": {
      "text/plain": [
       "[<selenium.webdriver.remote.webelement.WebElement (session=\"9234b65b1f10f485bb9bc8fae610594f\", element=\"8ed80765-7c6b-4ade-9304-7b71e581b90a\")>,\n",
       " <selenium.webdriver.remote.webelement.WebElement (session=\"9234b65b1f10f485bb9bc8fae610594f\", element=\"4b63c833-1752-4ac6-a24c-178173da435a\")>,\n",
       " <selenium.webdriver.remote.webelement.WebElement (session=\"9234b65b1f10f485bb9bc8fae610594f\", element=\"4cd0394f-3042-4ae2-bb1e-8739cea9672e\")>,\n",
       " <selenium.webdriver.remote.webelement.WebElement (session=\"9234b65b1f10f485bb9bc8fae610594f\", element=\"4b7d677f-1b0f-4678-b6a0-c22da0cefa0e\")>]"
      ]
     },
     "execution_count": 201,
     "metadata": {},
     "output_type": "execute_result"
    }
   ],
   "source": [
    "brand_tags=driver.find_elements_by_xpath(\"//h3[@class='product-brand']\")\n",
    "brand_tags[0:4]"
   ]
  },
  {
   "cell_type": "code",
   "execution_count": 202,
   "metadata": {},
   "outputs": [
    {
     "data": {
      "text/plain": [
       "['PUMA Motorsport', 'UNDER ARMOUR', 'Nike', 'Nike']"
      ]
     },
     "execution_count": 202,
     "metadata": {},
     "output_type": "execute_result"
    }
   ],
   "source": [
    "for i in brand_tags:\n",
    "    tags=i.text\n",
    "    Brand.append(tags)\n",
    "Brand[0:4]"
   ]
  },
  {
   "cell_type": "code",
   "execution_count": 203,
   "metadata": {},
   "outputs": [
    {
     "data": {
      "text/plain": [
       "[<selenium.webdriver.remote.webelement.WebElement (session=\"9234b65b1f10f485bb9bc8fae610594f\", element=\"23792458-73e1-45d9-877b-98789c85c61c\")>,\n",
       " <selenium.webdriver.remote.webelement.WebElement (session=\"9234b65b1f10f485bb9bc8fae610594f\", element=\"fec98000-9ae4-42f5-a54f-4da613dff7a8\")>,\n",
       " <selenium.webdriver.remote.webelement.WebElement (session=\"9234b65b1f10f485bb9bc8fae610594f\", element=\"8216efd2-c602-4661-8920-e6373ecafe59\")>,\n",
       " <selenium.webdriver.remote.webelement.WebElement (session=\"9234b65b1f10f485bb9bc8fae610594f\", element=\"3587fa1d-333a-4808-8496-e75356474b76\")>]"
      ]
     },
     "execution_count": 203,
     "metadata": {},
     "output_type": "execute_result"
    }
   ],
   "source": [
    "product_tags=driver.find_elements_by_xpath(\"//h4[@class='product-product']\")\n",
    "product_tags[0:4]"
   ]
  },
  {
   "cell_type": "code",
   "execution_count": 204,
   "metadata": {},
   "outputs": [
    {
     "data": {
      "text/plain": [
       "['Unisex Mercedes Running Shoes',\n",
       " 'Men HOVR STRT Sportstyle Shoes',\n",
       " 'Men JOYRIDE Running Shoes',\n",
       " 'Women Running Shoes']"
      ]
     },
     "execution_count": 204,
     "metadata": {},
     "output_type": "execute_result"
    }
   ],
   "source": [
    "for i in product_tags:\n",
    "    product=i.text\n",
    "    Product_Description.append(product)\n",
    "Product_Description[0:4]"
   ]
  },
  {
   "cell_type": "code",
   "execution_count": 205,
   "metadata": {},
   "outputs": [
    {
     "data": {
      "text/plain": [
       "[<selenium.webdriver.remote.webelement.WebElement (session=\"9234b65b1f10f485bb9bc8fae610594f\", element=\"8e26b708-ecf9-4f2b-99d7-0ff2a9da806f\")>,\n",
       " <selenium.webdriver.remote.webelement.WebElement (session=\"9234b65b1f10f485bb9bc8fae610594f\", element=\"b984e881-55d6-46af-9dd2-d489514ea93a\")>,\n",
       " <selenium.webdriver.remote.webelement.WebElement (session=\"9234b65b1f10f485bb9bc8fae610594f\", element=\"a721f470-2da2-4a80-becc-b04ef55eae78\")>,\n",
       " <selenium.webdriver.remote.webelement.WebElement (session=\"9234b65b1f10f485bb9bc8fae610594f\", element=\"b4221f10-a770-47ca-83cf-99cce204eb19\")>]"
      ]
     },
     "execution_count": 205,
     "metadata": {},
     "output_type": "execute_result"
    }
   ],
   "source": [
    "price_tags=driver.find_elements_by_xpath(\"//div[@class='product-price']\")\n",
    "price_tags[0:4]"
   ]
  },
  {
   "cell_type": "code",
   "execution_count": 206,
   "metadata": {},
   "outputs": [
    {
     "data": {
      "text/plain": [
       "['Rs. 7999',\n",
       " 'Rs. 9999',\n",
       " 'Rs. 10496Rs. 14995(30% OFF)',\n",
       " 'Rs. 7796Rs. 11995(35% OFF)']"
      ]
     },
     "execution_count": 206,
     "metadata": {},
     "output_type": "execute_result"
    }
   ],
   "source": [
    "for i in price_tags:\n",
    "    tag=i.text\n",
    "    Price.append(tag)\n",
    "Price[0:4]"
   ]
  },
  {
   "cell_type": "code",
   "execution_count": 207,
   "metadata": {},
   "outputs": [
    {
     "name": "stdout",
     "output_type": "stream",
     "text": [
      "50 50 50\n"
     ]
    }
   ],
   "source": [
    "print(len(Brand),len(Product_Description),len(Price))"
   ]
  },
  {
   "cell_type": "code",
   "execution_count": 208,
   "metadata": {},
   "outputs": [],
   "source": [
    "button=driver.find_element_by_xpath(\"//li[@class='pagination-number']\")\n",
    "button.click()"
   ]
  },
  {
   "cell_type": "code",
   "execution_count": 209,
   "metadata": {},
   "outputs": [
    {
     "data": {
      "text/plain": [
       "[<selenium.webdriver.remote.webelement.WebElement (session=\"9234b65b1f10f485bb9bc8fae610594f\", element=\"8ddc000b-9a5c-460a-b245-b08493059c1c\")>,\n",
       " <selenium.webdriver.remote.webelement.WebElement (session=\"9234b65b1f10f485bb9bc8fae610594f\", element=\"67cffec0-35ed-4fca-8c62-28e5532a7ad7\")>,\n",
       " <selenium.webdriver.remote.webelement.WebElement (session=\"9234b65b1f10f485bb9bc8fae610594f\", element=\"965b64c9-ecad-44e2-9886-90ee5cfba31f\")>,\n",
       " <selenium.webdriver.remote.webelement.WebElement (session=\"9234b65b1f10f485bb9bc8fae610594f\", element=\"4544caa4-2c28-4bf4-a5be-5cf3d0b5c630\")>]"
      ]
     },
     "execution_count": 209,
     "metadata": {},
     "output_type": "execute_result"
    }
   ],
   "source": [
    "brand_tags=driver.find_elements_by_xpath(\"//h3[@class='product-brand']\")\n",
    "brand_tags[0:4]"
   ]
  },
  {
   "cell_type": "code",
   "execution_count": 210,
   "metadata": {},
   "outputs": [],
   "source": [
    "for i in brand_tags:\n",
    "    tags=i.text\n",
    "    Brand.append(tags)"
   ]
  },
  {
   "cell_type": "code",
   "execution_count": 211,
   "metadata": {},
   "outputs": [
    {
     "data": {
      "text/plain": [
       "[<selenium.webdriver.remote.webelement.WebElement (session=\"9234b65b1f10f485bb9bc8fae610594f\", element=\"fceb5522-b4a4-44d8-9c5e-faa51d12e391\")>,\n",
       " <selenium.webdriver.remote.webelement.WebElement (session=\"9234b65b1f10f485bb9bc8fae610594f\", element=\"10d4cac9-7171-4776-83a4-b079d46886cd\")>,\n",
       " <selenium.webdriver.remote.webelement.WebElement (session=\"9234b65b1f10f485bb9bc8fae610594f\", element=\"ce40ae00-e886-4672-b628-d898e19c36e2\")>,\n",
       " <selenium.webdriver.remote.webelement.WebElement (session=\"9234b65b1f10f485bb9bc8fae610594f\", element=\"8f699152-4031-4d8a-aca5-45d908f290cb\")>]"
      ]
     },
     "execution_count": 211,
     "metadata": {},
     "output_type": "execute_result"
    }
   ],
   "source": [
    "product_tags=driver.find_elements_by_xpath(\"//h4[@class='product-product']\")\n",
    "product_tags[0:4]"
   ]
  },
  {
   "cell_type": "code",
   "execution_count": 212,
   "metadata": {},
   "outputs": [],
   "source": [
    "for i in product_tags:\n",
    "    product=i.text\n",
    "    Product_Description.append(product)"
   ]
  },
  {
   "cell_type": "code",
   "execution_count": 213,
   "metadata": {},
   "outputs": [
    {
     "data": {
      "text/plain": [
       "[<selenium.webdriver.remote.webelement.WebElement (session=\"9234b65b1f10f485bb9bc8fae610594f\", element=\"78aa123e-c912-4fd5-8177-b2b0ab46e171\")>,\n",
       " <selenium.webdriver.remote.webelement.WebElement (session=\"9234b65b1f10f485bb9bc8fae610594f\", element=\"1e306e29-e5de-4cf7-9102-3a5ea59ac007\")>,\n",
       " <selenium.webdriver.remote.webelement.WebElement (session=\"9234b65b1f10f485bb9bc8fae610594f\", element=\"d3d8202b-e9a7-4585-9832-d5804e39bd6f\")>,\n",
       " <selenium.webdriver.remote.webelement.WebElement (session=\"9234b65b1f10f485bb9bc8fae610594f\", element=\"c0b2df05-58f8-452e-9baf-080799f54e62\")>]"
      ]
     },
     "execution_count": 213,
     "metadata": {},
     "output_type": "execute_result"
    }
   ],
   "source": [
    "price_tags=driver.find_elements_by_xpath(\"//div[@class='product-price']\")\n",
    "price_tags[0:4]"
   ]
  },
  {
   "cell_type": "code",
   "execution_count": 214,
   "metadata": {},
   "outputs": [],
   "source": [
    "for i in price_tags:\n",
    "    tag=i.text\n",
    "    Price.append(tag)"
   ]
  },
  {
   "cell_type": "code",
   "execution_count": 215,
   "metadata": {},
   "outputs": [
    {
     "name": "stdout",
     "output_type": "stream",
     "text": [
      "100 100 100\n"
     ]
    }
   ],
   "source": [
    "print(len(Brand),len(Product_Description),len(Price))"
   ]
  },
  {
   "cell_type": "code",
   "execution_count": 216,
   "metadata": {},
   "outputs": [],
   "source": [
    "Myntra_Shoes=pd.DataFrame({})\n",
    "Myntra_Shoes['Brand']=Brand[:99]\n",
    "Myntra_Shoes['Product_Description']=Product_Description[:99]\n",
    "Myntra_Shoes['Price']=Price[:99]"
   ]
  },
  {
   "cell_type": "code",
   "execution_count": 217,
   "metadata": {},
   "outputs": [
    {
     "data": {
      "text/html": [
       "<div>\n",
       "<style scoped>\n",
       "    .dataframe tbody tr th:only-of-type {\n",
       "        vertical-align: middle;\n",
       "    }\n",
       "\n",
       "    .dataframe tbody tr th {\n",
       "        vertical-align: top;\n",
       "    }\n",
       "\n",
       "    .dataframe thead th {\n",
       "        text-align: right;\n",
       "    }\n",
       "</style>\n",
       "<table border=\"1\" class=\"dataframe\">\n",
       "  <thead>\n",
       "    <tr style=\"text-align: right;\">\n",
       "      <th></th>\n",
       "      <th>Brand</th>\n",
       "      <th>Product_Description</th>\n",
       "      <th>Price</th>\n",
       "    </tr>\n",
       "  </thead>\n",
       "  <tbody>\n",
       "    <tr>\n",
       "      <th>0</th>\n",
       "      <td>PUMA Motorsport</td>\n",
       "      <td>Unisex Mercedes Running Shoes</td>\n",
       "      <td>Rs. 7999</td>\n",
       "    </tr>\n",
       "    <tr>\n",
       "      <th>1</th>\n",
       "      <td>UNDER ARMOUR</td>\n",
       "      <td>Men HOVR STRT Sportstyle Shoes</td>\n",
       "      <td>Rs. 9999</td>\n",
       "    </tr>\n",
       "    <tr>\n",
       "      <th>2</th>\n",
       "      <td>Nike</td>\n",
       "      <td>Men JOYRIDE Running Shoes</td>\n",
       "      <td>Rs. 10496Rs. 14995(30% OFF)</td>\n",
       "    </tr>\n",
       "    <tr>\n",
       "      <th>3</th>\n",
       "      <td>Nike</td>\n",
       "      <td>Women Running Shoes</td>\n",
       "      <td>Rs. 7796Rs. 11995(35% OFF)</td>\n",
       "    </tr>\n",
       "    <tr>\n",
       "      <th>4</th>\n",
       "      <td>Nike</td>\n",
       "      <td>Men AIR ZOOM Running Shoes</td>\n",
       "      <td>Rs. 10796Rs. 13495(20% OFF)</td>\n",
       "    </tr>\n",
       "    <tr>\n",
       "      <th>...</th>\n",
       "      <td>...</td>\n",
       "      <td>...</td>\n",
       "      <td>...</td>\n",
       "    </tr>\n",
       "    <tr>\n",
       "      <th>94</th>\n",
       "      <td>Geox</td>\n",
       "      <td>Women Solid Leather Flats</td>\n",
       "      <td>Rs. 9990</td>\n",
       "    </tr>\n",
       "    <tr>\n",
       "      <th>95</th>\n",
       "      <td>Cole Haan</td>\n",
       "      <td>Women Woven Design Sneakers</td>\n",
       "      <td>Rs. 7499Rs. 14999(50% OFF)</td>\n",
       "    </tr>\n",
       "    <tr>\n",
       "      <th>96</th>\n",
       "      <td>Ruosh</td>\n",
       "      <td>Men Formal Leather Brogues</td>\n",
       "      <td>Rs. 7490</td>\n",
       "    </tr>\n",
       "    <tr>\n",
       "      <th>97</th>\n",
       "      <td>Geox</td>\n",
       "      <td>Men Leather Formal Oxfords</td>\n",
       "      <td>Rs. 10490</td>\n",
       "    </tr>\n",
       "    <tr>\n",
       "      <th>98</th>\n",
       "      <td>Geox</td>\n",
       "      <td>Men Leather Formal Oxfords</td>\n",
       "      <td>Rs. 12490</td>\n",
       "    </tr>\n",
       "  </tbody>\n",
       "</table>\n",
       "<p>99 rows × 3 columns</p>\n",
       "</div>"
      ],
      "text/plain": [
       "              Brand             Product_Description  \\\n",
       "0   PUMA Motorsport   Unisex Mercedes Running Shoes   \n",
       "1      UNDER ARMOUR  Men HOVR STRT Sportstyle Shoes   \n",
       "2              Nike       Men JOYRIDE Running Shoes   \n",
       "3              Nike             Women Running Shoes   \n",
       "4              Nike      Men AIR ZOOM Running Shoes   \n",
       "..              ...                             ...   \n",
       "94             Geox       Women Solid Leather Flats   \n",
       "95        Cole Haan     Women Woven Design Sneakers   \n",
       "96            Ruosh      Men Formal Leather Brogues   \n",
       "97             Geox      Men Leather Formal Oxfords   \n",
       "98             Geox      Men Leather Formal Oxfords   \n",
       "\n",
       "                          Price  \n",
       "0                      Rs. 7999  \n",
       "1                      Rs. 9999  \n",
       "2   Rs. 10496Rs. 14995(30% OFF)  \n",
       "3    Rs. 7796Rs. 11995(35% OFF)  \n",
       "4   Rs. 10796Rs. 13495(20% OFF)  \n",
       "..                          ...  \n",
       "94                     Rs. 9990  \n",
       "95   Rs. 7499Rs. 14999(50% OFF)  \n",
       "96                     Rs. 7490  \n",
       "97                    Rs. 10490  \n",
       "98                    Rs. 12490  \n",
       "\n",
       "[99 rows x 3 columns]"
      ]
     },
     "execution_count": 217,
     "metadata": {},
     "output_type": "execute_result"
    }
   ],
   "source": [
    "Myntra_Shoes"
   ]
  },
  {
   "cell_type": "markdown",
   "metadata": {},
   "source": [
    "Q10: Go to webpage https://www.amazon.in/\n",
    "Enter “Laptop” in the search field and then click the search icon.\n",
    "Then set CPU Type filter to “Intel Core i7” and “Intel Core i9” as shown in the below image:\n",
    "After setting the filters scrape first 10 laptops data. You have to scrape 3 attributes for each laptop:\n",
    "1. title\n",
    "2. Ratings\n",
    "3. Price\n",
    "As shown in the below image as the tick marked attributes.\n"
   ]
  },
  {
   "cell_type": "code",
   "execution_count": 218,
   "metadata": {},
   "outputs": [],
   "source": [
    "driver=webdriver.Chrome(r\"C://Chromedriver.exe\")"
   ]
  },
  {
   "cell_type": "code",
   "execution_count": 219,
   "metadata": {},
   "outputs": [],
   "source": [
    "driver.get(\"https://www.amazon.in/\")"
   ]
  },
  {
   "cell_type": "code",
   "execution_count": 220,
   "metadata": {},
   "outputs": [],
   "source": [
    "search_laptop=driver.find_element_by_id('twotabsearchtextbox')\n",
    "search_laptop.send_keys('Laptop')"
   ]
  },
  {
   "cell_type": "code",
   "execution_count": 221,
   "metadata": {},
   "outputs": [],
   "source": [
    "search=driver.find_element_by_id('nav-search-submit-button')\n",
    "search.click()"
   ]
  },
  {
   "cell_type": "code",
   "execution_count": 223,
   "metadata": {},
   "outputs": [],
   "source": [
    "xpathtitle='//*[@id=\"p_n_feature_thirteen_browse-bin/12598163031\"]/span/a/div'"
   ]
  },
  {
   "cell_type": "code",
   "execution_count": 224,
   "metadata": {},
   "outputs": [],
   "source": [
    "title=driver.find_element_by_xpath(xpathtitle)\n",
    "titletext=title.get_attribute('innerHTML').splitlines()[0]\n",
    "title.click()"
   ]
  },
  {
   "cell_type": "code",
   "execution_count": 229,
   "metadata": {},
   "outputs": [],
   "source": [
    "xpathtitle1='//*[@id=\"p_n_feature_thirteen_browse-bin/16757432031\"]/span/a/div'"
   ]
  },
  {
   "cell_type": "code",
   "execution_count": 230,
   "metadata": {},
   "outputs": [],
   "source": [
    "title1=driver.find_element_by_xpath(xpathtitle1)\n",
    "titletext1=title1.get_attribute('innerHTML').splitlines()[0]\n",
    "title1.click()"
   ]
  },
  {
   "cell_type": "code",
   "execution_count": 231,
   "metadata": {},
   "outputs": [],
   "source": [
    "Title=[]\n",
    "Rating=[]\n",
    "Price=[]"
   ]
  },
  {
   "cell_type": "code",
   "execution_count": 234,
   "metadata": {},
   "outputs": [
    {
     "data": {
      "text/plain": [
       "[<selenium.webdriver.remote.webelement.WebElement (session=\"9e95b54db4262beca02cc629e43c0c46\", element=\"f9cf4d4a-c18d-41b2-89a9-3e5a6b990870\")>,\n",
       " <selenium.webdriver.remote.webelement.WebElement (session=\"9e95b54db4262beca02cc629e43c0c46\", element=\"16c4716a-db98-4417-9fe1-dec894798d69\")>,\n",
       " <selenium.webdriver.remote.webelement.WebElement (session=\"9e95b54db4262beca02cc629e43c0c46\", element=\"736546bc-ded1-42e7-af08-39d20ca8647b\")>,\n",
       " <selenium.webdriver.remote.webelement.WebElement (session=\"9e95b54db4262beca02cc629e43c0c46\", element=\"04cc90fa-51f9-479f-9476-424bdd28ac8a\")>]"
      ]
     },
     "execution_count": 234,
     "metadata": {},
     "output_type": "execute_result"
    }
   ],
   "source": [
    "title_tags=driver.find_elements_by_xpath(\"//h2[@class='a-size-mini a-spacing-none a-color-base s-line-clamp-2']\")\n",
    "title_tags[0:4]"
   ]
  },
  {
   "cell_type": "code",
   "execution_count": 236,
   "metadata": {},
   "outputs": [
    {
     "data": {
      "text/plain": [
       "['ASUS ZenBook Pro Duo Intel Core i9-10980HK 10th Gen 15.6\" 4K UHD OLED Touchscreen Laptop (32GB RAM/1TB NVMe SSD/Windows 10/6GB NVIDIA GeForce RTX 2060 Graphics/Celestial Blue/2.5 Kg), UX581LV-H2035T',\n",
       " 'ASUS ROG G703GI-E5148T 17.3-inch FHD 144Hz/3ms Gaming Laptop (8th Gen Intel Core i9-8950HK/64GB/2TB SSHD + 1.5TB NVMe SSD/Windows 10/GTX 1080 8GB Graphics/4.70 Kg), Aluminum',\n",
       " 'Dell XPS 9570 15.6-inch UHD Laptop (8th Gen i9-8950HK/32GB/1TB SSD/Win 10 + MS Office/Integrated Graphics), Silver',\n",
       " 'ASUS ZenBook Pro Duo UX581 Intel Core i9 9th Gen 15.6\" 4K UHD OLED Touchscreen Laptop (32GB RAM/1TB NVMe SSD/Windows 10/6GB GDDR6 Graphics Card/ScreenPad Plus/Celestial Blue/2.50 Kg), UX581GV-H9201T']"
      ]
     },
     "execution_count": 236,
     "metadata": {},
     "output_type": "execute_result"
    }
   ],
   "source": [
    "for i in title_tags:\n",
    "    tags=i.text\n",
    "    Title.append(tags)\n",
    "Title[0:4]"
   ]
  },
  {
   "cell_type": "code",
   "execution_count": 240,
   "metadata": {},
   "outputs": [
    {
     "data": {
      "text/plain": [
       "[<selenium.webdriver.remote.webelement.WebElement (session=\"9e95b54db4262beca02cc629e43c0c46\", element=\"37849651-adbe-4b1d-bcf1-2dde0f6eb45f\")>,\n",
       " <selenium.webdriver.remote.webelement.WebElement (session=\"9e95b54db4262beca02cc629e43c0c46\", element=\"c13b50e4-0fec-490f-aac7-dd4d759db6f7\")>,\n",
       " <selenium.webdriver.remote.webelement.WebElement (session=\"9e95b54db4262beca02cc629e43c0c46\", element=\"f0a99355-a7ee-454c-84b8-c7b9be28d778\")>,\n",
       " <selenium.webdriver.remote.webelement.WebElement (session=\"9e95b54db4262beca02cc629e43c0c46\", element=\"77e765d8-d414-41ed-a1aa-f608a61ac2d0\")>]"
      ]
     },
     "execution_count": 240,
     "metadata": {},
     "output_type": "execute_result"
    }
   ],
   "source": [
    "rating_tag=driver.find_elements_by_xpath(\"//span[@class='a-icon-alt']\")\n",
    "rating_tag[0:4]"
   ]
  },
  {
   "cell_type": "code",
   "execution_count": 241,
   "metadata": {},
   "outputs": [
    {
     "data": {
      "text/plain": [
       "['3', '27', '23', '34']"
      ]
     },
     "execution_count": 241,
     "metadata": {},
     "output_type": "execute_result"
    }
   ],
   "source": [
    "for i in rating_tag:\n",
    "    tag=i.text\n",
    "    Rating.append(tag)\n",
    "Rating[0:4]"
   ]
  },
  {
   "cell_type": "code",
   "execution_count": 242,
   "metadata": {},
   "outputs": [
    {
     "data": {
      "text/plain": [
       "[<selenium.webdriver.remote.webelement.WebElement (session=\"9e95b54db4262beca02cc629e43c0c46\", element=\"a503d2fd-0ae9-4170-840f-8de9a26322d5\")>,\n",
       " <selenium.webdriver.remote.webelement.WebElement (session=\"9e95b54db4262beca02cc629e43c0c46\", element=\"25433bdd-6ec6-4302-a1d0-2f2fa7629ed2\")>,\n",
       " <selenium.webdriver.remote.webelement.WebElement (session=\"9e95b54db4262beca02cc629e43c0c46\", element=\"e1ff1ec7-cc72-4562-b595-7ce0e6d41373\")>,\n",
       " <selenium.webdriver.remote.webelement.WebElement (session=\"9e95b54db4262beca02cc629e43c0c46\", element=\"0ac0e208-6ca9-4f29-84c8-a00da3c36bf8\")>]"
      ]
     },
     "execution_count": 242,
     "metadata": {},
     "output_type": "execute_result"
    }
   ],
   "source": [
    "price_tag=driver.find_elements_by_xpath(\"//span[@class='a-price-whole']\")\n",
    "price_tag[0:4]"
   ]
  },
  {
   "cell_type": "code",
   "execution_count": 243,
   "metadata": {},
   "outputs": [
    {
     "data": {
      "text/plain": [
       "['2,77,390', '5,22,077', '2,27,200', '2,69,990']"
      ]
     },
     "execution_count": 243,
     "metadata": {},
     "output_type": "execute_result"
    }
   ],
   "source": [
    " for i in price_tag:\n",
    "        tag=i.text\n",
    "        Price.append(tag)\n",
    "Price[0:4]"
   ]
  },
  {
   "cell_type": "code",
   "execution_count": 244,
   "metadata": {},
   "outputs": [
    {
     "name": "stdout",
     "output_type": "stream",
     "text": [
      "22 36 14\n"
     ]
    }
   ],
   "source": [
    "print(len(Title),len(Rating),len(Price))"
   ]
  },
  {
   "cell_type": "code",
   "execution_count": 245,
   "metadata": {},
   "outputs": [],
   "source": [
    "Laptop=pd.DataFrame({})\n",
    "Laptop[\"Title\"]=Title[:10]\n",
    "Laptop[\"Rating\"]=Rating[:10]\n",
    "Laptop[\"Price\"]=Price[:10]"
   ]
  },
  {
   "cell_type": "code",
   "execution_count": 246,
   "metadata": {},
   "outputs": [
    {
     "data": {
      "text/html": [
       "<div>\n",
       "<style scoped>\n",
       "    .dataframe tbody tr th:only-of-type {\n",
       "        vertical-align: middle;\n",
       "    }\n",
       "\n",
       "    .dataframe tbody tr th {\n",
       "        vertical-align: top;\n",
       "    }\n",
       "\n",
       "    .dataframe thead th {\n",
       "        text-align: right;\n",
       "    }\n",
       "</style>\n",
       "<table border=\"1\" class=\"dataframe\">\n",
       "  <thead>\n",
       "    <tr style=\"text-align: right;\">\n",
       "      <th></th>\n",
       "      <th>Title</th>\n",
       "      <th>Rating</th>\n",
       "      <th>Price</th>\n",
       "    </tr>\n",
       "  </thead>\n",
       "  <tbody>\n",
       "    <tr>\n",
       "      <th>0</th>\n",
       "      <td>ASUS ZenBook Pro Duo Intel Core i9-10980HK 10t...</td>\n",
       "      <td>3</td>\n",
       "      <td>2,77,390</td>\n",
       "    </tr>\n",
       "    <tr>\n",
       "      <th>1</th>\n",
       "      <td>ASUS ROG G703GI-E5148T 17.3-inch FHD 144Hz/3ms...</td>\n",
       "      <td>27</td>\n",
       "      <td>5,22,077</td>\n",
       "    </tr>\n",
       "    <tr>\n",
       "      <th>2</th>\n",
       "      <td>Dell XPS 9570 15.6-inch UHD Laptop (8th Gen i9...</td>\n",
       "      <td>23</td>\n",
       "      <td>2,27,200</td>\n",
       "    </tr>\n",
       "    <tr>\n",
       "      <th>3</th>\n",
       "      <td>ASUS ZenBook Pro Duo UX581 Intel Core i9 9th G...</td>\n",
       "      <td>34</td>\n",
       "      <td>2,69,990</td>\n",
       "    </tr>\n",
       "    <tr>\n",
       "      <th>4</th>\n",
       "      <td>ASUS ROG Strix Scar 17 (2020), 17.3\" FHD 300Hz...</td>\n",
       "      <td>7</td>\n",
       "      <td>2,78,639</td>\n",
       "    </tr>\n",
       "    <tr>\n",
       "      <th>5</th>\n",
       "      <td>ASUS ROG Strix Scar 15 (2020), 15.6\" FHD 300Hz...</td>\n",
       "      <td>6</td>\n",
       "      <td>1,99,738</td>\n",
       "    </tr>\n",
       "    <tr>\n",
       "      <th>6</th>\n",
       "      <td>Dell Alienware m15(R3) 15.6-inch UHD Gaming La...</td>\n",
       "      <td>15</td>\n",
       "      <td>3,42,990</td>\n",
       "    </tr>\n",
       "    <tr>\n",
       "      <th>7</th>\n",
       "      <td>Dell Alienware 17 Area 51 9thGeneration Corei9...</td>\n",
       "      <td>7</td>\n",
       "      <td>2,06,990</td>\n",
       "    </tr>\n",
       "    <tr>\n",
       "      <th>8</th>\n",
       "      <td>Dell G7 7500 15.6inch FHD 300 Hz Display Gamin...</td>\n",
       "      <td>1</td>\n",
       "      <td>2,62,990</td>\n",
       "    </tr>\n",
       "    <tr>\n",
       "      <th>9</th>\n",
       "      <td>Lenovo Legion 7 10th Gen Intel Core i9 15.6 in...</td>\n",
       "      <td>2</td>\n",
       "      <td>2,07,992</td>\n",
       "    </tr>\n",
       "  </tbody>\n",
       "</table>\n",
       "</div>"
      ],
      "text/plain": [
       "                                               Title Rating     Price\n",
       "0  ASUS ZenBook Pro Duo Intel Core i9-10980HK 10t...      3  2,77,390\n",
       "1  ASUS ROG G703GI-E5148T 17.3-inch FHD 144Hz/3ms...     27  5,22,077\n",
       "2  Dell XPS 9570 15.6-inch UHD Laptop (8th Gen i9...     23  2,27,200\n",
       "3  ASUS ZenBook Pro Duo UX581 Intel Core i9 9th G...     34  2,69,990\n",
       "4  ASUS ROG Strix Scar 17 (2020), 17.3\" FHD 300Hz...      7  2,78,639\n",
       "5  ASUS ROG Strix Scar 15 (2020), 15.6\" FHD 300Hz...      6  1,99,738\n",
       "6  Dell Alienware m15(R3) 15.6-inch UHD Gaming La...     15  3,42,990\n",
       "7  Dell Alienware 17 Area 51 9thGeneration Corei9...      7  2,06,990\n",
       "8  Dell G7 7500 15.6inch FHD 300 Hz Display Gamin...      1  2,62,990\n",
       "9  Lenovo Legion 7 10th Gen Intel Core i9 15.6 in...      2  2,07,992"
      ]
     },
     "execution_count": 246,
     "metadata": {},
     "output_type": "execute_result"
    }
   ],
   "source": [
    "Laptop"
   ]
  },
  {
   "cell_type": "code",
   "execution_count": null,
   "metadata": {},
   "outputs": [],
   "source": []
  }
 ],
 "metadata": {
  "kernelspec": {
   "display_name": "Python 3",
   "language": "python",
   "name": "python3"
  },
  "language_info": {
   "codemirror_mode": {
    "name": "ipython",
    "version": 3
   },
   "file_extension": ".py",
   "mimetype": "text/x-python",
   "name": "python",
   "nbconvert_exporter": "python",
   "pygments_lexer": "ipython3",
   "version": "3.8.3"
  }
 },
 "nbformat": 4,
 "nbformat_minor": 4
}
